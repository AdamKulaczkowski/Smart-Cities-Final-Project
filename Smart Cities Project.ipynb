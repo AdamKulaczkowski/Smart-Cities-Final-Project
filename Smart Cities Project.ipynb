{
 "cells": [
  {
   "cell_type": "code",
   "execution_count": 31,
   "id": "previous-deadline",
   "metadata": {
    "scrolled": true
   },
   "outputs": [
    {
     "name": "stderr",
     "output_type": "stream",
     "text": [
      "\u001b[32m\u001b[1m  Resolving\u001b[22m\u001b[39m package versions...\n",
      "\u001b[32m\u001b[1mNo Changes\u001b[22m\u001b[39m to `~/.julia/environments/v1.5/Project.toml`\n",
      "\u001b[32m\u001b[1mNo Changes\u001b[22m\u001b[39m to `~/.julia/environments/v1.5/Manifest.toml`\n",
      "\u001b[32m\u001b[1m  Resolving\u001b[22m\u001b[39m package versions...\n",
      "\u001b[32m\u001b[1mNo Changes\u001b[22m\u001b[39m to `~/.julia/environments/v1.5/Project.toml`\n",
      "\u001b[32m\u001b[1mNo Changes\u001b[22m\u001b[39m to `~/.julia/environments/v1.5/Manifest.toml`\n"
     ]
    }
   ],
   "source": [
    "# load necessary packages\n",
    "import Pkg; Pkg.add(\"PrettyTables\"); Pkg.add(\"VegaLite\")\n",
    "using JuMP, GLPK\n",
    "using Plots; plotly();\n",
    "using VegaLite  # to make some nice plots\n",
    "using DataFrames, CSV, PrettyTables\n",
    "ENV[\"COLUMNS\"]=120;"
   ]
  },
  {
   "cell_type": "code",
   "execution_count": 32,
   "id": "ignored-particular",
   "metadata": {},
   "outputs": [],
   "source": [
    "gen_info = CSV.read(\"GeneratorsWithRamp.csv\", DataFrame);\n",
    "fuels = CSV.read(\"Fuels_dataSmartCities.csv\", DataFrame);\n",
    "loads = CSV.read(\"Demandfinal.csv\", DataFrame);\n",
    "gen_variable = CSV.read(\"Generator_variability.csv\", DataFrame);\n",
    "\n",
    "# Rename all columns to lowercase (by convention)\n",
    "for f in [gen_info, fuels, loads, gen_variable]\n",
    "    rename!(f,lowercase.(names(f)))\n",
    "end"
   ]
  },
  {
   "cell_type": "code",
   "execution_count": 33,
   "id": "central-accommodation",
   "metadata": {},
   "outputs": [
    {
     "data": {
      "text/html": [
       "<table class=\"data-frame\"><thead><tr><th></th><th>r_id</th><th>resource</th><th>name</th><th>existing_cap_mw</th><th>num_units</th><th>cap_size</th><th>var_om_cost_per_mwh</th><th>var_om_cost_per_mwh_in</th></tr><tr><th></th><th>Int64</th><th>String</th><th>String</th><th>Float64</th><th>Int64</th><th>Float64</th><th>Int64</th><th>Int64</th></tr></thead><tbody><p>25 rows × 12 columns (omitted printing of 4 columns)</p><tr><th>1</th><td>1</td><td>WT</td><td>Steel Winds Wind Farm</td><td>20.0</td><td>1</td><td>20.0</td><td>0</td><td>0</td></tr><tr><th>2</th><td>2</td><td>WT</td><td>Steel Winds II</td><td>15.0</td><td>1</td><td>15.0</td><td>0</td><td>0</td></tr><tr><th>3</th><td>3</td><td>PV</td><td>Steel Sun 2 2303-III-2 Hamburg Tpke</td><td>2.0</td><td>1</td><td>2.0</td><td>0</td><td>0</td></tr><tr><th>4</th><td>4</td><td>PV</td><td>Steel Sun 2 2303-III-4 Hamburg Tpke</td><td>2.0</td><td>1</td><td>2.0</td><td>0</td><td>0</td></tr><tr><th>5</th><td>5</td><td>PV</td><td>Steel Sun 2 2303-III-9 Hamburg Tpke</td><td>2.0</td><td>1</td><td>2.0</td><td>0</td><td>0</td></tr><tr><th>6</th><td>6</td><td>WT</td><td>High Sheldon</td><td>112.5</td><td>1</td><td>112.5</td><td>0</td><td>0</td></tr><tr><th>7</th><td>7</td><td>CC</td><td>Fossil-Fuel Generation</td><td>2000.0</td><td>1</td><td>2000.0</td><td>3</td><td>0</td></tr><tr><th>8</th><td>8</td><td>BM</td><td>Covanta Niagara I, LLC</td><td>36.0</td><td>1</td><td>36.0</td><td>0</td><td>0</td></tr><tr><th>9</th><td>9</td><td>HY</td><td>Hydraulic Race</td><td>2.8</td><td>1</td><td>2.8</td><td>0</td><td>0</td></tr><tr><th>10</th><td>10</td><td>PV</td><td>AES Tonawanda Solar LLC</td><td>2.0</td><td>1</td><td>2.0</td><td>0</td><td>0</td></tr><tr><th>11</th><td>11</td><td>HY</td><td>Robert Moses Niagara</td><td>422.66</td><td>1</td><td>422.663</td><td>0</td><td>0</td></tr><tr><th>12</th><td>12</td><td>BM</td><td>Chaffee Gas Recovery</td><td>6.4</td><td>1</td><td>6.4</td><td>0</td><td>0</td></tr><tr><th>13</th><td>13</td><td>PS</td><td>Lewiston Niagara</td><td>240.0</td><td>1</td><td>240.0</td><td>0</td><td>0</td></tr><tr><th>14</th><td>14</td><td>PV</td><td>Pearl CSG</td><td>4.0</td><td>1</td><td>4.0</td><td>0</td><td>0</td></tr><tr><th>15</th><td>15</td><td>PV</td><td>Ransomville Solar 1, LLC</td><td>5.0</td><td>1</td><td>5.0</td><td>0</td><td>0</td></tr><tr><th>16</th><td>16</td><td>WT</td><td>Seneca Nation Cattaraugus Wind Turbine</td><td>1.5</td><td>1</td><td>1.5</td><td>0</td><td>0</td></tr><tr><th>17</th><td>17</td><td>WT</td><td>Noble Wethersfield Windpark LLC</td><td>126.0</td><td>1</td><td>126.0</td><td>0</td><td>0</td></tr><tr><th>18</th><td>18</td><td>WT</td><td>Wethersfield Wind Farm</td><td>6.6</td><td>1</td><td>6.6</td><td>0</td><td>0</td></tr><tr><th>19</th><td>19</td><td>PV</td><td>Call Farms 1, 61470</td><td>2.0</td><td>1</td><td>2.0</td><td>0</td><td>0</td></tr><tr><th>20</th><td>20</td><td>WT</td><td>Noble Bliss Windpark LLC</td><td>100.5</td><td>1</td><td>100.5</td><td>0</td><td>0</td></tr><tr><th>21</th><td>21</td><td>PV</td><td>Call Farms 3, 61471</td><td>2.0</td><td>1</td><td>2.0</td><td>0</td><td>0</td></tr><tr><th>22</th><td>22</td><td>PV</td><td>Lichtenthal, 61469</td><td>2.0</td><td>1</td><td>2.0</td><td>0</td><td>0</td></tr><tr><th>23</th><td>23</td><td>WT</td><td>Arkwright Summit Wind Farm LLC</td><td>78.4</td><td>1</td><td>78.4</td><td>0</td><td>0</td></tr><tr><th>24</th><td>24</td><td>BM</td><td>Model City Energy Facility</td><td>5.6</td><td>1</td><td>5.6</td><td>0</td><td>0</td></tr><tr><th>25</th><td>25</td><td>HY</td><td>Glenwood Hydro</td><td>1.5</td><td>1</td><td>1.5</td><td>0</td><td>0</td></tr></tbody></table>"
      ],
      "text/latex": [
       "\\begin{tabular}{r|ccccccccc}\n",
       "\t& r\\_id & resource & name & existing\\_cap\\_mw & num\\_units & cap\\_size & var\\_om\\_cost\\_per\\_mwh & var\\_om\\_cost\\_per\\_mwh\\_in & \\\\\n",
       "\t\\hline\n",
       "\t& Int64 & String & String & Float64 & Int64 & Float64 & Int64 & Int64 & \\\\\n",
       "\t\\hline\n",
       "\t1 & 1 & WT & Steel Winds Wind Farm & 20.0 & 1 & 20.0 & 0 & 0 & $\\dots$ \\\\\n",
       "\t2 & 2 & WT & Steel Winds II & 15.0 & 1 & 15.0 & 0 & 0 & $\\dots$ \\\\\n",
       "\t3 & 3 & PV & Steel Sun 2 2303-III-2 Hamburg Tpke & 2.0 & 1 & 2.0 & 0 & 0 & $\\dots$ \\\\\n",
       "\t4 & 4 & PV & Steel Sun 2 2303-III-4 Hamburg Tpke & 2.0 & 1 & 2.0 & 0 & 0 & $\\dots$ \\\\\n",
       "\t5 & 5 & PV & Steel Sun 2 2303-III-9 Hamburg Tpke & 2.0 & 1 & 2.0 & 0 & 0 & $\\dots$ \\\\\n",
       "\t6 & 6 & WT & High Sheldon & 112.5 & 1 & 112.5 & 0 & 0 & $\\dots$ \\\\\n",
       "\t7 & 7 & CC & Fossil-Fuel Generation & 2000.0 & 1 & 2000.0 & 3 & 0 & $\\dots$ \\\\\n",
       "\t8 & 8 & BM & Covanta Niagara I, LLC & 36.0 & 1 & 36.0 & 0 & 0 & $\\dots$ \\\\\n",
       "\t9 & 9 & HY & Hydraulic Race & 2.8 & 1 & 2.8 & 0 & 0 & $\\dots$ \\\\\n",
       "\t10 & 10 & PV & AES Tonawanda Solar LLC & 2.0 & 1 & 2.0 & 0 & 0 & $\\dots$ \\\\\n",
       "\t11 & 11 & HY & Robert Moses Niagara & 422.66 & 1 & 422.663 & 0 & 0 & $\\dots$ \\\\\n",
       "\t12 & 12 & BM & Chaffee Gas Recovery & 6.4 & 1 & 6.4 & 0 & 0 & $\\dots$ \\\\\n",
       "\t13 & 13 & PS & Lewiston Niagara & 240.0 & 1 & 240.0 & 0 & 0 & $\\dots$ \\\\\n",
       "\t14 & 14 & PV & Pearl CSG & 4.0 & 1 & 4.0 & 0 & 0 & $\\dots$ \\\\\n",
       "\t15 & 15 & PV & Ransomville Solar 1, LLC & 5.0 & 1 & 5.0 & 0 & 0 & $\\dots$ \\\\\n",
       "\t16 & 16 & WT & Seneca Nation Cattaraugus Wind Turbine & 1.5 & 1 & 1.5 & 0 & 0 & $\\dots$ \\\\\n",
       "\t17 & 17 & WT & Noble Wethersfield Windpark LLC & 126.0 & 1 & 126.0 & 0 & 0 & $\\dots$ \\\\\n",
       "\t18 & 18 & WT & Wethersfield Wind Farm & 6.6 & 1 & 6.6 & 0 & 0 & $\\dots$ \\\\\n",
       "\t19 & 19 & PV & Call Farms 1, 61470 & 2.0 & 1 & 2.0 & 0 & 0 & $\\dots$ \\\\\n",
       "\t20 & 20 & WT & Noble Bliss Windpark LLC & 100.5 & 1 & 100.5 & 0 & 0 & $\\dots$ \\\\\n",
       "\t21 & 21 & PV & Call Farms 3, 61471 & 2.0 & 1 & 2.0 & 0 & 0 & $\\dots$ \\\\\n",
       "\t22 & 22 & PV & Lichtenthal, 61469 & 2.0 & 1 & 2.0 & 0 & 0 & $\\dots$ \\\\\n",
       "\t23 & 23 & WT & Arkwright Summit Wind Farm LLC & 78.4 & 1 & 78.4 & 0 & 0 & $\\dots$ \\\\\n",
       "\t24 & 24 & BM & Model City Energy Facility & 5.6 & 1 & 5.6 & 0 & 0 & $\\dots$ \\\\\n",
       "\t25 & 25 & HY & Glenwood Hydro & 1.5 & 1 & 1.5 & 0 & 0 & $\\dots$ \\\\\n",
       "\\end{tabular}\n"
      ],
      "text/plain": [
       "\u001b[1m25×12 DataFrame\u001b[0m\n",
       "\u001b[1m Row \u001b[0m│\u001b[1m r_id  \u001b[0m\u001b[1m resource \u001b[0m\u001b[1m name                              \u001b[0m\u001b[1m existing_cap_mw \u001b[0m\u001b[1m num_units \u001b[0m\u001b[1m cap_size \u001b[0m\u001b[1m var_om_cost_per_mwh \u001b[0m\u001b[1m \u001b[0m ⋯\n",
       "\u001b[1m     \u001b[0m│\u001b[90m Int64 \u001b[0m\u001b[90m String   \u001b[0m\u001b[90m String                            \u001b[0m\u001b[90m Float64         \u001b[0m\u001b[90m Int64     \u001b[0m\u001b[90m Float64  \u001b[0m\u001b[90m Int64               \u001b[0m\u001b[90m \u001b[0m ⋯\n",
       "─────┼──────────────────────────────────────────────────────────────────────────────────────────────────────────────────\n",
       "   1 │     1  WT        Steel Winds Wind Farm                        20.0           1    20.0                      0   ⋯\n",
       "   2 │     2  WT        Steel Winds II                               15.0           1    15.0                      0\n",
       "   3 │     3  PV        Steel Sun 2 2303-III-2 Hamburg T…             2.0           1     2.0                      0\n",
       "   4 │     4  PV        Steel Sun 2 2303-III-4 Hamburg T…             2.0           1     2.0                      0\n",
       "   5 │     5  PV        Steel Sun 2 2303-III-9 Hamburg T…             2.0           1     2.0                      0   ⋯\n",
       "   6 │     6  WT        High Sheldon                                112.5           1   112.5                      0\n",
       "   7 │     7  CC        Fossil-Fuel Generation                     2000.0           1  2000.0                      3\n",
       "   8 │     8  BM        Covanta Niagara I, LLC                       36.0           1    36.0                      0\n",
       "   9 │     9  HY        Hydraulic Race                                2.8           1     2.8                      0   ⋯\n",
       "  10 │    10  PV        AES Tonawanda Solar LLC                       2.0           1     2.0                      0\n",
       "  11 │    11  HY        Robert Moses Niagara                        422.66          1   422.663                    0\n",
       "  ⋮  │   ⋮       ⋮                      ⋮                         ⋮             ⋮         ⋮               ⋮            ⋱\n",
       "  16 │    16  WT        Seneca Nation Cattaraugus Wind T…             1.5           1     1.5                      0\n",
       "  17 │    17  WT        Noble Wethersfield Windpark LLC             126.0           1   126.0                      0   ⋯\n",
       "  18 │    18  WT        Wethersfield Wind Farm                        6.6           1     6.6                      0\n",
       "  19 │    19  PV        Call Farms 1, 61470                           2.0           1     2.0                      0\n",
       "  20 │    20  WT        Noble Bliss Windpark LLC                    100.5           1   100.5                      0\n",
       "  21 │    21  PV        Call Farms 3, 61471                           2.0           1     2.0                      0   ⋯\n",
       "  22 │    22  PV        Lichtenthal, 61469                            2.0           1     2.0                      0\n",
       "  23 │    23  WT        Arkwright Summit Wind Farm LLC               78.4           1    78.4                      0\n",
       "  24 │    24  BM        Model City Energy Facility                    5.6           1     5.6                      0\n",
       "  25 │    25  HY        Glenwood Hydro                                1.5           1     1.5                      0   ⋯\n",
       "\u001b[36m                                                                                            5 columns and 4 rows omitted\u001b[0m"
      ]
     },
     "execution_count": 33,
     "metadata": {},
     "output_type": "execute_result"
    }
   ],
   "source": [
    "gen_info"
   ]
  },
  {
   "cell_type": "code",
   "execution_count": 34,
   "id": "hungarian-pregnancy",
   "metadata": {},
   "outputs": [],
   "source": [
    "# Keep only the columns relevant to our ED model \n",
    "# (We'll come back to other columns in our unit commitment notebooks)\n",
    "select!(gen_info, 1:12) # columns 1:10 and cluster IDs\n",
    "gen_df = outerjoin(gen_info,  fuels, on = :fuel) # load in fuel costs and add to data frame\n",
    "rename!(gen_df, :cost_per_mmbtu => :fuel_cost)   # rename column for fuel cost\n",
    "gen_df.fuel_cost[ismissing.(gen_df[:,:fuel_cost])] .= 0\n",
    "\n",
    "# create \"is_variable\" column to indicate if this is a variable generation source (e.g. wind, solar):\n",
    "gen_df[!, :is_variable] .= false\n",
    "gen_df = gen_df[1:25,:]\n",
    "gen_df[in([\"WT\",\"PV\",\"HY\"]).(gen_df.resource),:is_variable] .= true;\n",
    "\n",
    "# create full name of generator (including geographic location and cluster number)\n",
    "#  for use with variable generation dataframe\n",
    "gen_df.gen_full = lowercase.(gen_df.resource);"
   ]
  },
  {
   "cell_type": "code",
   "execution_count": 35,
   "id": "former-curve",
   "metadata": {},
   "outputs": [
    {
     "data": {
      "text/html": [
       "<table class=\"data-frame\"><thead><tr><th></th><th>r_id</th><th>resource</th><th>name</th><th>existing_cap_mw</th><th>num_units</th><th>cap_size</th><th>var_om_cost_per_mwh</th><th>var_om_cost_per_mwh_in</th></tr><tr><th></th><th>Int64?</th><th>String?</th><th>String?</th><th>Float64?</th><th>Int64?</th><th>Float64?</th><th>Int64?</th><th>Int64?</th></tr></thead><tbody><p>25 rows × 16 columns (omitted printing of 8 columns)</p><tr><th>1</th><td>1</td><td>WT</td><td>Steel Winds Wind Farm</td><td>20.0</td><td>1</td><td>20.0</td><td>0</td><td>0</td></tr><tr><th>2</th><td>2</td><td>WT</td><td>Steel Winds II</td><td>15.0</td><td>1</td><td>15.0</td><td>0</td><td>0</td></tr><tr><th>3</th><td>3</td><td>PV</td><td>Steel Sun 2 2303-III-2 Hamburg Tpke</td><td>2.0</td><td>1</td><td>2.0</td><td>0</td><td>0</td></tr><tr><th>4</th><td>4</td><td>PV</td><td>Steel Sun 2 2303-III-4 Hamburg Tpke</td><td>2.0</td><td>1</td><td>2.0</td><td>0</td><td>0</td></tr><tr><th>5</th><td>5</td><td>PV</td><td>Steel Sun 2 2303-III-9 Hamburg Tpke</td><td>2.0</td><td>1</td><td>2.0</td><td>0</td><td>0</td></tr><tr><th>6</th><td>6</td><td>WT</td><td>High Sheldon</td><td>112.5</td><td>1</td><td>112.5</td><td>0</td><td>0</td></tr><tr><th>7</th><td>7</td><td>CC</td><td>Fossil-Fuel Generation</td><td>2000.0</td><td>1</td><td>2000.0</td><td>3</td><td>0</td></tr><tr><th>8</th><td>8</td><td>BM</td><td>Covanta Niagara I, LLC</td><td>36.0</td><td>1</td><td>36.0</td><td>0</td><td>0</td></tr><tr><th>9</th><td>9</td><td>HY</td><td>Hydraulic Race</td><td>2.8</td><td>1</td><td>2.8</td><td>0</td><td>0</td></tr><tr><th>10</th><td>10</td><td>PV</td><td>AES Tonawanda Solar LLC</td><td>2.0</td><td>1</td><td>2.0</td><td>0</td><td>0</td></tr><tr><th>11</th><td>11</td><td>HY</td><td>Robert Moses Niagara</td><td>422.66</td><td>1</td><td>422.663</td><td>0</td><td>0</td></tr><tr><th>12</th><td>12</td><td>BM</td><td>Chaffee Gas Recovery</td><td>6.4</td><td>1</td><td>6.4</td><td>0</td><td>0</td></tr><tr><th>13</th><td>13</td><td>PS</td><td>Lewiston Niagara</td><td>240.0</td><td>1</td><td>240.0</td><td>0</td><td>0</td></tr><tr><th>14</th><td>14</td><td>PV</td><td>Pearl CSG</td><td>4.0</td><td>1</td><td>4.0</td><td>0</td><td>0</td></tr><tr><th>15</th><td>15</td><td>PV</td><td>Ransomville Solar 1, LLC</td><td>5.0</td><td>1</td><td>5.0</td><td>0</td><td>0</td></tr><tr><th>16</th><td>16</td><td>WT</td><td>Seneca Nation Cattaraugus Wind Turbine</td><td>1.5</td><td>1</td><td>1.5</td><td>0</td><td>0</td></tr><tr><th>17</th><td>17</td><td>WT</td><td>Noble Wethersfield Windpark LLC</td><td>126.0</td><td>1</td><td>126.0</td><td>0</td><td>0</td></tr><tr><th>18</th><td>18</td><td>WT</td><td>Wethersfield Wind Farm</td><td>6.6</td><td>1</td><td>6.6</td><td>0</td><td>0</td></tr><tr><th>19</th><td>19</td><td>PV</td><td>Call Farms 1, 61470</td><td>2.0</td><td>1</td><td>2.0</td><td>0</td><td>0</td></tr><tr><th>20</th><td>20</td><td>WT</td><td>Noble Bliss Windpark LLC</td><td>100.5</td><td>1</td><td>100.5</td><td>0</td><td>0</td></tr><tr><th>21</th><td>21</td><td>PV</td><td>Call Farms 3, 61471</td><td>2.0</td><td>1</td><td>2.0</td><td>0</td><td>0</td></tr><tr><th>22</th><td>22</td><td>PV</td><td>Lichtenthal, 61469</td><td>2.0</td><td>1</td><td>2.0</td><td>0</td><td>0</td></tr><tr><th>23</th><td>23</td><td>WT</td><td>Arkwright Summit Wind Farm LLC</td><td>78.4</td><td>1</td><td>78.4</td><td>0</td><td>0</td></tr><tr><th>24</th><td>24</td><td>BM</td><td>Model City Energy Facility</td><td>5.6</td><td>1</td><td>5.6</td><td>0</td><td>0</td></tr><tr><th>25</th><td>25</td><td>HY</td><td>Glenwood Hydro</td><td>1.5</td><td>1</td><td>1.5</td><td>0</td><td>0</td></tr></tbody></table>"
      ],
      "text/latex": [
       "\\begin{tabular}{r|ccccccccc}\n",
       "\t& r\\_id & resource & name & existing\\_cap\\_mw & num\\_units & cap\\_size & var\\_om\\_cost\\_per\\_mwh & var\\_om\\_cost\\_per\\_mwh\\_in & \\\\\n",
       "\t\\hline\n",
       "\t& Int64? & String? & String? & Float64? & Int64? & Float64? & Int64? & Int64? & \\\\\n",
       "\t\\hline\n",
       "\t1 & 1 & WT & Steel Winds Wind Farm & 20.0 & 1 & 20.0 & 0 & 0 & $\\dots$ \\\\\n",
       "\t2 & 2 & WT & Steel Winds II & 15.0 & 1 & 15.0 & 0 & 0 & $\\dots$ \\\\\n",
       "\t3 & 3 & PV & Steel Sun 2 2303-III-2 Hamburg Tpke & 2.0 & 1 & 2.0 & 0 & 0 & $\\dots$ \\\\\n",
       "\t4 & 4 & PV & Steel Sun 2 2303-III-4 Hamburg Tpke & 2.0 & 1 & 2.0 & 0 & 0 & $\\dots$ \\\\\n",
       "\t5 & 5 & PV & Steel Sun 2 2303-III-9 Hamburg Tpke & 2.0 & 1 & 2.0 & 0 & 0 & $\\dots$ \\\\\n",
       "\t6 & 6 & WT & High Sheldon & 112.5 & 1 & 112.5 & 0 & 0 & $\\dots$ \\\\\n",
       "\t7 & 7 & CC & Fossil-Fuel Generation & 2000.0 & 1 & 2000.0 & 3 & 0 & $\\dots$ \\\\\n",
       "\t8 & 8 & BM & Covanta Niagara I, LLC & 36.0 & 1 & 36.0 & 0 & 0 & $\\dots$ \\\\\n",
       "\t9 & 9 & HY & Hydraulic Race & 2.8 & 1 & 2.8 & 0 & 0 & $\\dots$ \\\\\n",
       "\t10 & 10 & PV & AES Tonawanda Solar LLC & 2.0 & 1 & 2.0 & 0 & 0 & $\\dots$ \\\\\n",
       "\t11 & 11 & HY & Robert Moses Niagara & 422.66 & 1 & 422.663 & 0 & 0 & $\\dots$ \\\\\n",
       "\t12 & 12 & BM & Chaffee Gas Recovery & 6.4 & 1 & 6.4 & 0 & 0 & $\\dots$ \\\\\n",
       "\t13 & 13 & PS & Lewiston Niagara & 240.0 & 1 & 240.0 & 0 & 0 & $\\dots$ \\\\\n",
       "\t14 & 14 & PV & Pearl CSG & 4.0 & 1 & 4.0 & 0 & 0 & $\\dots$ \\\\\n",
       "\t15 & 15 & PV & Ransomville Solar 1, LLC & 5.0 & 1 & 5.0 & 0 & 0 & $\\dots$ \\\\\n",
       "\t16 & 16 & WT & Seneca Nation Cattaraugus Wind Turbine & 1.5 & 1 & 1.5 & 0 & 0 & $\\dots$ \\\\\n",
       "\t17 & 17 & WT & Noble Wethersfield Windpark LLC & 126.0 & 1 & 126.0 & 0 & 0 & $\\dots$ \\\\\n",
       "\t18 & 18 & WT & Wethersfield Wind Farm & 6.6 & 1 & 6.6 & 0 & 0 & $\\dots$ \\\\\n",
       "\t19 & 19 & PV & Call Farms 1, 61470 & 2.0 & 1 & 2.0 & 0 & 0 & $\\dots$ \\\\\n",
       "\t20 & 20 & WT & Noble Bliss Windpark LLC & 100.5 & 1 & 100.5 & 0 & 0 & $\\dots$ \\\\\n",
       "\t21 & 21 & PV & Call Farms 3, 61471 & 2.0 & 1 & 2.0 & 0 & 0 & $\\dots$ \\\\\n",
       "\t22 & 22 & PV & Lichtenthal, 61469 & 2.0 & 1 & 2.0 & 0 & 0 & $\\dots$ \\\\\n",
       "\t23 & 23 & WT & Arkwright Summit Wind Farm LLC & 78.4 & 1 & 78.4 & 0 & 0 & $\\dots$ \\\\\n",
       "\t24 & 24 & BM & Model City Energy Facility & 5.6 & 1 & 5.6 & 0 & 0 & $\\dots$ \\\\\n",
       "\t25 & 25 & HY & Glenwood Hydro & 1.5 & 1 & 1.5 & 0 & 0 & $\\dots$ \\\\\n",
       "\\end{tabular}\n"
      ],
      "text/plain": [
       "\u001b[1m25×16 DataFrame\u001b[0m\n",
       "\u001b[1m Row \u001b[0m│\u001b[1m r_id   \u001b[0m\u001b[1m resource \u001b[0m\u001b[1m name                              \u001b[0m\u001b[1m existing_cap_mw \u001b[0m\u001b[1m num_units \u001b[0m\u001b[1m cap_size \u001b[0m\u001b[1m var_om_cost_per_mwh \u001b[0m\u001b[1m\u001b[0m ⋯\n",
       "\u001b[1m     \u001b[0m│\u001b[90m Int64? \u001b[0m\u001b[90m String?  \u001b[0m\u001b[90m String?                           \u001b[0m\u001b[90m Float64?        \u001b[0m\u001b[90m Int64?    \u001b[0m\u001b[90m Float64? \u001b[0m\u001b[90m Int64?              \u001b[0m\u001b[90m\u001b[0m ⋯\n",
       "─────┼──────────────────────────────────────────────────────────────────────────────────────────────────────────────────\n",
       "   1 │      1  WT        Steel Winds Wind Farm                        20.0           1    20.0                      0  ⋯\n",
       "   2 │      2  WT        Steel Winds II                               15.0           1    15.0                      0\n",
       "   3 │      3  PV        Steel Sun 2 2303-III-2 Hamburg T…             2.0           1     2.0                      0\n",
       "   4 │      4  PV        Steel Sun 2 2303-III-4 Hamburg T…             2.0           1     2.0                      0\n",
       "   5 │      5  PV        Steel Sun 2 2303-III-9 Hamburg T…             2.0           1     2.0                      0  ⋯\n",
       "   6 │      6  WT        High Sheldon                                112.5           1   112.5                      0\n",
       "   7 │      7  CC        Fossil-Fuel Generation                     2000.0           1  2000.0                      3\n",
       "   8 │      8  BM        Covanta Niagara I, LLC                       36.0           1    36.0                      0\n",
       "   9 │      9  HY        Hydraulic Race                                2.8           1     2.8                      0  ⋯\n",
       "  10 │     10  PV        AES Tonawanda Solar LLC                       2.0           1     2.0                      0\n",
       "  11 │     11  HY        Robert Moses Niagara                        422.66          1   422.663                    0\n",
       "  ⋮  │   ⋮        ⋮                      ⋮                         ⋮             ⋮         ⋮               ⋮           ⋱\n",
       "  16 │     16  WT        Seneca Nation Cattaraugus Wind T…             1.5           1     1.5                      0\n",
       "  17 │     17  WT        Noble Wethersfield Windpark LLC             126.0           1   126.0                      0  ⋯\n",
       "  18 │     18  WT        Wethersfield Wind Farm                        6.6           1     6.6                      0\n",
       "  19 │     19  PV        Call Farms 1, 61470                           2.0           1     2.0                      0\n",
       "  20 │     20  WT        Noble Bliss Windpark LLC                    100.5           1   100.5                      0\n",
       "  21 │     21  PV        Call Farms 3, 61471                           2.0           1     2.0                      0  ⋯\n",
       "  22 │     22  PV        Lichtenthal, 61469                            2.0           1     2.0                      0\n",
       "  23 │     23  WT        Arkwright Summit Wind Farm LLC               78.4           1    78.4                      0\n",
       "  24 │     24  BM        Model City Energy Facility                    5.6           1     5.6                      0\n",
       "  25 │     25  HY        Glenwood Hydro                                1.5           1     1.5                      0  ⋯\n",
       "\u001b[36m                                                                                            9 columns and 4 rows omitted\u001b[0m"
      ]
     },
     "execution_count": 35,
     "metadata": {},
     "output_type": "execute_result"
    }
   ],
   "source": [
    "gen_df"
   ]
  },
  {
   "cell_type": "code",
   "execution_count": 36,
   "id": "accepting-herald",
   "metadata": {},
   "outputs": [
    {
     "data": {
      "text/plain": [
       "\"gen_df.csv\""
      ]
     },
     "execution_count": 36,
     "metadata": {},
     "output_type": "execute_result"
    }
   ],
   "source": [
    "CSV.write(\"gen_df.csv\",gen_df)"
   ]
  },
  {
   "cell_type": "code",
   "execution_count": 37,
   "id": "electronic-connectivity",
   "metadata": {},
   "outputs": [],
   "source": [
    "gen_variable_long = stack(gen_variable, \n",
    "                        Not(:hour), \n",
    "                        variable_name=:gen_full,\n",
    "                        value_name=:cf);"
   ]
  },
  {
   "cell_type": "code",
   "execution_count": 38,
   "id": "royal-screening",
   "metadata": {},
   "outputs": [
    {
     "data": {
      "text/plain": [
       "economic_dispatch_multi (generic function with 1 method)"
      ]
     },
     "execution_count": 38,
     "metadata": {},
     "output_type": "execute_result"
    }
   ],
   "source": [
    "#=\n",
    "Function to solve economic dispatch problem (multi-time period, single-zone)\n",
    "Inputs:\n",
    "    gen_df -- dataframe with generator info\n",
    "    loads  -- load by time\n",
    "    gen_variable -- capacity factors of variable generators (in \"long\" format)\n",
    "=#\n",
    "function economic_dispatch_multi(gen_df, loads, gen_variable)\n",
    "    ED = Model(GLPK.Optimizer)\n",
    "\n",
    "    # Define sets based on data\n",
    "    G_var = gen_df[gen_df[!,:is_variable] .== 1,:r_id] \n",
    "    G_nonvar = gen_df[gen_df[!,:is_variable] .== 0,:r_id]\n",
    "    G = gen_df.r_id\n",
    "    T = loads.hour\n",
    "    T_red = loads.hour[1:end-1]  # time periods used for ramp constraints\n",
    "    \n",
    "    # Generator capacity factor time series for variable generators\n",
    "    gen_var_cf = innerjoin(gen_variable, \n",
    "                    gen_df[gen_df.is_variable .== 1 , \n",
    "                        [:r_id, :gen_full, :existing_cap_mw]], \n",
    "                    on = :gen_full)\n",
    "        \n",
    "    # Decision variables   \n",
    "    @variables(ED, begin\n",
    "        GEN[G, T]  >= 0     # generation\n",
    "        # Note: we assume Pmin = 0 for all resources for simplicty here\n",
    "    end)\n",
    "                \n",
    "    # Objective function\n",
    "    @objective(ED, Min, \n",
    "        sum( (gen_df[gen_df.r_id .== i,:heat_rate_mmbtu_per_mwh][1] * gen_df[gen_df.r_id .== i,:fuel_cost][1] +\n",
    "            gen_df[gen_df.r_id .== i,:var_om_cost_per_mwh][1]) * GEN[i,t] \n",
    "                        for i in G_nonvar for t in T) + \n",
    "        sum(gen_df[gen_df.r_id .== i,:var_om_cost_per_mwh][1] * GEN[i,t] \n",
    "                        for i in G_var for t in T)\n",
    "    )\n",
    "    \n",
    "    # Demand constraint\n",
    "    @constraint(ED, cDemand[t in T], \n",
    "        sum(GEN[i,t] for i in G) == loads[loads.hour .== t,:demand][1])\n",
    "\n",
    "    # Capacity constraints (non-variable generation)\n",
    "    @constraint(ED, Cap_nonvar[i in G_nonvar, t in T], \n",
    "        GEN[i,t] <= gen_df[gen_df.r_id .== i,:existing_cap_mw][1])\n",
    "\n",
    "    # Variable generation capacity constraints\n",
    "    @constraint(ED, Cap_var[i in 1:nrow(gen_var_cf)], \n",
    "            GEN[gen_var_cf[i,:r_id], gen_var_cf[i,:hour] ] <= \n",
    "                        gen_var_cf[i,:cf] *\n",
    "                        gen_var_cf[i,:existing_cap_mw])\n",
    "    \n",
    "    # Ramp up constraints\n",
    "    @constraint(ED, RampUp[i in G, t in T_red], \n",
    "        GEN[i,t+1] - GEN[i,t] <= gen_df[gen_df.r_id .== i,:existing_cap_mw][1] * \n",
    "                                 gen_df[gen_df.r_id .== i,:ramp_up_percentage][1] )\n",
    "\n",
    "    # Ramp down constraints\n",
    "    @constraint(ED, RampDn[i in G, t in T_red], \n",
    "        GEN[i,t] - GEN[i,t+1] <= gen_df[gen_df.r_id .== i,:existing_cap_mw][1] * \n",
    "                                 gen_df[gen_df.r_id .== i,:ramp_dn_percentage][1] )\n",
    "    \n",
    "    # Solve statement (! indicates runs in place)\n",
    "    optimize!(ED)\n",
    "\n",
    "    # Dataframe of optimal decision variables\n",
    "    # This requires a few extra steps because we are indexing decision variables over two sets: generator and time\n",
    "    solution = DataFrame(value.(GEN).data)\n",
    "    ax1 = value.(GEN).axes[1]\n",
    "    ax2 = value.(GEN).axes[2]\n",
    "    cols = names(solution)\n",
    "    insertcols!(solution, 1, :r_id => ax1)\n",
    "    solution = stack(solution, Not(:r_id), variable_name=:hour)\n",
    "    solution.hour = foldl(replace, [cols[i] => ax2[i] for i in 1:length(ax2)], init=solution.hour)\n",
    "    rename!(solution, :value => :gen)\n",
    "    solution.hour = convert.(Int64,solution.hour)\n",
    "    \n",
    "    # Return the solution and objective as named tuple\n",
    "    return (\n",
    "        solution = solution, \n",
    "        cost = objective_value(ED),\n",
    "        status = termination_status(ED)\n",
    "    )\n",
    "\n",
    "end"
   ]
  },
  {
   "cell_type": "code",
   "execution_count": 39,
   "id": "harmful-monthly",
   "metadata": {},
   "outputs": [
    {
     "data": {
      "text/html": [
       "<table class=\"data-frame\"><thead><tr><th></th><th>hour</th><th>gen_full</th><th>cf</th></tr><tr><th></th><th>Int64</th><th>String</th><th>Float64</th></tr></thead><tbody><p>504 rows × 3 columns</p><tr><th>1</th><td>1</td><td>pv</td><td>0.0</td></tr><tr><th>2</th><td>2</td><td>pv</td><td>0.0</td></tr><tr><th>3</th><td>3</td><td>pv</td><td>0.0</td></tr><tr><th>4</th><td>4</td><td>pv</td><td>0.0</td></tr><tr><th>5</th><td>5</td><td>pv</td><td>0.0</td></tr><tr><th>6</th><td>6</td><td>pv</td><td>0.0</td></tr><tr><th>7</th><td>7</td><td>pv</td><td>0.035</td></tr><tr><th>8</th><td>8</td><td>pv</td><td>0.123</td></tr><tr><th>9</th><td>9</td><td>pv</td><td>0.301</td></tr><tr><th>10</th><td>10</td><td>pv</td><td>0.472</td></tr><tr><th>11</th><td>11</td><td>pv</td><td>0.609</td></tr><tr><th>12</th><td>12</td><td>pv</td><td>0.699</td></tr><tr><th>13</th><td>13</td><td>pv</td><td>0.751</td></tr><tr><th>14</th><td>14</td><td>pv</td><td>0.76</td></tr><tr><th>15</th><td>15</td><td>pv</td><td>0.712</td></tr><tr><th>16</th><td>16</td><td>pv</td><td>0.587</td></tr><tr><th>17</th><td>17</td><td>pv</td><td>0.509</td></tr><tr><th>18</th><td>18</td><td>pv</td><td>0.347</td></tr><tr><th>19</th><td>19</td><td>pv</td><td>0.215</td></tr><tr><th>20</th><td>20</td><td>pv</td><td>0.066</td></tr><tr><th>21</th><td>21</td><td>pv</td><td>0.01</td></tr><tr><th>22</th><td>22</td><td>pv</td><td>0.0</td></tr><tr><th>23</th><td>23</td><td>pv</td><td>0.0</td></tr><tr><th>24</th><td>24</td><td>pv</td><td>0.0</td></tr><tr><th>25</th><td>25</td><td>pv</td><td>0.0</td></tr><tr><th>26</th><td>26</td><td>pv</td><td>0.0</td></tr><tr><th>27</th><td>27</td><td>pv</td><td>0.0</td></tr><tr><th>28</th><td>28</td><td>pv</td><td>0.0</td></tr><tr><th>29</th><td>29</td><td>pv</td><td>0.0</td></tr><tr><th>30</th><td>30</td><td>pv</td><td>0.0</td></tr><tr><th>&vellip;</th><td>&vellip;</td><td>&vellip;</td><td>&vellip;</td></tr></tbody></table>"
      ],
      "text/latex": [
       "\\begin{tabular}{r|ccc}\n",
       "\t& hour & gen\\_full & cf\\\\\n",
       "\t\\hline\n",
       "\t& Int64 & String & Float64\\\\\n",
       "\t\\hline\n",
       "\t1 & 1 & pv & 0.0 \\\\\n",
       "\t2 & 2 & pv & 0.0 \\\\\n",
       "\t3 & 3 & pv & 0.0 \\\\\n",
       "\t4 & 4 & pv & 0.0 \\\\\n",
       "\t5 & 5 & pv & 0.0 \\\\\n",
       "\t6 & 6 & pv & 0.0 \\\\\n",
       "\t7 & 7 & pv & 0.035 \\\\\n",
       "\t8 & 8 & pv & 0.123 \\\\\n",
       "\t9 & 9 & pv & 0.301 \\\\\n",
       "\t10 & 10 & pv & 0.472 \\\\\n",
       "\t11 & 11 & pv & 0.609 \\\\\n",
       "\t12 & 12 & pv & 0.699 \\\\\n",
       "\t13 & 13 & pv & 0.751 \\\\\n",
       "\t14 & 14 & pv & 0.76 \\\\\n",
       "\t15 & 15 & pv & 0.712 \\\\\n",
       "\t16 & 16 & pv & 0.587 \\\\\n",
       "\t17 & 17 & pv & 0.509 \\\\\n",
       "\t18 & 18 & pv & 0.347 \\\\\n",
       "\t19 & 19 & pv & 0.215 \\\\\n",
       "\t20 & 20 & pv & 0.066 \\\\\n",
       "\t21 & 21 & pv & 0.01 \\\\\n",
       "\t22 & 22 & pv & 0.0 \\\\\n",
       "\t23 & 23 & pv & 0.0 \\\\\n",
       "\t24 & 24 & pv & 0.0 \\\\\n",
       "\t25 & 25 & pv & 0.0 \\\\\n",
       "\t26 & 26 & pv & 0.0 \\\\\n",
       "\t27 & 27 & pv & 0.0 \\\\\n",
       "\t28 & 28 & pv & 0.0 \\\\\n",
       "\t29 & 29 & pv & 0.0 \\\\\n",
       "\t30 & 30 & pv & 0.0 \\\\\n",
       "\t$\\dots$ & $\\dots$ & $\\dots$ & $\\dots$ \\\\\n",
       "\\end{tabular}\n"
      ],
      "text/plain": [
       "\u001b[1m504×3 DataFrame\u001b[0m\n",
       "\u001b[1m Row \u001b[0m│\u001b[1m hour  \u001b[0m\u001b[1m gen_full \u001b[0m\u001b[1m cf      \u001b[0m\n",
       "\u001b[1m     \u001b[0m│\u001b[90m Int64 \u001b[0m\u001b[90m String   \u001b[0m\u001b[90m Float64 \u001b[0m\n",
       "─────┼──────────────────────────\n",
       "   1 │     1  pv          0.0\n",
       "   2 │     2  pv          0.0\n",
       "   3 │     3  pv          0.0\n",
       "   4 │     4  pv          0.0\n",
       "   5 │     5  pv          0.0\n",
       "   6 │     6  pv          0.0\n",
       "   7 │     7  pv          0.035\n",
       "   8 │     8  pv          0.123\n",
       "   9 │     9  pv          0.301\n",
       "  10 │    10  pv          0.472\n",
       "  11 │    11  pv          0.609\n",
       "  ⋮  │   ⋮       ⋮         ⋮\n",
       " 495 │   159  hy          1.0\n",
       " 496 │   160  hy          1.0\n",
       " 497 │   161  hy          1.0\n",
       " 498 │   162  hy          1.0\n",
       " 499 │   163  hy          1.0\n",
       " 500 │   164  hy          1.0\n",
       " 501 │   165  hy          1.0\n",
       " 502 │   166  hy          0.66\n",
       " 503 │   167  hy          0.66\n",
       " 504 │   168  hy          0.66\n",
       "\u001b[36m                483 rows omitted\u001b[0m"
      ]
     },
     "execution_count": 39,
     "metadata": {},
     "output_type": "execute_result"
    }
   ],
   "source": [
    "#solve a week's economic dispatch\n",
    "\n",
    "T_period = (1):(168)\n",
    "\n",
    "loads = loads[in.(loads.hour,Ref(T_period)),:]\n",
    "gen_variable = gen_variable_long[in.(gen_variable_long.hour,Ref(T_period)),:]"
   ]
  },
  {
   "cell_type": "code",
   "execution_count": 40,
   "id": "engaging-prefix",
   "metadata": {},
   "outputs": [],
   "source": [
    "solution = economic_dispatch_multi(gen_df, loads, gen_variable);"
   ]
  },
  {
   "cell_type": "code",
   "execution_count": 41,
   "id": "exempt-belize",
   "metadata": {},
   "outputs": [
    {
     "data": {
      "text/html": [
       "<table class=\"data-frame\"><thead><tr><th></th><th>resource</th><th>hour</th><th>gen_sum</th></tr><tr><th></th><th>String?</th><th>Int64</th><th>Float64</th></tr></thead><tbody><p>1,008 rows × 3 columns</p><tr><th>1</th><td>BM</td><td>1</td><td>0.0</td></tr><tr><th>2</th><td>CC</td><td>1</td><td>819.676</td></tr><tr><th>3</th><td>HY</td><td>1</td><td>281.794</td></tr><tr><th>4</th><td>PS</td><td>1</td><td>240.0</td></tr><tr><th>5</th><td>PV</td><td>1</td><td>0.0</td></tr><tr><th>6</th><td>WT</td><td>1</td><td>27.63</td></tr><tr><th>7</th><td>BM</td><td>2</td><td>0.0</td></tr><tr><th>8</th><td>CC</td><td>2</td><td>775.586</td></tr><tr><th>9</th><td>HY</td><td>2</td><td>281.794</td></tr><tr><th>10</th><td>PS</td><td>2</td><td>240.0</td></tr><tr><th>11</th><td>PV</td><td>2</td><td>0.0</td></tr><tr><th>12</th><td>WT</td><td>2</td><td>18.42</td></tr><tr><th>13</th><td>BM</td><td>3</td><td>0.0</td></tr><tr><th>14</th><td>CC</td><td>3</td><td>750.757</td></tr><tr><th>15</th><td>HY</td><td>3</td><td>281.794</td></tr><tr><th>16</th><td>PS</td><td>3</td><td>240.0</td></tr><tr><th>17</th><td>PV</td><td>3</td><td>0.0</td></tr><tr><th>18</th><td>WT</td><td>3</td><td>8.7495</td></tr><tr><th>19</th><td>BM</td><td>4</td><td>0.0</td></tr><tr><th>20</th><td>CC</td><td>4</td><td>743.383</td></tr><tr><th>21</th><td>HY</td><td>4</td><td>281.794</td></tr><tr><th>22</th><td>PS</td><td>4</td><td>240.0</td></tr><tr><th>23</th><td>PV</td><td>4</td><td>0.0</td></tr><tr><th>24</th><td>WT</td><td>4</td><td>3.2235</td></tr><tr><th>25</th><td>BM</td><td>5</td><td>0.0</td></tr><tr><th>26</th><td>CC</td><td>5</td><td>753.625</td></tr><tr><th>27</th><td>HY</td><td>5</td><td>281.794</td></tr><tr><th>28</th><td>PS</td><td>5</td><td>240.0</td></tr><tr><th>29</th><td>PV</td><td>5</td><td>0.0</td></tr><tr><th>30</th><td>WT</td><td>5</td><td>1.3815</td></tr><tr><th>&vellip;</th><td>&vellip;</td><td>&vellip;</td><td>&vellip;</td></tr></tbody></table>"
      ],
      "text/latex": [
       "\\begin{tabular}{r|ccc}\n",
       "\t& resource & hour & gen\\_sum\\\\\n",
       "\t\\hline\n",
       "\t& String? & Int64 & Float64\\\\\n",
       "\t\\hline\n",
       "\t1 & BM & 1 & 0.0 \\\\\n",
       "\t2 & CC & 1 & 819.676 \\\\\n",
       "\t3 & HY & 1 & 281.794 \\\\\n",
       "\t4 & PS & 1 & 240.0 \\\\\n",
       "\t5 & PV & 1 & 0.0 \\\\\n",
       "\t6 & WT & 1 & 27.63 \\\\\n",
       "\t7 & BM & 2 & 0.0 \\\\\n",
       "\t8 & CC & 2 & 775.586 \\\\\n",
       "\t9 & HY & 2 & 281.794 \\\\\n",
       "\t10 & PS & 2 & 240.0 \\\\\n",
       "\t11 & PV & 2 & 0.0 \\\\\n",
       "\t12 & WT & 2 & 18.42 \\\\\n",
       "\t13 & BM & 3 & 0.0 \\\\\n",
       "\t14 & CC & 3 & 750.757 \\\\\n",
       "\t15 & HY & 3 & 281.794 \\\\\n",
       "\t16 & PS & 3 & 240.0 \\\\\n",
       "\t17 & PV & 3 & 0.0 \\\\\n",
       "\t18 & WT & 3 & 8.7495 \\\\\n",
       "\t19 & BM & 4 & 0.0 \\\\\n",
       "\t20 & CC & 4 & 743.383 \\\\\n",
       "\t21 & HY & 4 & 281.794 \\\\\n",
       "\t22 & PS & 4 & 240.0 \\\\\n",
       "\t23 & PV & 4 & 0.0 \\\\\n",
       "\t24 & WT & 4 & 3.2235 \\\\\n",
       "\t25 & BM & 5 & 0.0 \\\\\n",
       "\t26 & CC & 5 & 753.625 \\\\\n",
       "\t27 & HY & 5 & 281.794 \\\\\n",
       "\t28 & PS & 5 & 240.0 \\\\\n",
       "\t29 & PV & 5 & 0.0 \\\\\n",
       "\t30 & WT & 5 & 1.3815 \\\\\n",
       "\t$\\dots$ & $\\dots$ & $\\dots$ & $\\dots$ \\\\\n",
       "\\end{tabular}\n"
      ],
      "text/plain": [
       "\u001b[1m1008×3 DataFrame\u001b[0m\n",
       "\u001b[1m  Row \u001b[0m│\u001b[1m resource \u001b[0m\u001b[1m hour  \u001b[0m\u001b[1m gen_sum  \u001b[0m\n",
       "\u001b[1m      \u001b[0m│\u001b[90m String?  \u001b[0m\u001b[90m Int64 \u001b[0m\u001b[90m Float64  \u001b[0m\n",
       "──────┼───────────────────────────\n",
       "    1 │ BM            1    0.0\n",
       "    2 │ CC            1  819.676\n",
       "    3 │ HY            1  281.794\n",
       "    4 │ PS            1  240.0\n",
       "    5 │ PV            1    0.0\n",
       "    6 │ WT            1   27.63\n",
       "    7 │ BM            2    0.0\n",
       "    8 │ CC            2  775.586\n",
       "    9 │ HY            2  281.794\n",
       "   10 │ PS            2  240.0\n",
       "   11 │ PV            2    0.0\n",
       "  ⋮   │    ⋮        ⋮       ⋮\n",
       "  999 │ HY          167  281.794\n",
       " 1000 │ PS          167  240.0\n",
       " 1001 │ PV          167    0.0\n",
       " 1002 │ WT          167  103.152\n",
       " 1003 │ BM          168    0.0\n",
       " 1004 │ CC          168  906.714\n",
       " 1005 │ HY          168  281.794\n",
       " 1006 │ PS          168  240.0\n",
       " 1007 │ PV          168    0.0\n",
       " 1008 │ WT          168   85.1925\n",
       "\u001b[36m                  987 rows omitted\u001b[0m"
      ]
     },
     "execution_count": 41,
     "metadata": {},
     "output_type": "execute_result"
    }
   ],
   "source": [
    "sol_gen = innerjoin(solution.solution, \n",
    "                    gen_df[!, [:r_id, :resource]], \n",
    "                    on = :r_id)\n",
    "sol_gen = combine(groupby(sol_gen, [:resource, :hour]), \n",
    "            :gen => sum)\n",
    "\n",
    "# Reorder resources\n",
    "sort!(sol_gen, [:hour, :resource])\n",
    "#CSV.write(\"sol_gen_btm.csv\",sol_gen_march)"
   ]
  },
  {
   "cell_type": "code",
   "execution_count": 42,
   "id": "assumed-intention",
   "metadata": {},
   "outputs": [
    {
     "data": {
      "text/html": [
       "<table class=\"data-frame\"><thead><tr><th></th><th>resource</th><th>gen_sum_sum</th></tr><tr><th></th><th>String?</th><th>Float64</th></tr></thead><tbody><p>6 rows × 2 columns</p><tr><th>1</th><td>BM</td><td>0.0</td></tr><tr><th>2</th><td>CC</td><td>1.5059e5</td></tr><tr><th>3</th><td>HY</td><td>62583.8</td></tr><tr><th>4</th><td>PS</td><td>40320.0</td></tr><tr><th>5</th><td>PV</td><td>766.751</td></tr><tr><th>6</th><td>WT</td><td>8797.39</td></tr></tbody></table>"
      ],
      "text/latex": [
       "\\begin{tabular}{r|cc}\n",
       "\t& resource & gen\\_sum\\_sum\\\\\n",
       "\t\\hline\n",
       "\t& String? & Float64\\\\\n",
       "\t\\hline\n",
       "\t1 & BM & 0.0 \\\\\n",
       "\t2 & CC & 1.5059e5 \\\\\n",
       "\t3 & HY & 62583.8 \\\\\n",
       "\t4 & PS & 40320.0 \\\\\n",
       "\t5 & PV & 766.751 \\\\\n",
       "\t6 & WT & 8797.39 \\\\\n",
       "\\end{tabular}\n"
      ],
      "text/plain": [
       "\u001b[1m6×2 DataFrame\u001b[0m\n",
       "\u001b[1m Row \u001b[0m│\u001b[1m resource \u001b[0m\u001b[1m gen_sum_sum  \u001b[0m\n",
       "\u001b[1m     \u001b[0m│\u001b[90m String?  \u001b[0m\u001b[90m Float64      \u001b[0m\n",
       "─────┼────────────────────────\n",
       "   1 │ BM            0.0\n",
       "   2 │ CC            1.5059e5\n",
       "   3 │ HY        62583.8\n",
       "   4 │ PS        40320.0\n",
       "   5 │ PV          766.751\n",
       "   6 │ WT         8797.39"
      ]
     },
     "execution_count": 42,
     "metadata": {},
     "output_type": "execute_result"
    }
   ],
   "source": [
    "sol_gen_sum = combine(groupby(sol_gen, [:resource]), :gen_sum => sum)"
   ]
  },
  {
   "cell_type": "code",
   "execution_count": 43,
   "id": "hungry-melissa",
   "metadata": {},
   "outputs": [
    {
     "data": {
      "text/plain": [
       "263058.0999999998"
      ]
     },
     "execution_count": 43,
     "metadata": {},
     "output_type": "execute_result"
    }
   ],
   "source": [
    "tot_demand = sum(sol_gen_sum[!,:gen_sum_sum]) "
   ]
  },
  {
   "cell_type": "code",
   "execution_count": 44,
   "id": "raised-vertical",
   "metadata": {},
   "outputs": [
    {
     "data": {
      "application/vnd.vegalite.v4+json": {
       "data": {
        "values": [
         {
          "gen_sum": 0,
          "hour": 1,
          "resource": "BM"
         },
         {
          "gen_sum": 819.6764,
          "hour": 1,
          "resource": "CC"
         },
         {
          "gen_sum": 281.7936,
          "hour": 1,
          "resource": "HY"
         },
         {
          "gen_sum": 240,
          "hour": 1,
          "resource": "PS"
         },
         {
          "gen_sum": 0,
          "hour": 1,
          "resource": "PV"
         },
         {
          "gen_sum": 27.630000000000003,
          "hour": 1,
          "resource": "WT"
         },
         {
          "gen_sum": 0,
          "hour": 2,
          "resource": "BM"
         },
         {
          "gen_sum": 775.5864000000003,
          "hour": 2,
          "resource": "CC"
         },
         {
          "gen_sum": 281.7936,
          "hour": 2,
          "resource": "HY"
         },
         {
          "gen_sum": 240,
          "hour": 2,
          "resource": "PS"
         },
         {
          "gen_sum": 0,
          "hour": 2,
          "resource": "PV"
         },
         {
          "gen_sum": 18.419999999999998,
          "hour": 2,
          "resource": "WT"
         },
         {
          "gen_sum": 0,
          "hour": 3,
          "resource": "BM"
         },
         {
          "gen_sum": 750.7568999999997,
          "hour": 3,
          "resource": "CC"
         },
         {
          "gen_sum": 281.7936,
          "hour": 3,
          "resource": "HY"
         },
         {
          "gen_sum": 240,
          "hour": 3,
          "resource": "PS"
         },
         {
          "gen_sum": 0,
          "hour": 3,
          "resource": "PV"
         },
         {
          "gen_sum": 8.7495,
          "hour": 3,
          "resource": "WT"
         },
         {
          "gen_sum": 0,
          "hour": 4,
          "resource": "BM"
         },
         {
          "gen_sum": 743.3829000000002,
          "hour": 4,
          "resource": "CC"
         },
         {
          "gen_sum": 281.7936,
          "hour": 4,
          "resource": "HY"
         },
         {
          "gen_sum": 240,
          "hour": 4,
          "resource": "PS"
         },
         {
          "gen_sum": 0,
          "hour": 4,
          "resource": "PV"
         },
         {
          "gen_sum": 3.2234999999999996,
          "hour": 4,
          "resource": "WT"
         },
         {
          "gen_sum": 0,
          "hour": 5,
          "resource": "BM"
         },
         {
          "gen_sum": 753.6248999999998,
          "hour": 5,
          "resource": "CC"
         },
         {
          "gen_sum": 281.7936,
          "hour": 5,
          "resource": "HY"
         },
         {
          "gen_sum": 240,
          "hour": 5,
          "resource": "PS"
         },
         {
          "gen_sum": 0,
          "hour": 5,
          "resource": "PV"
         },
         {
          "gen_sum": 1.3815000000000002,
          "hour": 5,
          "resource": "WT"
         },
         {
          "gen_sum": 0,
          "hour": 6,
          "resource": "BM"
         },
         {
          "gen_sum": 778.5854000000002,
          "hour": 6,
          "resource": "CC"
         },
         {
          "gen_sum": 281.7936,
          "hour": 6,
          "resource": "HY"
         },
         {
          "gen_sum": 240,
          "hour": 6,
          "resource": "PS"
         },
         {
          "gen_sum": 0,
          "hour": 6,
          "resource": "PV"
         },
         {
          "gen_sum": 0.921,
          "hour": 6,
          "resource": "WT"
         },
         {
          "gen_sum": 0,
          "hour": 7,
          "resource": "BM"
         },
         {
          "gen_sum": 664.5535,
          "hour": 7,
          "resource": "CC"
         },
         {
          "gen_sum": 426.96000000000004,
          "hour": 7,
          "resource": "HY"
         },
         {
          "gen_sum": 240,
          "hour": 7,
          "resource": "PS"
         },
         {
          "gen_sum": 0.8050000000000002,
          "hour": 7,
          "resource": "PV"
         },
         {
          "gen_sum": 1.3815000000000002,
          "hour": 7,
          "resource": "WT"
         },
         {
          "gen_sum": 0,
          "hour": 8,
          "resource": "BM"
         },
         {
          "gen_sum": 728.4504999999997,
          "hour": 8,
          "resource": "CC"
         },
         {
          "gen_sum": 426.96000000000004,
          "hour": 8,
          "resource": "HY"
         },
         {
          "gen_sum": 240,
          "hour": 8,
          "resource": "PS"
         },
         {
          "gen_sum": 2.829,
          "hour": 8,
          "resource": "PV"
         },
         {
          "gen_sum": 0.4605,
          "hour": 8,
          "resource": "WT"
         },
         {
          "gen_sum": 0,
          "hour": 9,
          "resource": "BM"
         },
         {
          "gen_sum": 818.2354999999995,
          "hour": 9,
          "resource": "CC"
         },
         {
          "gen_sum": 426.96000000000004,
          "hour": 9,
          "resource": "HY"
         },
         {
          "gen_sum": 240,
          "hour": 9,
          "resource": "PS"
         },
         {
          "gen_sum": 6.923000000000001,
          "hour": 9,
          "resource": "PV"
         },
         {
          "gen_sum": 1.3815000000000002,
          "hour": 9,
          "resource": "WT"
         },
         {
          "gen_sum": 0,
          "hour": 10,
          "resource": "BM"
         },
         {
          "gen_sum": 858.5975000000003,
          "hour": 10,
          "resource": "CC"
         },
         {
          "gen_sum": 426.96000000000004,
          "hour": 10,
          "resource": "HY"
         },
         {
          "gen_sum": 240,
          "hour": 10,
          "resource": "PS"
         },
         {
          "gen_sum": 10.855999999999998,
          "hour": 10,
          "resource": "PV"
         },
         {
          "gen_sum": 5.9864999999999995,
          "hour": 10,
          "resource": "WT"
         },
         {
          "gen_sum": 0,
          "hour": 11,
          "resource": "BM"
         },
         {
          "gen_sum": 893.7069999999999,
          "hour": 11,
          "resource": "CC"
         },
         {
          "gen_sum": 426.96000000000004,
          "hour": 11,
          "resource": "HY"
         },
         {
          "gen_sum": 240,
          "hour": 11,
          "resource": "PS"
         },
         {
          "gen_sum": 14.007,
          "hour": 11,
          "resource": "PV"
         },
         {
          "gen_sum": 5.526000000000001,
          "hour": 11,
          "resource": "WT"
         },
         {
          "gen_sum": 0,
          "hour": 12,
          "resource": "BM"
         },
         {
          "gen_sum": 899.1975000000003,
          "hour": 12,
          "resource": "CC"
         },
         {
          "gen_sum": 426.96000000000004,
          "hour": 12,
          "resource": "HY"
         },
         {
          "gen_sum": 240,
          "hour": 12,
          "resource": "PS"
         },
         {
          "gen_sum": 16.076999999999998,
          "hour": 12,
          "resource": "PV"
         },
         {
          "gen_sum": 5.065499999999999,
          "hour": 12,
          "resource": "WT"
         },
         {
          "gen_sum": 0,
          "hour": 13,
          "resource": "BM"
         },
         {
          "gen_sum": 898.2595000000003,
          "hour": 13,
          "resource": "CC"
         },
         {
          "gen_sum": 426.96000000000004,
          "hour": 13,
          "resource": "HY"
         },
         {
          "gen_sum": 240,
          "hour": 13,
          "resource": "PS"
         },
         {
          "gen_sum": 17.273,
          "hour": 13,
          "resource": "PV"
         },
         {
          "gen_sum": 6.907500000000001,
          "hour": 13,
          "resource": "WT"
         },
         {
          "gen_sum": 0,
          "hour": 14,
          "resource": "BM"
         },
         {
          "gen_sum": 905.8265000000005,
          "hour": 14,
          "resource": "CC"
         },
         {
          "gen_sum": 426.96000000000004,
          "hour": 14,
          "resource": "HY"
         },
         {
          "gen_sum": 240,
          "hour": 14,
          "resource": "PS"
         },
         {
          "gen_sum": 17.48,
          "hour": 14,
          "resource": "PV"
         },
         {
          "gen_sum": 12.4335,
          "hour": 14,
          "resource": "WT"
         },
         {
          "gen_sum": 0,
          "hour": 15,
          "resource": "BM"
         },
         {
          "gen_sum": 903.5970000000002,
          "hour": 15,
          "resource": "CC"
         },
         {
          "gen_sum": 426.96000000000004,
          "hour": 15,
          "resource": "HY"
         },
         {
          "gen_sum": 240,
          "hour": 15,
          "resource": "PS"
         },
         {
          "gen_sum": 16.375999999999998,
          "hour": 15,
          "resource": "PV"
         },
         {
          "gen_sum": 24.867,
          "hour": 15,
          "resource": "WT"
         },
         {
          "gen_sum": 0,
          "hour": 16,
          "resource": "BM"
         },
         {
          "gen_sum": 890.3125000000002,
          "hour": 16,
          "resource": "CC"
         },
         {
          "gen_sum": 426.96000000000004,
          "hour": 16,
          "resource": "HY"
         },
         {
          "gen_sum": 240,
          "hour": 16,
          "resource": "PS"
         },
         {
          "gen_sum": 13.500999999999998,
          "hour": 16,
          "resource": "PV"
         },
         {
          "gen_sum": 42.82650000000001,
          "hour": 16,
          "resource": "WT"
         },
         {
          "gen_sum": 0,
          "hour": 17,
          "resource": "BM"
         },
         {
          "gen_sum": 869.8494999999999,
          "hour": 17,
          "resource": "CC"
         },
         {
          "gen_sum": 426.96000000000004,
          "hour": 17,
          "resource": "HY"
         },
         {
          "gen_sum": 240,
          "hour": 17,
          "resource": "PS"
         },
         {
          "gen_sum": 11.707000000000003,
          "hour": 17,
          "resource": "PV"
         },
         {
          "gen_sum": 58.4835,
          "hour": 17,
          "resource": "WT"
         },
         {
          "gen_sum": 0,
          "hour": 18,
          "resource": "BM"
         },
         {
          "gen_sum": 881.4259999999999,
          "hour": 18,
          "resource": "CC"
         },
         {
          "gen_sum": 426.96000000000004,
          "hour": 18,
          "resource": "HY"
         },
         {
          "gen_sum": 240,
          "hour": 18,
          "resource": "PS"
         },
         {
          "gen_sum": 7.980999999999999,
          "hour": 18,
          "resource": "PV"
         },
         {
          "gen_sum": 67.23299999999999,
          "hour": 18,
          "resource": "WT"
         },
         {
          "gen_sum": 0,
          "hour": 19,
          "resource": "BM"
         },
         {
          "gen_sum": 841.1334999999998,
          "hour": 19,
          "resource": "CC"
         },
         {
          "gen_sum": 426.96000000000004,
          "hour": 19,
          "resource": "HY"
         },
         {
          "gen_sum": 240,
          "hour": 19,
          "resource": "PS"
         },
         {
          "gen_sum": 4.944999999999999,
          "hour": 19,
          "resource": "PV"
         },
         {
          "gen_sum": 75.06150000000001,
          "hour": 19,
          "resource": "WT"
         },
         {
          "gen_sum": 0,
          "hour": 20,
          "resource": "BM"
         },
         {
          "gen_sum": 833.3059999999998,
          "hour": 20,
          "resource": "CC"
         },
         {
          "gen_sum": 426.96000000000004,
          "hour": 20,
          "resource": "HY"
         },
         {
          "gen_sum": 240,
          "hour": 20,
          "resource": "PS"
         },
         {
          "gen_sum": 1.5180000000000002,
          "hour": 20,
          "resource": "PV"
         },
         {
          "gen_sum": 88.41600000000001,
          "hour": 20,
          "resource": "WT"
         },
         {
          "gen_sum": 0,
          "hour": 21,
          "resource": "BM"
         },
         {
          "gen_sum": 784.4835000000002,
          "hour": 21,
          "resource": "CC"
         },
         {
          "gen_sum": 426.96000000000004,
          "hour": 21,
          "resource": "HY"
         },
         {
          "gen_sum": 240,
          "hour": 21,
          "resource": "PS"
         },
         {
          "gen_sum": 0.22999999999999995,
          "hour": 21,
          "resource": "PV"
         },
         {
          "gen_sum": 134.9265,
          "hour": 21,
          "resource": "WT"
         },
         {
          "gen_sum": 0,
          "hour": 22,
          "resource": "BM"
         },
         {
          "gen_sum": 846.7529000000001,
          "hour": 22,
          "resource": "CC"
         },
         {
          "gen_sum": 281.7936,
          "hour": 22,
          "resource": "HY"
         },
         {
          "gen_sum": 240,
          "hour": 22,
          "resource": "PS"
         },
         {
          "gen_sum": 0,
          "hour": 22,
          "resource": "PV"
         },
         {
          "gen_sum": 215.05350000000004,
          "hour": 22,
          "resource": "WT"
         },
         {
          "gen_sum": 0,
          "hour": 23,
          "resource": "BM"
         },
         {
          "gen_sum": 779.9219,
          "hour": 23,
          "resource": "CC"
         },
         {
          "gen_sum": 281.7936,
          "hour": 23,
          "resource": "HY"
         },
         {
          "gen_sum": 240,
          "hour": 23,
          "resource": "PS"
         },
         {
          "gen_sum": 0,
          "hour": 23,
          "resource": "PV"
         },
         {
          "gen_sum": 225.18449999999999,
          "hour": 23,
          "resource": "WT"
         },
         {
          "gen_sum": 0,
          "hour": 24,
          "resource": "BM"
         },
         {
          "gen_sum": 722.6914000000002,
          "hour": 24,
          "resource": "CC"
         },
         {
          "gen_sum": 281.7936,
          "hour": 24,
          "resource": "HY"
         },
         {
          "gen_sum": 240,
          "hour": 24,
          "resource": "PS"
         },
         {
          "gen_sum": 0,
          "hour": 24,
          "resource": "PV"
         },
         {
          "gen_sum": 198.015,
          "hour": 24,
          "resource": "WT"
         },
         {
          "gen_sum": 0,
          "hour": 25,
          "resource": "BM"
         },
         {
          "gen_sum": 640.9123999999998,
          "hour": 25,
          "resource": "CC"
         },
         {
          "gen_sum": 281.7936,
          "hour": 25,
          "resource": "HY"
         },
         {
          "gen_sum": 240,
          "hour": 25,
          "resource": "PS"
         },
         {
          "gen_sum": 0,
          "hour": 25,
          "resource": "PV"
         },
         {
          "gen_sum": 197.094,
          "hour": 25,
          "resource": "WT"
         },
         {
          "gen_sum": 0,
          "hour": 26,
          "resource": "BM"
         },
         {
          "gen_sum": 618.5199,
          "hour": 26,
          "resource": "CC"
         },
         {
          "gen_sum": 281.7936,
          "hour": 26,
          "resource": "HY"
         },
         {
          "gen_sum": 240,
          "hour": 26,
          "resource": "PS"
         },
         {
          "gen_sum": 0,
          "hour": 26,
          "resource": "PV"
         },
         {
          "gen_sum": 190.18649999999997,
          "hour": 26,
          "resource": "WT"
         },
         {
          "gen_sum": 0,
          "hour": 27,
          "resource": "BM"
         },
         {
          "gen_sum": 615.1089000000001,
          "hour": 27,
          "resource": "CC"
         },
         {
          "gen_sum": 281.7936,
          "hour": 27,
          "resource": "HY"
         },
         {
          "gen_sum": 240,
          "hour": 27,
          "resource": "PS"
         },
         {
          "gen_sum": 0,
          "hour": 27,
          "resource": "PV"
         },
         {
          "gen_sum": 181.89750000000004,
          "hour": 27,
          "resource": "WT"
         },
         {
          "gen_sum": 0,
          "hour": 28,
          "resource": "BM"
         },
         {
          "gen_sum": 611.7163999999999,
          "hour": 28,
          "resource": "CC"
         },
         {
          "gen_sum": 281.7936,
          "hour": 28,
          "resource": "HY"
         },
         {
          "gen_sum": 240,
          "hour": 28,
          "resource": "PS"
         },
         {
          "gen_sum": 0,
          "hour": 28,
          "resource": "PV"
         },
         {
          "gen_sum": 174.98999999999998,
          "hour": 28,
          "resource": "WT"
         },
         {
          "gen_sum": 0,
          "hour": 29,
          "resource": "BM"
         },
         {
          "gen_sum": 580.4394000000001,
          "hour": 29,
          "resource": "CC"
         },
         {
          "gen_sum": 281.7936,
          "hour": 29,
          "resource": "HY"
         },
         {
          "gen_sum": 240,
          "hour": 29,
          "resource": "PS"
         },
         {
          "gen_sum": 0,
          "hour": 29,
          "resource": "PV"
         },
         {
          "gen_sum": 209.067,
          "hour": 29,
          "resource": "WT"
         },
         {
          "gen_sum": 0,
          "hour": 30,
          "resource": "BM"
         },
         {
          "gen_sum": 609.3089000000001,
          "hour": 30,
          "resource": "CC"
         },
         {
          "gen_sum": 281.7936,
          "hour": 30,
          "resource": "HY"
         },
         {
          "gen_sum": 240,
          "hour": 30,
          "resource": "PS"
         },
         {
          "gen_sum": 0,
          "hour": 30,
          "resource": "PV"
         },
         {
          "gen_sum": 181.89750000000004,
          "hour": 30,
          "resource": "WT"
         },
         {
          "gen_sum": 0,
          "hour": 31,
          "resource": "BM"
         },
         {
          "gen_sum": 529.9,
          "hour": 31,
          "resource": "CC"
         },
         {
          "gen_sum": 426.96000000000004,
          "hour": 31,
          "resource": "HY"
         },
         {
          "gen_sum": 240,
          "hour": 31,
          "resource": "PS"
         },
         {
          "gen_sum": 0.48299999999999993,
          "hour": 31,
          "resource": "PV"
         },
         {
          "gen_sum": 107.75699999999999,
          "hour": 31,
          "resource": "WT"
         },
         {
          "gen_sum": 0,
          "hour": 32,
          "resource": "BM"
         },
         {
          "gen_sum": 627.4499999999997,
          "hour": 32,
          "resource": "CC"
         },
         {
          "gen_sum": 426.96000000000004,
          "hour": 32,
          "resource": "HY"
         },
         {
          "gen_sum": 240,
          "hour": 32,
          "resource": "PS"
         },
         {
          "gen_sum": 2.093,
          "hour": 32,
          "resource": "PV"
         },
         {
          "gen_sum": 52.49700000000001,
          "hour": 32,
          "resource": "WT"
         },
         {
          "gen_sum": 0,
          "hour": 33,
          "resource": "BM"
         },
         {
          "gen_sum": 685.6189999999998,
          "hour": 33,
          "resource": "CC"
         },
         {
          "gen_sum": 426.96000000000004,
          "hour": 33,
          "resource": "HY"
         },
         {
          "gen_sum": 240,
          "hour": 33,
          "resource": "PS"
         },
         {
          "gen_sum": 4.944999999999999,
          "hour": 33,
          "resource": "PV"
         },
         {
          "gen_sum": 51.57599999999999,
          "hour": 33,
          "resource": "WT"
         },
         {
          "gen_sum": 0,
          "hour": 34,
          "resource": "BM"
         },
         {
          "gen_sum": 753.1575000000004,
          "hour": 34,
          "resource": "CC"
         },
         {
          "gen_sum": 426.96000000000004,
          "hour": 34,
          "resource": "HY"
         },
         {
          "gen_sum": 240,
          "hour": 34,
          "resource": "PS"
         },
         {
          "gen_sum": 7.13,
          "hour": 34,
          "resource": "PV"
         },
         {
          "gen_sum": 48.3525,
          "hour": 34,
          "resource": "WT"
         },
         {
          "gen_sum": 0,
          "hour": 35,
          "resource": "BM"
         },
         {
          "gen_sum": 796.6225000000001,
          "hour": 35,
          "resource": "CC"
         },
         {
          "gen_sum": 426.96000000000004,
          "hour": 35,
          "resource": "HY"
         },
         {
          "gen_sum": 240,
          "hour": 35,
          "resource": "PS"
         },
         {
          "gen_sum": 8.969999999999999,
          "hour": 35,
          "resource": "PV"
         },
         {
          "gen_sum": 43.747499999999995,
          "hour": 35,
          "resource": "WT"
         },
         {
          "gen_sum": 0,
          "hour": 36,
          "resource": "BM"
         },
         {
          "gen_sum": 800.4894999999996,
          "hour": 36,
          "resource": "CC"
         },
         {
          "gen_sum": 426.96000000000004,
          "hour": 36,
          "resource": "HY"
         },
         {
          "gen_sum": 240,
          "hour": 36,
          "resource": "PS"
         },
         {
          "gen_sum": 10.787,
          "hour": 36,
          "resource": "PV"
         },
         {
          "gen_sum": 40.0635,
          "hour": 36,
          "resource": "WT"
         },
         {
          "gen_sum": 0,
          "hour": 37,
          "resource": "BM"
         },
         {
          "gen_sum": 811.1494999999998,
          "hour": 37,
          "resource": "CC"
         },
         {
          "gen_sum": 426.96000000000004,
          "hour": 37,
          "resource": "HY"
         },
         {
          "gen_sum": 240,
          "hour": 37,
          "resource": "PS"
         },
         {
          "gen_sum": 11.569,
          "hour": 37,
          "resource": "PV"
         },
         {
          "gen_sum": 38.2215,
          "hour": 37,
          "resource": "WT"
         },
         {
          "gen_sum": 0,
          "hour": 38,
          "resource": "BM"
         },
         {
          "gen_sum": 800.0590000000001,
          "hour": 38,
          "resource": "CC"
         },
         {
          "gen_sum": 426.96000000000004,
          "hour": 38,
          "resource": "HY"
         },
         {
          "gen_sum": 240,
          "hour": 38,
          "resource": "PS"
         },
         {
          "gen_sum": 12.604000000000001,
          "hour": 38,
          "resource": "PV"
         },
         {
          "gen_sum": 34.077,
          "hour": 38,
          "resource": "WT"
         },
         {
          "gen_sum": 0,
          "hour": 39,
          "resource": "BM"
         },
         {
          "gen_sum": 793.1224999999996,
          "hour": 39,
          "resource": "CC"
         },
         {
          "gen_sum": 426.96000000000004,
          "hour": 39,
          "resource": "HY"
         },
         {
          "gen_sum": 240,
          "hour": 39,
          "resource": "PS"
         },
         {
          "gen_sum": 13.132999999999997,
          "hour": 39,
          "resource": "PV"
         },
         {
          "gen_sum": 40.9845,
          "hour": 39,
          "resource": "WT"
         },
         {
          "gen_sum": 0,
          "hour": 40,
          "resource": "BM"
         },
         {
          "gen_sum": 752.389,
          "hour": 40,
          "resource": "CC"
         },
         {
          "gen_sum": 426.96000000000004,
          "hour": 40,
          "resource": "HY"
         },
         {
          "gen_sum": 240,
          "hour": 40,
          "resource": "PS"
         },
         {
          "gen_sum": 10.833,
          "hour": 40,
          "resource": "PV"
         },
         {
          "gen_sum": 53.418,
          "hour": 40,
          "resource": "WT"
         },
         {
          "gen_sum": 0,
          "hour": 41,
          "resource": "BM"
         },
         {
          "gen_sum": 750.8674999999998,
          "hour": 41,
          "resource": "CC"
         },
         {
          "gen_sum": 426.96000000000004,
          "hour": 41,
          "resource": "HY"
         },
         {
          "gen_sum": 240,
          "hour": 41,
          "resource": "PS"
         },
         {
          "gen_sum": 7.705,
          "hour": 41,
          "resource": "PV"
         },
         {
          "gen_sum": 62.167500000000004,
          "hour": 41,
          "resource": "WT"
         },
         {
          "gen_sum": 0,
          "hour": 42,
          "resource": "BM"
         },
         {
          "gen_sum": 792.6655,
          "hour": 42,
          "resource": "CC"
         },
         {
          "gen_sum": 426.96000000000004,
          "hour": 42,
          "resource": "HY"
         },
         {
          "gen_sum": 240,
          "hour": 42,
          "resource": "PS"
         },
         {
          "gen_sum": 5.543,
          "hour": 42,
          "resource": "PV"
         },
         {
          "gen_sum": 47.4315,
          "hour": 42,
          "resource": "WT"
         },
         {
          "gen_sum": 0,
          "hour": 43,
          "resource": "BM"
         },
         {
          "gen_sum": 815.8269999999997,
          "hour": 43,
          "resource": "CC"
         },
         {
          "gen_sum": 426.96000000000004,
          "hour": 43,
          "resource": "HY"
         },
         {
          "gen_sum": 240,
          "hour": 43,
          "resource": "PS"
         },
         {
          "gen_sum": 3.841,
          "hour": 43,
          "resource": "PV"
         },
         {
          "gen_sum": 29.472,
          "hour": 43,
          "resource": "WT"
         },
         {
          "gen_sum": 0,
          "hour": 44,
          "resource": "BM"
         },
         {
          "gen_sum": 825.9205000000001,
          "hour": 44,
          "resource": "CC"
         },
         {
          "gen_sum": 426.96000000000004,
          "hour": 44,
          "resource": "HY"
         },
         {
          "gen_sum": 240,
          "hour": 44,
          "resource": "PS"
         },
         {
          "gen_sum": 1.7019999999999997,
          "hour": 44,
          "resource": "PV"
         },
         {
          "gen_sum": 16.1175,
          "hour": 44,
          "resource": "WT"
         },
         {
          "gen_sum": 0,
          "hour": 45,
          "resource": "BM"
         },
         {
          "gen_sum": 838.7644999999997,
          "hour": 45,
          "resource": "CC"
         },
         {
          "gen_sum": 426.96000000000004,
          "hour": 45,
          "resource": "HY"
         },
         {
          "gen_sum": 240,
          "hour": 45,
          "resource": "PS"
         },
         {
          "gen_sum": 0.18400000000000005,
          "hour": 45,
          "resource": "PV"
         },
         {
          "gen_sum": 10.5915,
          "hour": 45,
          "resource": "WT"
         },
         {
          "gen_sum": 0,
          "hour": 46,
          "resource": "BM"
         },
         {
          "gen_sum": 998.1519000000001,
          "hour": 46,
          "resource": "CC"
         },
         {
          "gen_sum": 281.7936,
          "hour": 46,
          "resource": "HY"
         },
         {
          "gen_sum": 240,
          "hour": 46,
          "resource": "PS"
         },
         {
          "gen_sum": 0,
          "hour": 46,
          "resource": "PV"
         },
         {
          "gen_sum": 13.3545,
          "hour": 46,
          "resource": "WT"
         },
         {
          "gen_sum": 0,
          "hour": 47,
          "resource": "BM"
         },
         {
          "gen_sum": 925.2394000000002,
          "hour": 47,
          "resource": "CC"
         },
         {
          "gen_sum": 281.7936,
          "hour": 47,
          "resource": "HY"
         },
         {
          "gen_sum": 240,
          "hour": 47,
          "resource": "PS"
         },
         {
          "gen_sum": 0,
          "hour": 47,
          "resource": "PV"
         },
         {
          "gen_sum": 24.867,
          "hour": 47,
          "resource": "WT"
         },
         {
          "gen_sum": 0,
          "hour": 48,
          "resource": "BM"
         },
         {
          "gen_sum": 845.4244000000001,
          "hour": 48,
          "resource": "CC"
         },
         {
          "gen_sum": 281.7936,
          "hour": 48,
          "resource": "HY"
         },
         {
          "gen_sum": 240,
          "hour": 48,
          "resource": "PS"
         },
         {
          "gen_sum": 0,
          "hour": 48,
          "resource": "PV"
         },
         {
          "gen_sum": 38.682,
          "hour": 48,
          "resource": "WT"
         },
         {
          "gen_sum": 0,
          "hour": 49,
          "resource": "BM"
         },
         {
          "gen_sum": 794.3394000000001,
          "hour": 49,
          "resource": "CC"
         },
         {
          "gen_sum": 281.7936,
          "hour": 49,
          "resource": "HY"
         },
         {
          "gen_sum": 240,
          "hour": 49,
          "resource": "PS"
         },
         {
          "gen_sum": 0,
          "hour": 49,
          "resource": "PV"
         },
         {
          "gen_sum": 24.867,
          "hour": 49,
          "resource": "WT"
         },
         {
          "gen_sum": 0,
          "hour": 50,
          "resource": "BM"
         },
         {
          "gen_sum": 790.9594,
          "hour": 50,
          "resource": "CC"
         },
         {
          "gen_sum": 281.7936,
          "hour": 50,
          "resource": "HY"
         },
         {
          "gen_sum": 240,
          "hour": 50,
          "resource": "PS"
         },
         {
          "gen_sum": 0,
          "hour": 50,
          "resource": "PV"
         },
         {
          "gen_sum": 6.446999999999999,
          "hour": 50,
          "resource": "WT"
         },
         {
          "gen_sum": 0,
          "hour": 51,
          "resource": "BM"
         },
         {
          "gen_sum": 779.5248999999999,
          "hour": 51,
          "resource": "CC"
         },
         {
          "gen_sum": 281.7936,
          "hour": 51,
          "resource": "HY"
         },
         {
          "gen_sum": 240,
          "hour": 51,
          "resource": "PS"
         },
         {
          "gen_sum": 0,
          "hour": 51,
          "resource": "PV"
         },
         {
          "gen_sum": 1.3815000000000002,
          "hour": 51,
          "resource": "WT"
         },
         {
          "gen_sum": 0,
          "hour": 52,
          "resource": "BM"
         },
         {
          "gen_sum": 778.4854000000003,
          "hour": 52,
          "resource": "CC"
         },
         {
          "gen_sum": 281.7936,
          "hour": 52,
          "resource": "HY"
         },
         {
          "gen_sum": 240,
          "hour": 52,
          "resource": "PS"
         },
         {
          "gen_sum": 0,
          "hour": 52,
          "resource": "PV"
         },
         {
          "gen_sum": 0.921,
          "hour": 52,
          "resource": "WT"
         },
         {
          "gen_sum": 0,
          "hour": 53,
          "resource": "BM"
         },
         {
          "gen_sum": 789.4248999999998,
          "hour": 53,
          "resource": "CC"
         },
         {
          "gen_sum": 281.7936,
          "hour": 53,
          "resource": "HY"
         },
         {
          "gen_sum": 240,
          "hour": 53,
          "resource": "PS"
         },
         {
          "gen_sum": 0,
          "hour": 53,
          "resource": "PV"
         },
         {
          "gen_sum": 1.3815000000000002,
          "hour": 53,
          "resource": "WT"
         },
         {
          "gen_sum": 0,
          "hour": 54,
          "resource": "BM"
         },
         {
          "gen_sum": 840.1039,
          "hour": 54,
          "resource": "CC"
         },
         {
          "gen_sum": 281.7936,
          "hour": 54,
          "resource": "HY"
         },
         {
          "gen_sum": 240,
          "hour": 54,
          "resource": "PS"
         },
         {
          "gen_sum": 0,
          "hour": 54,
          "resource": "PV"
         },
         {
          "gen_sum": 2.3024999999999998,
          "hour": 54,
          "resource": "WT"
         },
         {
          "gen_sum": 0,
          "hour": 55,
          "resource": "BM"
         },
         {
          "gen_sum": 807.0170000000005,
          "hour": 55,
          "resource": "CC"
         },
         {
          "gen_sum": 426.96000000000004,
          "hour": 55,
          "resource": "HY"
         },
         {
          "gen_sum": 240,
          "hour": 55,
          "resource": "PS"
         },
         {
          "gen_sum": 0.4599999999999999,
          "hour": 55,
          "resource": "PV"
         },
         {
          "gen_sum": 2.7630000000000003,
          "hour": 55,
          "resource": "WT"
         },
         {
          "gen_sum": 0,
          "hour": 56,
          "resource": "BM"
         },
         {
          "gen_sum": 915.9024999999996,
          "hour": 56,
          "resource": "CC"
         },
         {
          "gen_sum": 426.96000000000004,
          "hour": 56,
          "resource": "HY"
         },
         {
          "gen_sum": 240,
          "hour": 56,
          "resource": "PS"
         },
         {
          "gen_sum": 2.277,
          "hour": 56,
          "resource": "PV"
         },
         {
          "gen_sum": 0.4605,
          "hour": 56,
          "resource": "WT"
         },
         {
          "gen_sum": 0,
          "hour": 57,
          "resource": "BM"
         },
         {
          "gen_sum": 971.6694999999997,
          "hour": 57,
          "resource": "CC"
         },
         {
          "gen_sum": 426.96000000000004,
          "hour": 57,
          "resource": "HY"
         },
         {
          "gen_sum": 240,
          "hour": 57,
          "resource": "PS"
         },
         {
          "gen_sum": 4.968000000000001,
          "hour": 57,
          "resource": "PV"
         },
         {
          "gen_sum": 2.3024999999999998,
          "hour": 57,
          "resource": "WT"
         },
         {
          "gen_sum": 0,
          "hour": 58,
          "resource": "BM"
         },
         {
          "gen_sum": 992.5294999999996,
          "hour": 58,
          "resource": "CC"
         },
         {
          "gen_sum": 426.96000000000004,
          "hour": 58,
          "resource": "HY"
         },
         {
          "gen_sum": 240,
          "hour": 58,
          "resource": "PS"
         },
         {
          "gen_sum": 7.245,
          "hour": 58,
          "resource": "PV"
         },
         {
          "gen_sum": 5.065499999999999,
          "hour": 58,
          "resource": "WT"
         },
         {
          "gen_sum": 0,
          "hour": 59,
          "resource": "BM"
         },
         {
          "gen_sum": 1010.0779999999996,
          "hour": 59,
          "resource": "CC"
         },
         {
          "gen_sum": 426.96000000000004,
          "hour": 59,
          "resource": "HY"
         },
         {
          "gen_sum": 240,
          "hour": 59,
          "resource": "PS"
         },
         {
          "gen_sum": 10.120000000000003,
          "hour": 59,
          "resource": "PV"
         },
         {
          "gen_sum": 1.842,
          "hour": 59,
          "resource": "WT"
         },
         {
          "gen_sum": 0,
          "hour": 60,
          "resource": "BM"
         },
         {
          "gen_sum": 1007.2855000000003,
          "hour": 60,
          "resource": "CC"
         },
         {
          "gen_sum": 426.96000000000004,
          "hour": 60,
          "resource": "HY"
         },
         {
          "gen_sum": 240,
          "hour": 60,
          "resource": "PS"
         },
         {
          "gen_sum": 13.294000000000002,
          "hour": 60,
          "resource": "PV"
         },
         {
          "gen_sum": 0.4605,
          "hour": 60,
          "resource": "WT"
         },
         {
          "gen_sum": 0,
          "hour": 61,
          "resource": "BM"
         },
         {
          "gen_sum": 990.9139999999998,
          "hour": 61,
          "resource": "CC"
         },
         {
          "gen_sum": 426.96000000000004,
          "hour": 61,
          "resource": "HY"
         },
         {
          "gen_sum": 240,
          "hour": 61,
          "resource": "PS"
         },
         {
          "gen_sum": 15.226,
          "hour": 61,
          "resource": "PV"
         },
         {
          "gen_sum": 0,
          "hour": 61,
          "resource": "WT"
         },
         {
          "gen_sum": 0,
          "hour": 62,
          "resource": "BM"
         },
         {
          "gen_sum": 989.6600000000001,
          "hour": 62,
          "resource": "CC"
         },
         {
          "gen_sum": 426.96000000000004,
          "hour": 62,
          "resource": "HY"
         },
         {
          "gen_sum": 240,
          "hour": 62,
          "resource": "PS"
         },
         {
          "gen_sum": 15.180000000000001,
          "hour": 62,
          "resource": "PV"
         },
         {
          "gen_sum": 0,
          "hour": 62,
          "resource": "WT"
         },
         {
          "gen_sum": 0,
          "hour": 63,
          "resource": "BM"
         },
         {
          "gen_sum": 967.4300000000002,
          "hour": 63,
          "resource": "CC"
         },
         {
          "gen_sum": 426.96000000000004,
          "hour": 63,
          "resource": "HY"
         },
         {
          "gen_sum": 240,
          "hour": 63,
          "resource": "PS"
         },
         {
          "gen_sum": 15.41,
          "hour": 63,
          "resource": "PV"
         },
         {
          "gen_sum": 0,
          "hour": 63,
          "resource": "WT"
         },
         {
          "gen_sum": 0,
          "hour": 64,
          "resource": "BM"
         },
         {
          "gen_sum": 925.5769999999999,
          "hour": 64,
          "resource": "CC"
         },
         {
          "gen_sum": 426.96000000000004,
          "hour": 64,
          "resource": "HY"
         },
         {
          "gen_sum": 240,
          "hour": 64,
          "resource": "PS"
         },
         {
          "gen_sum": 13.362999999999996,
          "hour": 64,
          "resource": "PV"
         },
         {
          "gen_sum": 0,
          "hour": 64,
          "resource": "WT"
         },
         {
          "gen_sum": 0,
          "hour": 65,
          "resource": "BM"
         },
         {
          "gen_sum": 923.3599999999999,
          "hour": 65,
          "resource": "CC"
         },
         {
          "gen_sum": 426.96000000000004,
          "hour": 65,
          "resource": "HY"
         },
         {
          "gen_sum": 240,
          "hour": 65,
          "resource": "PS"
         },
         {
          "gen_sum": 10.58,
          "hour": 65,
          "resource": "PV"
         },
         {
          "gen_sum": 0,
          "hour": 65,
          "resource": "WT"
         },
         {
          "gen_sum": 0,
          "hour": 66,
          "resource": "BM"
         },
         {
          "gen_sum": 939.5969999999999,
          "hour": 66,
          "resource": "CC"
         },
         {
          "gen_sum": 426.96000000000004,
          "hour": 66,
          "resource": "HY"
         },
         {
          "gen_sum": 240,
          "hour": 66,
          "resource": "PS"
         },
         {
          "gen_sum": 7.843000000000002,
          "hour": 66,
          "resource": "PV"
         },
         {
          "gen_sum": 0,
          "hour": 66,
          "resource": "WT"
         },
         {
          "gen_sum": 0,
          "hour": 67,
          "resource": "BM"
         },
         {
          "gen_sum": 942.8630000000003,
          "hour": 67,
          "resource": "CC"
         },
         {
          "gen_sum": 426.96000000000004,
          "hour": 67,
          "resource": "HY"
         },
         {
          "gen_sum": 240,
          "hour": 67,
          "resource": "PS"
         },
         {
          "gen_sum": 4.577,
          "hour": 67,
          "resource": "PV"
         },
         {
          "gen_sum": 0,
          "hour": 67,
          "resource": "WT"
         },
         {
          "gen_sum": 0,
          "hour": 68,
          "resource": "BM"
         },
         {
          "gen_sum": 948.9400000000004,
          "hour": 68,
          "resource": "CC"
         },
         {
          "gen_sum": 426.96000000000004,
          "hour": 68,
          "resource": "HY"
         },
         {
          "gen_sum": 240,
          "hour": 68,
          "resource": "PS"
         },
         {
          "gen_sum": 1.6789999999999996,
          "hour": 68,
          "resource": "PV"
         },
         {
          "gen_sum": 0.921,
          "hour": 68,
          "resource": "WT"
         },
         {
          "gen_sum": 0,
          "hour": 69,
          "resource": "BM"
         },
         {
          "gen_sum": 956.4484999999997,
          "hour": 69,
          "resource": "CC"
         },
         {
          "gen_sum": 426.96000000000004,
          "hour": 69,
          "resource": "HY"
         },
         {
          "gen_sum": 240,
          "hour": 69,
          "resource": "PS"
         },
         {
          "gen_sum": 0.18400000000000005,
          "hour": 69,
          "resource": "PV"
         },
         {
          "gen_sum": 6.907500000000001,
          "hour": 69,
          "resource": "WT"
         },
         {
          "gen_sum": 0,
          "hour": 70,
          "resource": "BM"
         },
         {
          "gen_sum": 1103.4419,
          "hour": 70,
          "resource": "CC"
         },
         {
          "gen_sum": 281.7936,
          "hour": 70,
          "resource": "HY"
         },
         {
          "gen_sum": 240,
          "hour": 70,
          "resource": "PS"
         },
         {
          "gen_sum": 0,
          "hour": 70,
          "resource": "PV"
         },
         {
          "gen_sum": 22.564500000000002,
          "hour": 70,
          "resource": "WT"
         },
         {
          "gen_sum": 0,
          "hour": 71,
          "resource": "BM"
         },
         {
          "gen_sum": 1019.7638999999999,
          "hour": 71,
          "resource": "CC"
         },
         {
          "gen_sum": 281.7936,
          "hour": 71,
          "resource": "HY"
         },
         {
          "gen_sum": 240,
          "hour": 71,
          "resource": "PS"
         },
         {
          "gen_sum": 0,
          "hour": 71,
          "resource": "PV"
         },
         {
          "gen_sum": 39.1425,
          "hour": 71,
          "resource": "WT"
         },
         {
          "gen_sum": 0,
          "hour": 72,
          "resource": "BM"
         },
         {
          "gen_sum": 909.7698999999999,
          "hour": 72,
          "resource": "CC"
         },
         {
          "gen_sum": 281.7936,
          "hour": 72,
          "resource": "HY"
         },
         {
          "gen_sum": 240,
          "hour": 72,
          "resource": "PS"
         },
         {
          "gen_sum": 0,
          "hour": 72,
          "resource": "PV"
         },
         {
          "gen_sum": 52.036500000000004,
          "hour": 72,
          "resource": "WT"
         },
         {
          "gen_sum": 0,
          "hour": 73,
          "resource": "BM"
         },
         {
          "gen_sum": 825.2784000000001,
          "hour": 73,
          "resource": "CC"
         },
         {
          "gen_sum": 281.7936,
          "hour": 73,
          "resource": "HY"
         },
         {
          "gen_sum": 240,
          "hour": 73,
          "resource": "PS"
         },
         {
          "gen_sum": 0,
          "hour": 73,
          "resource": "PV"
         },
         {
          "gen_sum": 62.628,
          "hour": 73,
          "resource": "WT"
         },
         {
          "gen_sum": 0,
          "hour": 74,
          "resource": "BM"
         },
         {
          "gen_sum": 770.4843999999999,
          "hour": 74,
          "resource": "CC"
         },
         {
          "gen_sum": 281.7936,
          "hour": 74,
          "resource": "HY"
         },
         {
          "gen_sum": 240,
          "hour": 74,
          "resource": "PS"
         },
         {
          "gen_sum": 0,
          "hour": 74,
          "resource": "PV"
         },
         {
          "gen_sum": 75.52199999999999,
          "hour": 74,
          "resource": "WT"
         },
         {
          "gen_sum": 0,
          "hour": 75,
          "resource": "BM"
         },
         {
          "gen_sum": 739.6693999999998,
          "hour": 75,
          "resource": "CC"
         },
         {
          "gen_sum": 281.7936,
          "hour": 75,
          "resource": "HY"
         },
         {
          "gen_sum": 240,
          "hour": 75,
          "resource": "PS"
         },
         {
          "gen_sum": 0,
          "hour": 75,
          "resource": "PV"
         },
         {
          "gen_sum": 89.33699999999999,
          "hour": 75,
          "resource": "WT"
         },
         {
          "gen_sum": 0,
          "hour": 76,
          "resource": "BM"
         },
         {
          "gen_sum": 740.9484,
          "hour": 76,
          "resource": "CC"
         },
         {
          "gen_sum": 281.7936,
          "hour": 76,
          "resource": "HY"
         },
         {
          "gen_sum": 240,
          "hour": 76,
          "resource": "PS"
         },
         {
          "gen_sum": 0,
          "hour": 76,
          "resource": "PV"
         },
         {
          "gen_sum": 90.25800000000001,
          "hour": 76,
          "resource": "WT"
         },
         {
          "gen_sum": 0,
          "hour": 77,
          "resource": "BM"
         },
         {
          "gen_sum": 775.0004000000001,
          "hour": 77,
          "resource": "CC"
         },
         {
          "gen_sum": 281.7936,
          "hour": 77,
          "resource": "HY"
         },
         {
          "gen_sum": 240,
          "hour": 77,
          "resource": "PS"
         },
         {
          "gen_sum": 0,
          "hour": 77,
          "resource": "PV"
         },
         {
          "gen_sum": 79.20599999999999,
          "hour": 77,
          "resource": "WT"
         },
         {
          "gen_sum": 0,
          "hour": 78,
          "resource": "BM"
         },
         {
          "gen_sum": 865.1179000000001,
          "hour": 78,
          "resource": "CC"
         },
         {
          "gen_sum": 281.7936,
          "hour": 78,
          "resource": "HY"
         },
         {
          "gen_sum": 240,
          "hour": 78,
          "resource": "PS"
         },
         {
          "gen_sum": 0,
          "hour": 78,
          "resource": "PV"
         },
         {
          "gen_sum": 63.08850000000001,
          "hour": 78,
          "resource": "WT"
         },
         {
          "gen_sum": 0,
          "hour": 79,
          "resource": "BM"
         },
         {
          "gen_sum": 844.5190000000003,
          "hour": 79,
          "resource": "CC"
         },
         {
          "gen_sum": 426.96000000000004,
          "hour": 79,
          "resource": "HY"
         },
         {
          "gen_sum": 240,
          "hour": 79,
          "resource": "PS"
         },
         {
          "gen_sum": 0.7130000000000001,
          "hour": 79,
          "resource": "PV"
         },
         {
          "gen_sum": 44.208000000000006,
          "hour": 79,
          "resource": "WT"
         },
         {
          "gen_sum": 0,
          "hour": 80,
          "resource": "BM"
         },
         {
          "gen_sum": 968.1504999999997,
          "hour": 80,
          "resource": "CC"
         },
         {
          "gen_sum": 426.96000000000004,
          "hour": 80,
          "resource": "HY"
         },
         {
          "gen_sum": 240,
          "hour": 80,
          "resource": "PS"
         },
         {
          "gen_sum": 2.5300000000000007,
          "hour": 80,
          "resource": "PV"
         },
         {
          "gen_sum": 17.959500000000002,
          "hour": 80,
          "resource": "WT"
         },
         {
          "gen_sum": 0,
          "hour": 81,
          "resource": "BM"
         },
         {
          "gen_sum": 1004.1854999999999,
          "hour": 81,
          "resource": "CC"
         },
         {
          "gen_sum": 426.96000000000004,
          "hour": 81,
          "resource": "HY"
         },
         {
          "gen_sum": 240,
          "hour": 81,
          "resource": "PS"
         },
         {
          "gen_sum": 4.784000000000001,
          "hour": 81,
          "resource": "PV"
         },
         {
          "gen_sum": 9.6705,
          "hour": 81,
          "resource": "WT"
         },
         {
          "gen_sum": 0,
          "hour": 82,
          "resource": "BM"
         },
         {
          "gen_sum": 993.1539999999995,
          "hour": 82,
          "resource": "CC"
         },
         {
          "gen_sum": 426.96000000000004,
          "hour": 82,
          "resource": "HY"
         },
         {
          "gen_sum": 240,
          "hour": 82,
          "resource": "PS"
         },
         {
          "gen_sum": 7.245,
          "hour": 82,
          "resource": "PV"
         },
         {
          "gen_sum": 19.341,
          "hour": 82,
          "resource": "WT"
         },
         {
          "gen_sum": 0,
          "hour": 83,
          "resource": "BM"
         },
         {
          "gen_sum": 1011.2980000000005,
          "hour": 83,
          "resource": "CC"
         },
         {
          "gen_sum": 426.96000000000004,
          "hour": 83,
          "resource": "HY"
         },
         {
          "gen_sum": 240,
          "hour": 83,
          "resource": "PS"
         },
         {
          "gen_sum": 9.338,
          "hour": 83,
          "resource": "PV"
         },
         {
          "gen_sum": 22.104000000000003,
          "hour": 83,
          "resource": "WT"
         },
         {
          "gen_sum": 0,
          "hour": 84,
          "resource": "BM"
         },
         {
          "gen_sum": 1024.4100000000005,
          "hour": 84,
          "resource": "CC"
         },
         {
          "gen_sum": 426.96000000000004,
          "hour": 84,
          "resource": "HY"
         },
         {
          "gen_sum": 240,
          "hour": 84,
          "resource": "PS"
         },
         {
          "gen_sum": 11.431,
          "hour": 84,
          "resource": "PV"
         },
         {
          "gen_sum": 17.499,
          "hour": 84,
          "resource": "WT"
         },
         {
          "gen_sum": 0,
          "hour": 85,
          "resource": "BM"
         },
         {
          "gen_sum": 1037.5419999999995,
          "hour": 85,
          "resource": "CC"
         },
         {
          "gen_sum": 426.96000000000004,
          "hour": 85,
          "resource": "HY"
         },
         {
          "gen_sum": 240,
          "hour": 85,
          "resource": "PS"
         },
         {
          "gen_sum": 12.788000000000002,
          "hour": 85,
          "resource": "PV"
         },
         {
          "gen_sum": 9.209999999999999,
          "hour": 85,
          "resource": "WT"
         },
         {
          "gen_sum": 0,
          "hour": 86,
          "resource": "BM"
         },
         {
          "gen_sum": 1047.6035000000002,
          "hour": 86,
          "resource": "CC"
         },
         {
          "gen_sum": 426.96000000000004,
          "hour": 86,
          "resource": "HY"
         },
         {
          "gen_sum": 240,
          "hour": 86,
          "resource": "PS"
         },
         {
          "gen_sum": 12.834,
          "hour": 86,
          "resource": "PV"
         },
         {
          "gen_sum": 2.3024999999999998,
          "hour": 86,
          "resource": "WT"
         },
         {
          "gen_sum": 0,
          "hour": 87,
          "resource": "BM"
         },
         {
          "gen_sum": 1031.9104999999993,
          "hour": 87,
          "resource": "CC"
         },
         {
          "gen_sum": 426.96000000000004,
          "hour": 87,
          "resource": "HY"
         },
         {
          "gen_sum": 240,
          "hour": 87,
          "resource": "PS"
         },
         {
          "gen_sum": 11.569,
          "hour": 87,
          "resource": "PV"
         },
         {
          "gen_sum": 0.4605,
          "hour": 87,
          "resource": "WT"
         },
         {
          "gen_sum": 0,
          "hour": 88,
          "resource": "BM"
         },
         {
          "gen_sum": 1006.3880000000001,
          "hour": 88,
          "resource": "CC"
         },
         {
          "gen_sum": 426.96000000000004,
          "hour": 88,
          "resource": "HY"
         },
         {
          "gen_sum": 240,
          "hour": 88,
          "resource": "PS"
         },
         {
          "gen_sum": 9.752000000000002,
          "hour": 88,
          "resource": "PV"
         },
         {
          "gen_sum": 0,
          "hour": 88,
          "resource": "WT"
         },
         {
          "gen_sum": 0,
          "hour": 89,
          "resource": "BM"
         },
         {
          "gen_sum": 1004.366,
          "hour": 89,
          "resource": "CC"
         },
         {
          "gen_sum": 426.96000000000004,
          "hour": 89,
          "resource": "HY"
         },
         {
          "gen_sum": 240,
          "hour": 89,
          "resource": "PS"
         },
         {
          "gen_sum": 7.774000000000001,
          "hour": 89,
          "resource": "PV"
         },
         {
          "gen_sum": 0,
          "hour": 89,
          "resource": "WT"
         },
         {
          "gen_sum": 0,
          "hour": 90,
          "resource": "BM"
         },
         {
          "gen_sum": 1006.7529999999999,
          "hour": 90,
          "resource": "CC"
         },
         {
          "gen_sum": 426.96000000000004,
          "hour": 90,
          "resource": "HY"
         },
         {
          "gen_sum": 240,
          "hour": 90,
          "resource": "PS"
         },
         {
          "gen_sum": 6.187000000000001,
          "hour": 90,
          "resource": "PV"
         },
         {
          "gen_sum": 0,
          "hour": 90,
          "resource": "WT"
         },
         {
          "gen_sum": 0,
          "hour": 91,
          "resource": "BM"
         },
         {
          "gen_sum": 996.8145000000003,
          "hour": 91,
          "resource": "CC"
         },
         {
          "gen_sum": 426.96000000000004,
          "hour": 91,
          "resource": "HY"
         },
         {
          "gen_sum": 240,
          "hour": 91,
          "resource": "PS"
         },
         {
          "gen_sum": 3.565,
          "hour": 91,
          "resource": "PV"
         },
         {
          "gen_sum": 0.4605,
          "hour": 91,
          "resource": "WT"
         },
         {
          "gen_sum": 0,
          "hour": 92,
          "resource": "BM"
         },
         {
          "gen_sum": 975.6569999999999,
          "hour": 92,
          "resource": "CC"
         },
         {
          "gen_sum": 426.96000000000004,
          "hour": 92,
          "resource": "HY"
         },
         {
          "gen_sum": 240,
          "hour": 92,
          "resource": "PS"
         },
         {
          "gen_sum": 1.541,
          "hour": 92,
          "resource": "PV"
         },
         {
          "gen_sum": 1.842,
          "hour": 92,
          "resource": "WT"
         },
         {
          "gen_sum": 0,
          "hour": 93,
          "resource": "BM"
         },
         {
          "gen_sum": 1003.4690000000004,
          "hour": 93,
          "resource": "CC"
         },
         {
          "gen_sum": 426.96000000000004,
          "hour": 93,
          "resource": "HY"
         },
         {
          "gen_sum": 240,
          "hour": 93,
          "resource": "PS"
         },
         {
          "gen_sum": 0.16100000000000003,
          "hour": 93,
          "resource": "PV"
         },
         {
          "gen_sum": 9.209999999999999,
          "hour": 93,
          "resource": "WT"
         },
         {
          "gen_sum": 0,
          "hour": 94,
          "resource": "BM"
         },
         {
          "gen_sum": 1135.5134,
          "hour": 94,
          "resource": "CC"
         },
         {
          "gen_sum": 281.7936,
          "hour": 94,
          "resource": "HY"
         },
         {
          "gen_sum": 240,
          "hour": 94,
          "resource": "PS"
         },
         {
          "gen_sum": 0,
          "hour": 94,
          "resource": "PV"
         },
         {
          "gen_sum": 30.393,
          "hour": 94,
          "resource": "WT"
         },
         {
          "gen_sum": 0,
          "hour": 95,
          "resource": "BM"
         },
         {
          "gen_sum": 1008.8908999999999,
          "hour": 95,
          "resource": "CC"
         },
         {
          "gen_sum": 281.7936,
          "hour": 95,
          "resource": "HY"
         },
         {
          "gen_sum": 240,
          "hour": 95,
          "resource": "PS"
         },
         {
          "gen_sum": 0,
          "hour": 95,
          "resource": "PV"
         },
         {
          "gen_sum": 51.1155,
          "hour": 95,
          "resource": "WT"
         },
         {
          "gen_sum": 0,
          "hour": 96,
          "resource": "BM"
         },
         {
          "gen_sum": 867.7104000000003,
          "hour": 96,
          "resource": "CC"
         },
         {
          "gen_sum": 281.7936,
          "hour": 96,
          "resource": "HY"
         },
         {
          "gen_sum": 240,
          "hour": 96,
          "resource": "PS"
         },
         {
          "gen_sum": 0,
          "hour": 96,
          "resource": "PV"
         },
         {
          "gen_sum": 69.996,
          "hour": 96,
          "resource": "WT"
         },
         {
          "gen_sum": 0,
          "hour": 97,
          "resource": "BM"
         },
         {
          "gen_sum": 798.0054000000001,
          "hour": 97,
          "resource": "CC"
         },
         {
          "gen_sum": 281.7936,
          "hour": 97,
          "resource": "HY"
         },
         {
          "gen_sum": 240,
          "hour": 97,
          "resource": "PS"
         },
         {
          "gen_sum": 0,
          "hour": 97,
          "resource": "PV"
         },
         {
          "gen_sum": 74.601,
          "hour": 97,
          "resource": "WT"
         },
         {
          "gen_sum": 0,
          "hour": 98,
          "resource": "BM"
         },
         {
          "gen_sum": 767.9968999999999,
          "hour": 98,
          "resource": "CC"
         },
         {
          "gen_sum": 281.7936,
          "hour": 98,
          "resource": "HY"
         },
         {
          "gen_sum": 240,
          "hour": 98,
          "resource": "PS"
         },
         {
          "gen_sum": 0,
          "hour": 98,
          "resource": "PV"
         },
         {
          "gen_sum": 64.00950000000002,
          "hour": 98,
          "resource": "WT"
         },
         {
          "gen_sum": 0,
          "hour": 99,
          "resource": "BM"
         },
         {
          "gen_sum": 753.9439,
          "hour": 99,
          "resource": "CC"
         },
         {
          "gen_sum": 281.7936,
          "hour": 99,
          "resource": "HY"
         },
         {
          "gen_sum": 240,
          "hour": 99,
          "resource": "PS"
         },
         {
          "gen_sum": 0,
          "hour": 99,
          "resource": "PV"
         },
         {
          "gen_sum": 57.5625,
          "hour": 99,
          "resource": "WT"
         },
         {
          "gen_sum": 0,
          "hour": 100,
          "resource": "BM"
         },
         {
          "gen_sum": 743.7859,
          "hour": 100,
          "resource": "CC"
         },
         {
          "gen_sum": 281.7936,
          "hour": 100,
          "resource": "HY"
         },
         {
          "gen_sum": 240,
          "hour": 100,
          "resource": "PS"
         },
         {
          "gen_sum": 0,
          "hour": 100,
          "resource": "PV"
         },
         {
          "gen_sum": 55.72049999999999,
          "hour": 100,
          "resource": "WT"
         },
         {
          "gen_sum": 0,
          "hour": 101,
          "resource": "BM"
         },
         {
          "gen_sum": 767.7649,
          "hour": 101,
          "resource": "CC"
         },
         {
          "gen_sum": 281.7936,
          "hour": 101,
          "resource": "HY"
         },
         {
          "gen_sum": 240,
          "hour": 101,
          "resource": "PS"
         },
         {
          "gen_sum": 0,
          "hour": 101,
          "resource": "PV"
         },
         {
          "gen_sum": 56.64149999999999,
          "hour": 101,
          "resource": "WT"
         },
         {
          "gen_sum": 0,
          "hour": 102,
          "resource": "BM"
         },
         {
          "gen_sum": 817.7229000000001,
          "hour": 102,
          "resource": "CC"
         },
         {
          "gen_sum": 281.7936,
          "hour": 102,
          "resource": "HY"
         },
         {
          "gen_sum": 240,
          "hour": 102,
          "resource": "PS"
         },
         {
          "gen_sum": 0,
          "hour": 102,
          "resource": "PV"
         },
         {
          "gen_sum": 58.4835,
          "hour": 102,
          "resource": "WT"
         },
         {
          "gen_sum": 0,
          "hour": 103,
          "resource": "BM"
         },
         {
          "gen_sum": 803.5735000000001,
          "hour": 103,
          "resource": "CC"
         },
         {
          "gen_sum": 426.96000000000004,
          "hour": 103,
          "resource": "HY"
         },
         {
          "gen_sum": 240,
          "hour": 103,
          "resource": "PS"
         },
         {
          "gen_sum": 0.7820000000000003,
          "hour": 103,
          "resource": "PV"
         },
         {
          "gen_sum": 40.9845,
          "hour": 103,
          "resource": "WT"
         },
         {
          "gen_sum": 0,
          "hour": 104,
          "resource": "BM"
         },
         {
          "gen_sum": 937.3365,
          "hour": 104,
          "resource": "CC"
         },
         {
          "gen_sum": 426.96000000000004,
          "hour": 104,
          "resource": "HY"
         },
         {
          "gen_sum": 240,
          "hour": 104,
          "resource": "PS"
         },
         {
          "gen_sum": 2.7600000000000007,
          "hour": 104,
          "resource": "PV"
         },
         {
          "gen_sum": 21.6435,
          "hour": 104,
          "resource": "WT"
         },
         {
          "gen_sum": 0,
          "hour": 105,
          "resource": "BM"
         },
         {
          "gen_sum": 1017.8779999999995,
          "hour": 105,
          "resource": "CC"
         },
         {
          "gen_sum": 426.96000000000004,
          "hour": 105,
          "resource": "HY"
         },
         {
          "gen_sum": 240,
          "hour": 105,
          "resource": "PS"
         },
         {
          "gen_sum": 5.727000000000001,
          "hour": 105,
          "resource": "PV"
         },
         {
          "gen_sum": 32.235,
          "hour": 105,
          "resource": "WT"
         },
         {
          "gen_sum": 0,
          "hour": 106,
          "resource": "BM"
         },
         {
          "gen_sum": 1040.07,
          "hour": 106,
          "resource": "CC"
         },
         {
          "gen_sum": 426.96000000000004,
          "hour": 106,
          "resource": "HY"
         },
         {
          "gen_sum": 240,
          "hour": 106,
          "resource": "PS"
         },
         {
          "gen_sum": 8.625,
          "hour": 106,
          "resource": "PV"
         },
         {
          "gen_sum": 41.445,
          "hour": 106,
          "resource": "WT"
         },
         {
          "gen_sum": 0,
          "hour": 107,
          "resource": "BM"
         },
         {
          "gen_sum": 1042.6674999999996,
          "hour": 107,
          "resource": "CC"
         },
         {
          "gen_sum": 426.96000000000004,
          "hour": 107,
          "resource": "HY"
         },
         {
          "gen_sum": 240,
          "hour": 107,
          "resource": "PS"
         },
         {
          "gen_sum": 10.924999999999997,
          "hour": 107,
          "resource": "PV"
         },
         {
          "gen_sum": 43.747499999999995,
          "hour": 107,
          "resource": "WT"
         },
         {
          "gen_sum": 0,
          "hour": 108,
          "resource": "BM"
         },
         {
          "gen_sum": 1061.0015,
          "hour": 108,
          "resource": "CC"
         },
         {
          "gen_sum": 426.96000000000004,
          "hour": 108,
          "resource": "HY"
         },
         {
          "gen_sum": 240,
          "hour": 108,
          "resource": "PS"
         },
         {
          "gen_sum": 12.512000000000004,
          "hour": 108,
          "resource": "PV"
         },
         {
          "gen_sum": 42.82650000000001,
          "hour": 108,
          "resource": "WT"
         },
         {
          "gen_sum": 0,
          "hour": 109,
          "resource": "BM"
         },
         {
          "gen_sum": 1062.7904999999998,
          "hour": 109,
          "resource": "CC"
         },
         {
          "gen_sum": 426.96000000000004,
          "hour": 109,
          "resource": "HY"
         },
         {
          "gen_sum": 240,
          "hour": 109,
          "resource": "PS"
         },
         {
          "gen_sum": 13.822999999999999,
          "hour": 109,
          "resource": "PV"
         },
         {
          "gen_sum": 42.82650000000001,
          "hour": 109,
          "resource": "WT"
         },
         {
          "gen_sum": 0,
          "hour": 110,
          "resource": "BM"
         },
         {
          "gen_sum": 1091.2264999999998,
          "hour": 110,
          "resource": "CC"
         },
         {
          "gen_sum": 426.96000000000004,
          "hour": 110,
          "resource": "HY"
         },
         {
          "gen_sum": 240,
          "hour": 110,
          "resource": "PS"
         },
         {
          "gen_sum": 14.145000000000001,
          "hour": 110,
          "resource": "PV"
         },
         {
          "gen_sum": 44.668499999999995,
          "hour": 110,
          "resource": "WT"
         },
         {
          "gen_sum": 0,
          "hour": 111,
          "resource": "BM"
         },
         {
          "gen_sum": 1057.9194999999993,
          "hour": 111,
          "resource": "CC"
         },
         {
          "gen_sum": 426.96000000000004,
          "hour": 111,
          "resource": "HY"
         },
         {
          "gen_sum": 240,
          "hour": 111,
          "resource": "PS"
         },
         {
          "gen_sum": 13.547,
          "hour": 111,
          "resource": "PV"
         },
         {
          "gen_sum": 49.2735,
          "hour": 111,
          "resource": "WT"
         },
         {
          "gen_sum": 0,
          "hour": 112,
          "resource": "BM"
         },
         {
          "gen_sum": 1016.2134999999994,
          "hour": 112,
          "resource": "CC"
         },
         {
          "gen_sum": 426.96000000000004,
          "hour": 112,
          "resource": "HY"
         },
         {
          "gen_sum": 240,
          "hour": 112,
          "resource": "PS"
         },
         {
          "gen_sum": 12.006000000000002,
          "hour": 112,
          "resource": "PV"
         },
         {
          "gen_sum": 55.72049999999999,
          "hour": 112,
          "resource": "WT"
         },
         {
          "gen_sum": 0,
          "hour": 113,
          "resource": "BM"
         },
         {
          "gen_sum": 1007.1894999999997,
          "hour": 113,
          "resource": "CC"
         },
         {
          "gen_sum": 426.96000000000004,
          "hour": 113,
          "resource": "HY"
         },
         {
          "gen_sum": 240,
          "hour": 113,
          "resource": "PS"
         },
         {
          "gen_sum": 10.120000000000003,
          "hour": 113,
          "resource": "PV"
         },
         {
          "gen_sum": 64.9305,
          "hour": 113,
          "resource": "WT"
         },
         {
          "gen_sum": 0,
          "hour": 114,
          "resource": "BM"
         },
         {
          "gen_sum": 985.9239999999993,
          "hour": 114,
          "resource": "CC"
         },
         {
          "gen_sum": 426.96000000000004,
          "hour": 114,
          "resource": "HY"
         },
         {
          "gen_sum": 240,
          "hour": 114,
          "resource": "PS"
         },
         {
          "gen_sum": 7.383000000000002,
          "hour": 114,
          "resource": "PV"
         },
         {
          "gen_sum": 67.23299999999999,
          "hour": 114,
          "resource": "WT"
         },
         {
          "gen_sum": 0,
          "hour": 115,
          "resource": "BM"
         },
         {
          "gen_sum": 977.3890000000005,
          "hour": 115,
          "resource": "CC"
         },
         {
          "gen_sum": 426.96000000000004,
          "hour": 115,
          "resource": "HY"
         },
         {
          "gen_sum": 240,
          "hour": 115,
          "resource": "PS"
         },
         {
          "gen_sum": 4.255,
          "hour": 115,
          "resource": "PV"
         },
         {
          "gen_sum": 69.996,
          "hour": 115,
          "resource": "WT"
         },
         {
          "gen_sum": 0,
          "hour": 116,
          "resource": "BM"
         },
         {
          "gen_sum": 978.2084999999993,
          "hour": 116,
          "resource": "CC"
         },
         {
          "gen_sum": 426.96000000000004,
          "hour": 116,
          "resource": "HY"
         },
         {
          "gen_sum": 240,
          "hour": 116,
          "resource": "PS"
         },
         {
          "gen_sum": 1.6329999999999996,
          "hour": 116,
          "resource": "PV"
         },
         {
          "gen_sum": 72.2985,
          "hour": 116,
          "resource": "WT"
         },
         {
          "gen_sum": 0,
          "hour": 117,
          "resource": "BM"
         },
         {
          "gen_sum": 958.9600000000002,
          "hour": 117,
          "resource": "CC"
         },
         {
          "gen_sum": 426.96000000000004,
          "hour": 117,
          "resource": "HY"
         },
         {
          "gen_sum": 240,
          "hour": 117,
          "resource": "PS"
         },
         {
          "gen_sum": 0.16100000000000003,
          "hour": 117,
          "resource": "PV"
         },
         {
          "gen_sum": 128.01900000000003,
          "hour": 117,
          "resource": "WT"
         },
         {
          "gen_sum": 0,
          "hour": 118,
          "resource": "BM"
         },
         {
          "gen_sum": 1032.9634,
          "hour": 118,
          "resource": "CC"
         },
         {
          "gen_sum": 281.7936,
          "hour": 118,
          "resource": "HY"
         },
         {
          "gen_sum": 240,
          "hour": 118,
          "resource": "PS"
         },
         {
          "gen_sum": 0,
          "hour": 118,
          "resource": "PV"
         },
         {
          "gen_sum": 168.543,
          "hour": 118,
          "resource": "WT"
         },
         {
          "gen_sum": 0,
          "hour": 119,
          "resource": "BM"
         },
         {
          "gen_sum": 964.7118999999999,
          "hour": 119,
          "resource": "CC"
         },
         {
          "gen_sum": 281.7936,
          "hour": 119,
          "resource": "HY"
         },
         {
          "gen_sum": 240,
          "hour": 119,
          "resource": "PS"
         },
         {
          "gen_sum": 0,
          "hour": 119,
          "resource": "PV"
         },
         {
          "gen_sum": 142.2945,
          "hour": 119,
          "resource": "WT"
         },
         {
          "gen_sum": 0,
          "hour": 120,
          "resource": "BM"
         },
         {
          "gen_sum": 859.9009000000002,
          "hour": 120,
          "resource": "CC"
         },
         {
          "gen_sum": 281.7936,
          "hour": 120,
          "resource": "HY"
         },
         {
          "gen_sum": 240,
          "hour": 120,
          "resource": "PS"
         },
         {
          "gen_sum": 0,
          "hour": 120,
          "resource": "PV"
         },
         {
          "gen_sum": 134.0055,
          "hour": 120,
          "resource": "WT"
         },
         {
          "gen_sum": 0,
          "hour": 121,
          "resource": "BM"
         },
         {
          "gen_sum": 802.7269000000001,
          "hour": 121,
          "resource": "CC"
         },
         {
          "gen_sum": 281.7936,
          "hour": 121,
          "resource": "HY"
         },
         {
          "gen_sum": 240,
          "hour": 121,
          "resource": "PS"
         },
         {
          "gen_sum": 0,
          "hour": 121,
          "resource": "PV"
         },
         {
          "gen_sum": 128.47950000000003,
          "hour": 121,
          "resource": "WT"
         },
         {
          "gen_sum": 0,
          "hour": 122,
          "resource": "BM"
         },
         {
          "gen_sum": 780.7679000000002,
          "hour": 122,
          "resource": "CC"
         },
         {
          "gen_sum": 281.7936,
          "hour": 122,
          "resource": "HY"
         },
         {
          "gen_sum": 240,
          "hour": 122,
          "resource": "PS"
         },
         {
          "gen_sum": 0,
          "hour": 122,
          "resource": "PV"
         },
         {
          "gen_sum": 109.1385,
          "hour": 122,
          "resource": "WT"
         },
         {
          "gen_sum": 0,
          "hour": 123,
          "resource": "BM"
         },
         {
          "gen_sum": 770.3458999999999,
          "hour": 123,
          "resource": "CC"
         },
         {
          "gen_sum": 281.7936,
          "hour": 123,
          "resource": "HY"
         },
         {
          "gen_sum": 240,
          "hour": 123,
          "resource": "PS"
         },
         {
          "gen_sum": 0,
          "hour": 123,
          "resource": "PV"
         },
         {
          "gen_sum": 92.56050000000002,
          "hour": 123,
          "resource": "WT"
         },
         {
          "gen_sum": 0,
          "hour": 124,
          "resource": "BM"
         },
         {
          "gen_sum": 781.2868999999998,
          "hour": 124,
          "resource": "CC"
         },
         {
          "gen_sum": 281.7936,
          "hour": 124,
          "resource": "HY"
         },
         {
          "gen_sum": 240,
          "hour": 124,
          "resource": "PS"
         },
         {
          "gen_sum": 0,
          "hour": 124,
          "resource": "PV"
         },
         {
          "gen_sum": 73.2195,
          "hour": 124,
          "resource": "WT"
         },
         {
          "gen_sum": 0,
          "hour": 125,
          "resource": "BM"
         },
         {
          "gen_sum": 804.7573999999998,
          "hour": 125,
          "resource": "CC"
         },
         {
          "gen_sum": 281.7936,
          "hour": 125,
          "resource": "HY"
         },
         {
          "gen_sum": 240,
          "hour": 125,
          "resource": "PS"
         },
         {
          "gen_sum": 0,
          "hour": 125,
          "resource": "PV"
         },
         {
          "gen_sum": 63.54900000000001,
          "hour": 125,
          "resource": "WT"
         },
         {
          "gen_sum": 0,
          "hour": 126,
          "resource": "BM"
         },
         {
          "gen_sum": 863.0204,
          "hour": 126,
          "resource": "CC"
         },
         {
          "gen_sum": 281.7936,
          "hour": 126,
          "resource": "HY"
         },
         {
          "gen_sum": 240,
          "hour": 126,
          "resource": "PS"
         },
         {
          "gen_sum": 0,
          "hour": 126,
          "resource": "PV"
         },
         {
          "gen_sum": 60.786,
          "hour": 126,
          "resource": "WT"
         },
         {
          "gen_sum": 0,
          "hour": 127,
          "resource": "BM"
         },
         {
          "gen_sum": 847.5015000000003,
          "hour": 127,
          "resource": "CC"
         },
         {
          "gen_sum": 426.96000000000004,
          "hour": 127,
          "resource": "HY"
         },
         {
          "gen_sum": 240,
          "hour": 127,
          "resource": "PS"
         },
         {
          "gen_sum": 0.8279999999999997,
          "hour": 127,
          "resource": "PV"
         },
         {
          "gen_sum": 46.5105,
          "hour": 127,
          "resource": "WT"
         },
         {
          "gen_sum": 0,
          "hour": 128,
          "resource": "BM"
         },
         {
          "gen_sum": 978.0355000000001,
          "hour": 128,
          "resource": "CC"
         },
         {
          "gen_sum": 426.96000000000004,
          "hour": 128,
          "resource": "HY"
         },
         {
          "gen_sum": 240,
          "hour": 128,
          "resource": "PS"
         },
         {
          "gen_sum": 2.8979999999999997,
          "hour": 128,
          "resource": "PV"
         },
         {
          "gen_sum": 24.4065,
          "hour": 128,
          "resource": "WT"
         },
         {
          "gen_sum": 0,
          "hour": 129,
          "resource": "BM"
         },
         {
          "gen_sum": 1024.0969999999995,
          "hour": 129,
          "resource": "CC"
         },
         {
          "gen_sum": 426.96000000000004,
          "hour": 129,
          "resource": "HY"
         },
         {
          "gen_sum": 240,
          "hour": 129,
          "resource": "PS"
         },
         {
          "gen_sum": 5.934,
          "hour": 129,
          "resource": "PV"
         },
         {
          "gen_sum": 26.709,
          "hour": 129,
          "resource": "WT"
         },
         {
          "gen_sum": 0,
          "hour": 130,
          "resource": "BM"
         },
         {
          "gen_sum": 1018.6234999999998,
          "hour": 130,
          "resource": "CC"
         },
         {
          "gen_sum": 426.96000000000004,
          "hour": 130,
          "resource": "HY"
         },
         {
          "gen_sum": 240,
          "hour": 130,
          "resource": "PS"
         },
         {
          "gen_sum": 8.832,
          "hour": 130,
          "resource": "PV"
         },
         {
          "gen_sum": 40.9845,
          "hour": 130,
          "resource": "WT"
         },
         {
          "gen_sum": 0,
          "hour": 131,
          "resource": "BM"
         },
         {
          "gen_sum": 1022.8549999999991,
          "hour": 131,
          "resource": "CC"
         },
         {
          "gen_sum": 426.96000000000004,
          "hour": 131,
          "resource": "HY"
         },
         {
          "gen_sum": 240,
          "hour": 131,
          "resource": "PS"
         },
         {
          "gen_sum": 10.120000000000003,
          "hour": 131,
          "resource": "PV"
         },
         {
          "gen_sum": 59.865,
          "hour": 131,
          "resource": "WT"
         },
         {
          "gen_sum": 0,
          "hour": 132,
          "resource": "BM"
         },
         {
          "gen_sum": 1030.1430000000003,
          "hour": 132,
          "resource": "CC"
         },
         {
          "gen_sum": 426.96000000000004,
          "hour": 132,
          "resource": "HY"
         },
         {
          "gen_sum": 240,
          "hour": 132,
          "resource": "PS"
         },
         {
          "gen_sum": 9.085,
          "hour": 132,
          "resource": "PV"
         },
         {
          "gen_sum": 66.312,
          "hour": 132,
          "resource": "WT"
         },
         {
          "gen_sum": 0,
          "hour": 133,
          "resource": "BM"
         },
         {
          "gen_sum": 1032.1544999999996,
          "hour": 133,
          "resource": "CC"
         },
         {
          "gen_sum": 426.96000000000004,
          "hour": 133,
          "resource": "HY"
         },
         {
          "gen_sum": 240,
          "hour": 133,
          "resource": "PS"
         },
         {
          "gen_sum": 6.739000000000001,
          "hour": 133,
          "resource": "PV"
         },
         {
          "gen_sum": 61.246500000000005,
          "hour": 133,
          "resource": "WT"
         },
         {
          "gen_sum": 0,
          "hour": 134,
          "resource": "BM"
         },
         {
          "gen_sum": 1065.5855000000006,
          "hour": 134,
          "resource": "CC"
         },
         {
          "gen_sum": 426.96000000000004,
          "hour": 134,
          "resource": "HY"
         },
         {
          "gen_sum": 240,
          "hour": 134,
          "resource": "PS"
         },
         {
          "gen_sum": 5.680999999999999,
          "hour": 134,
          "resource": "PV"
         },
         {
          "gen_sum": 49.2735,
          "hour": 134,
          "resource": "WT"
         },
         {
          "gen_sum": 0,
          "hour": 135,
          "resource": "BM"
         },
         {
          "gen_sum": 1071.2789999999998,
          "hour": 135,
          "resource": "CC"
         },
         {
          "gen_sum": 426.96000000000004,
          "hour": 135,
          "resource": "HY"
         },
         {
          "gen_sum": 240,
          "hour": 135,
          "resource": "PS"
         },
         {
          "gen_sum": 5.404999999999999,
          "hour": 135,
          "resource": "PV"
         },
         {
          "gen_sum": 33.156,
          "hour": 135,
          "resource": "WT"
         },
         {
          "gen_sum": 0,
          "hour": 136,
          "resource": "BM"
         },
         {
          "gen_sum": 1080.7515000000003,
          "hour": 136,
          "resource": "CC"
         },
         {
          "gen_sum": 426.96000000000004,
          "hour": 136,
          "resource": "HY"
         },
         {
          "gen_sum": 240,
          "hour": 136,
          "resource": "PS"
         },
         {
          "gen_sum": 5.129,
          "hour": 136,
          "resource": "PV"
         },
         {
          "gen_sum": 17.959500000000002,
          "hour": 136,
          "resource": "WT"
         },
         {
          "gen_sum": 0,
          "hour": 137,
          "resource": "BM"
         },
         {
          "gen_sum": 1063.7639999999994,
          "hour": 137,
          "resource": "CC"
         },
         {
          "gen_sum": 426.96000000000004,
          "hour": 137,
          "resource": "HY"
         },
         {
          "gen_sum": 240,
          "hour": 137,
          "resource": "PS"
         },
         {
          "gen_sum": 4.508000000000001,
          "hour": 137,
          "resource": "PV"
         },
         {
          "gen_sum": 7.368,
          "hour": 137,
          "resource": "WT"
         },
         {
          "gen_sum": 0,
          "hour": 138,
          "resource": "BM"
         },
         {
          "gen_sum": 1077.5705000000005,
          "hour": 138,
          "resource": "CC"
         },
         {
          "gen_sum": 426.96000000000004,
          "hour": 138,
          "resource": "HY"
         },
         {
          "gen_sum": 240,
          "hour": 138,
          "resource": "PS"
         },
         {
          "gen_sum": 3.5879999999999996,
          "hour": 138,
          "resource": "PV"
         },
         {
          "gen_sum": 1.3815000000000002,
          "hour": 138,
          "resource": "WT"
         },
         {
          "gen_sum": 0,
          "hour": 139,
          "resource": "BM"
         },
         {
          "gen_sum": 1085.289,
          "hour": 139,
          "resource": "CC"
         },
         {
          "gen_sum": 426.96000000000004,
          "hour": 139,
          "resource": "HY"
         },
         {
          "gen_sum": 240,
          "hour": 139,
          "resource": "PS"
         },
         {
          "gen_sum": 2.5300000000000007,
          "hour": 139,
          "resource": "PV"
         },
         {
          "gen_sum": 0.921,
          "hour": 139,
          "resource": "WT"
         },
         {
          "gen_sum": 0,
          "hour": 140,
          "resource": "BM"
         },
         {
          "gen_sum": 1089.1229999999998,
          "hour": 140,
          "resource": "CC"
         },
         {
          "gen_sum": 426.96000000000004,
          "hour": 140,
          "resource": "HY"
         },
         {
          "gen_sum": 240,
          "hour": 140,
          "resource": "PS"
         },
         {
          "gen_sum": 1.1960000000000002,
          "hour": 140,
          "resource": "PV"
         },
         {
          "gen_sum": 0.921,
          "hour": 140,
          "resource": "WT"
         },
         {
          "gen_sum": 0,
          "hour": 141,
          "resource": "BM"
         },
         {
          "gen_sum": 1079.6644999999999,
          "hour": 141,
          "resource": "CC"
         },
         {
          "gen_sum": 426.96000000000004,
          "hour": 141,
          "resource": "HY"
         },
         {
          "gen_sum": 240,
          "hour": 141,
          "resource": "PS"
         },
         {
          "gen_sum": 0.11499999999999998,
          "hour": 141,
          "resource": "PV"
         },
         {
          "gen_sum": 0.4605,
          "hour": 141,
          "resource": "WT"
         },
         {
          "gen_sum": 0,
          "hour": 142,
          "resource": "BM"
         },
         {
          "gen_sum": 1210.8039,
          "hour": 142,
          "resource": "CC"
         },
         {
          "gen_sum": 281.7936,
          "hour": 142,
          "resource": "HY"
         },
         {
          "gen_sum": 240,
          "hour": 142,
          "resource": "PS"
         },
         {
          "gen_sum": 0,
          "hour": 142,
          "resource": "PV"
         },
         {
          "gen_sum": 2.3024999999999998,
          "hour": 142,
          "resource": "WT"
         },
         {
          "gen_sum": 0,
          "hour": 143,
          "resource": "BM"
         },
         {
          "gen_sum": 1129.0594,
          "hour": 143,
          "resource": "CC"
         },
         {
          "gen_sum": 281.7936,
          "hour": 143,
          "resource": "HY"
         },
         {
          "gen_sum": 240,
          "hour": 143,
          "resource": "PS"
         },
         {
          "gen_sum": 0,
          "hour": 143,
          "resource": "PV"
         },
         {
          "gen_sum": 6.446999999999999,
          "hour": 143,
          "resource": "WT"
         },
         {
          "gen_sum": 0,
          "hour": 144,
          "resource": "BM"
         },
         {
          "gen_sum": 1006.7938999999999,
          "hour": 144,
          "resource": "CC"
         },
         {
          "gen_sum": 281.7936,
          "hour": 144,
          "resource": "HY"
         },
         {
          "gen_sum": 240,
          "hour": 144,
          "resource": "PS"
         },
         {
          "gen_sum": 0,
          "hour": 144,
          "resource": "PV"
         },
         {
          "gen_sum": 11.512500000000001,
          "hour": 144,
          "resource": "WT"
         },
         {
          "gen_sum": 0,
          "hour": 145,
          "resource": "BM"
         },
         {
          "gen_sum": 877.2909000000001,
          "hour": 145,
          "resource": "CC"
         },
         {
          "gen_sum": 281.7936,
          "hour": 145,
          "resource": "HY"
         },
         {
          "gen_sum": 240,
          "hour": 145,
          "resource": "PS"
         },
         {
          "gen_sum": 0,
          "hour": 145,
          "resource": "PV"
         },
         {
          "gen_sum": 51.1155,
          "hour": 145,
          "resource": "WT"
         },
         {
          "gen_sum": 0,
          "hour": 146,
          "resource": "BM"
         },
         {
          "gen_sum": 777.3484000000001,
          "hour": 146,
          "resource": "CC"
         },
         {
          "gen_sum": 281.7936,
          "hour": 146,
          "resource": "HY"
         },
         {
          "gen_sum": 240,
          "hour": 146,
          "resource": "PS"
         },
         {
          "gen_sum": 0,
          "hour": 146,
          "resource": "PV"
         },
         {
          "gen_sum": 90.25800000000001,
          "hour": 146,
          "resource": "WT"
         },
         {
          "gen_sum": 0,
          "hour": 147,
          "resource": "BM"
         },
         {
          "gen_sum": 745.0534,
          "hour": 147,
          "resource": "CC"
         },
         {
          "gen_sum": 281.7936,
          "hour": 147,
          "resource": "HY"
         },
         {
          "gen_sum": 240,
          "hour": 147,
          "resource": "PS"
         },
         {
          "gen_sum": 0,
          "hour": 147,
          "resource": "PV"
         },
         {
          "gen_sum": 85.65300000000002,
          "hour": 147,
          "resource": "WT"
         },
         {
          "gen_sum": 0,
          "hour": 148,
          "resource": "BM"
         },
         {
          "gen_sum": 721.0693999999999,
          "hour": 148,
          "resource": "CC"
         },
         {
          "gen_sum": 281.7936,
          "hour": 148,
          "resource": "HY"
         },
         {
          "gen_sum": 240,
          "hour": 148,
          "resource": "PS"
         },
         {
          "gen_sum": 0,
          "hour": 148,
          "resource": "PV"
         },
         {
          "gen_sum": 89.33699999999999,
          "hour": 148,
          "resource": "WT"
         },
         {
          "gen_sum": 0,
          "hour": 149,
          "resource": "BM"
         },
         {
          "gen_sum": 680.4009000000002,
          "hour": 149,
          "resource": "CC"
         },
         {
          "gen_sum": 281.7936,
          "hour": 149,
          "resource": "HY"
         },
         {
          "gen_sum": 240,
          "hour": 149,
          "resource": "PS"
         },
         {
          "gen_sum": 0,
          "hour": 149,
          "resource": "PV"
         },
         {
          "gen_sum": 134.0055,
          "hour": 149,
          "resource": "WT"
         },
         {
          "gen_sum": 0,
          "hour": 150,
          "resource": "BM"
         },
         {
          "gen_sum": 702.3843999999999,
          "hour": 150,
          "resource": "CC"
         },
         {
          "gen_sum": 281.7936,
          "hour": 150,
          "resource": "HY"
         },
         {
          "gen_sum": 240,
          "hour": 150,
          "resource": "PS"
         },
         {
          "gen_sum": 0,
          "hour": 150,
          "resource": "PV"
         },
         {
          "gen_sum": 167.62199999999999,
          "hour": 150,
          "resource": "WT"
         },
         {
          "gen_sum": 0,
          "hour": 151,
          "resource": "BM"
         },
         {
          "gen_sum": 658.0944999999999,
          "hour": 151,
          "resource": "CC"
         },
         {
          "gen_sum": 426.96000000000004,
          "hour": 151,
          "resource": "HY"
         },
         {
          "gen_sum": 240,
          "hour": 151,
          "resource": "PS"
         },
         {
          "gen_sum": 0.253,
          "hour": 151,
          "resource": "PV"
         },
         {
          "gen_sum": 177.2925,
          "hour": 151,
          "resource": "WT"
         },
         {
          "gen_sum": 0,
          "hour": 152,
          "resource": "BM"
         },
         {
          "gen_sum": 788.9815,
          "hour": 152,
          "resource": "CC"
         },
         {
          "gen_sum": 426.96000000000004,
          "hour": 152,
          "resource": "HY"
         },
         {
          "gen_sum": 240,
          "hour": 152,
          "resource": "PS"
         },
         {
          "gen_sum": 1.012,
          "hour": 152,
          "resource": "PV"
         },
         {
          "gen_sum": 153.34650000000002,
          "hour": 152,
          "resource": "WT"
         },
         {
          "gen_sum": 0,
          "hour": 153,
          "resource": "BM"
         },
         {
          "gen_sum": 855.519,
          "hour": 153,
          "resource": "CC"
         },
         {
          "gen_sum": 426.96000000000004,
          "hour": 153,
          "resource": "HY"
         },
         {
          "gen_sum": 240,
          "hour": 153,
          "resource": "PS"
         },
         {
          "gen_sum": 2.323,
          "hour": 153,
          "resource": "PV"
         },
         {
          "gen_sum": 127.09800000000001,
          "hour": 153,
          "resource": "WT"
         },
         {
          "gen_sum": 0,
          "hour": 154,
          "resource": "BM"
         },
         {
          "gen_sum": 908.7205000000002,
          "hour": 154,
          "resource": "CC"
         },
         {
          "gen_sum": 426.96000000000004,
          "hour": 154,
          "resource": "HY"
         },
         {
          "gen_sum": 240,
          "hour": 154,
          "resource": "PS"
         },
         {
          "gen_sum": 4.554,
          "hour": 154,
          "resource": "PV"
         },
         {
          "gen_sum": 97.16550000000001,
          "hour": 154,
          "resource": "WT"
         },
         {
          "gen_sum": 0,
          "hour": 155,
          "resource": "BM"
         },
         {
          "gen_sum": 976.7814999999997,
          "hour": 155,
          "resource": "CC"
         },
         {
          "gen_sum": 426.96000000000004,
          "hour": 155,
          "resource": "HY"
         },
         {
          "gen_sum": 240,
          "hour": 155,
          "resource": "PS"
         },
         {
          "gen_sum": 7.3599999999999985,
          "hour": 155,
          "resource": "PV"
         },
         {
          "gen_sum": 72.2985,
          "hour": 155,
          "resource": "WT"
         },
         {
          "gen_sum": 0,
          "hour": 156,
          "resource": "BM"
         },
         {
          "gen_sum": 1008.4399999999996,
          "hour": 156,
          "resource": "CC"
         },
         {
          "gen_sum": 426.96000000000004,
          "hour": 156,
          "resource": "HY"
         },
         {
          "gen_sum": 240,
          "hour": 156,
          "resource": "PS"
         },
         {
          "gen_sum": 10.235000000000001,
          "hour": 156,
          "resource": "PV"
         },
         {
          "gen_sum": 59.865,
          "hour": 156,
          "resource": "WT"
         },
         {
          "gen_sum": 0,
          "hour": 157,
          "resource": "BM"
         },
         {
          "gen_sum": 1029.7265000000004,
          "hour": 157,
          "resource": "CC"
         },
         {
          "gen_sum": 426.96000000000004,
          "hour": 157,
          "resource": "HY"
         },
         {
          "gen_sum": 240,
          "hour": 157,
          "resource": "PS"
         },
         {
          "gen_sum": 12.535,
          "hour": 157,
          "resource": "PV"
         },
         {
          "gen_sum": 53.878499999999995,
          "hour": 157,
          "resource": "WT"
         },
         {
          "gen_sum": 0,
          "hour": 158,
          "resource": "BM"
         },
         {
          "gen_sum": 1071.1395000000002,
          "hour": 158,
          "resource": "CC"
         },
         {
          "gen_sum": 426.96000000000004,
          "hour": 158,
          "resource": "HY"
         },
         {
          "gen_sum": 240,
          "hour": 158,
          "resource": "PS"
         },
         {
          "gen_sum": 14.052999999999999,
          "hour": 158,
          "resource": "PV"
         },
         {
          "gen_sum": 43.747499999999995,
          "hour": 158,
          "resource": "WT"
         },
         {
          "gen_sum": 0,
          "hour": 159,
          "resource": "BM"
         },
         {
          "gen_sum": 1084.9119999999996,
          "hour": 159,
          "resource": "CC"
         },
         {
          "gen_sum": 426.96000000000004,
          "hour": 159,
          "resource": "HY"
         },
         {
          "gen_sum": 240,
          "hour": 159,
          "resource": "PS"
         },
         {
          "gen_sum": 14.466999999999999,
          "hour": 159,
          "resource": "PV"
         },
         {
          "gen_sum": 37.760999999999996,
          "hour": 159,
          "resource": "WT"
         },
         {
          "gen_sum": 0,
          "hour": 160,
          "resource": "BM"
         },
         {
          "gen_sum": 1080.010999999999,
          "hour": 160,
          "resource": "CC"
         },
         {
          "gen_sum": 426.96000000000004,
          "hour": 160,
          "resource": "HY"
         },
         {
          "gen_sum": 240,
          "hour": 160,
          "resource": "PS"
         },
         {
          "gen_sum": 13.547,
          "hour": 160,
          "resource": "PV"
         },
         {
          "gen_sum": 38.682,
          "hour": 160,
          "resource": "WT"
         },
         {
          "gen_sum": 0,
          "hour": 161,
          "resource": "BM"
         },
         {
          "gen_sum": 1083.7549999999999,
          "hour": 161,
          "resource": "CC"
         },
         {
          "gen_sum": 426.96000000000004,
          "hour": 161,
          "resource": "HY"
         },
         {
          "gen_sum": 240,
          "hour": 161,
          "resource": "PS"
         },
         {
          "gen_sum": 11.476999999999999,
          "hour": 161,
          "resource": "PV"
         },
         {
          "gen_sum": 44.208000000000006,
          "hour": 161,
          "resource": "WT"
         },
         {
          "gen_sum": 0,
          "hour": 162,
          "resource": "BM"
         },
         {
          "gen_sum": 1053.029,
          "hour": 162,
          "resource": "CC"
         },
         {
          "gen_sum": 426.96000000000004,
          "hour": 162,
          "resource": "HY"
         },
         {
          "gen_sum": 240,
          "hour": 162,
          "resource": "PS"
         },
         {
          "gen_sum": 8.372,
          "hour": 162,
          "resource": "PV"
         },
         {
          "gen_sum": 54.339,
          "hour": 162,
          "resource": "WT"
         },
         {
          "gen_sum": 0,
          "hour": 163,
          "resource": "BM"
         },
         {
          "gen_sum": 1017.4370000000002,
          "hour": 163,
          "resource": "CC"
         },
         {
          "gen_sum": 426.96000000000004,
          "hour": 163,
          "resource": "HY"
         },
         {
          "gen_sum": 240,
          "hour": 163,
          "resource": "PS"
         },
         {
          "gen_sum": 4.9910000000000005,
          "hour": 163,
          "resource": "PV"
         },
         {
          "gen_sum": 66.312,
          "hour": 163,
          "resource": "WT"
         },
         {
          "gen_sum": 0,
          "hour": 164,
          "resource": "BM"
         },
         {
          "gen_sum": 1004.6494999999996,
          "hour": 164,
          "resource": "CC"
         },
         {
          "gen_sum": 426.96000000000004,
          "hour": 164,
          "resource": "HY"
         },
         {
          "gen_sum": 240,
          "hour": 164,
          "resource": "PS"
         },
         {
          "gen_sum": 1.7709999999999997,
          "hour": 164,
          "resource": "PV"
         },
         {
          "gen_sum": 73.2195,
          "hour": 164,
          "resource": "WT"
         },
         {
          "gen_sum": 0,
          "hour": 165,
          "resource": "BM"
         },
         {
          "gen_sum": 968.6900000000004,
          "hour": 165,
          "resource": "CC"
         },
         {
          "gen_sum": 426.96000000000004,
          "hour": 165,
          "resource": "HY"
         },
         {
          "gen_sum": 240,
          "hour": 165,
          "resource": "PS"
         },
         {
          "gen_sum": 0.16100000000000003,
          "hour": 165,
          "resource": "PV"
         },
         {
          "gen_sum": 100.389,
          "hour": 165,
          "resource": "WT"
         },
         {
          "gen_sum": 0,
          "hour": 166,
          "resource": "BM"
         },
         {
          "gen_sum": 1094.7554000000002,
          "hour": 166,
          "resource": "CC"
         },
         {
          "gen_sum": 281.7936,
          "hour": 166,
          "resource": "HY"
         },
         {
          "gen_sum": 240,
          "hour": 166,
          "resource": "PS"
         },
         {
          "gen_sum": 0,
          "hour": 166,
          "resource": "PV"
         },
         {
          "gen_sum": 120.65100000000002,
          "hour": 166,
          "resource": "WT"
         },
         {
          "gen_sum": 0,
          "hour": 167,
          "resource": "BM"
         },
         {
          "gen_sum": 993.4544000000003,
          "hour": 167,
          "resource": "CC"
         },
         {
          "gen_sum": 281.7936,
          "hour": 167,
          "resource": "HY"
         },
         {
          "gen_sum": 240,
          "hour": 167,
          "resource": "PS"
         },
         {
          "gen_sum": 0,
          "hour": 167,
          "resource": "PV"
         },
         {
          "gen_sum": 103.15199999999999,
          "hour": 167,
          "resource": "WT"
         },
         {
          "gen_sum": 0,
          "hour": 168,
          "resource": "BM"
         },
         {
          "gen_sum": 906.7139,
          "hour": 168,
          "resource": "CC"
         },
         {
          "gen_sum": 281.7936,
          "hour": 168,
          "resource": "HY"
         },
         {
          "gen_sum": 240,
          "hour": 168,
          "resource": "PS"
         },
         {
          "gen_sum": 0,
          "hour": 168,
          "resource": "PV"
         },
         {
          "gen_sum": 85.19250000000001,
          "hour": 168,
          "resource": "WT"
         }
        ]
       },
       "encoding": {
        "color": {
         "field": "resource",
         "scale": {
          "scheme": "category20"
         },
         "type": "nominal"
        },
        "x": {
         "field": "hour",
         "type": "quantitative"
        },
        "y": {
         "field": "gen_sum",
         "stack": "zero",
         "type": "quantitative"
        }
       },
       "mark": "area"
      },
      "image/png": "[encoded data removed]",
      "image/svg+xml": [
       "<?xml version=\"1.0\" encoding=\"utf-8\"?>\n",
       "<!DOCTYPE svg PUBLIC \"-//W3C//DTD SVG 1.1//EN\" \"http://www.w3.org/Graphics/SVG/1.1/DTD/svg11.dtd\">\n",
       "<svg class=\"marks\" width=\"323\" height=\"247\" viewBox=\"0 0 323 247\" version=\"1.1\" xmlns=\"http://www.w3.org/2000/svg\" xmlns:xlink=\"http://www.w3.org/1999/xlink\"><rect width=\"323\" height=\"247\" fill=\"white\"></rect><g fill=\"none\" stroke-miterlimit=\"10\" transform=\"translate(54,10)\"><g class=\"mark-group role-frame root\" role=\"graphics-object\" aria-roledescription=\"group mark container\"><g transform=\"translate(0,0)\"><path class=\"background\" aria-hidden=\"true\" d=\"M0.5,0.5h200v200h-200Z\" stroke=\"#ddd\"></path><g><g class=\"mark-group role-axis\" aria-hidden=\"true\"><g transform=\"translate(0.5,200.5)\"><path class=\"background\" aria-hidden=\"true\" d=\"M0,0h0v0h0Z\" pointer-events=\"none\"></path><g><g class=\"mark-rule role-axis-grid\" pointer-events=\"none\"><line transform=\"translate(0,-200)\" x2=\"0\" y2=\"200\" stroke=\"#ddd\" stroke-width=\"1\" opacity=\"1\"></line><line transform=\"translate(56,-200)\" x2=\"0\" y2=\"200\" stroke=\"#ddd\" stroke-width=\"1\" opacity=\"1\"></line><line transform=\"translate(111,-200)\" x2=\"0\" y2=\"200\" stroke=\"#ddd\" stroke-width=\"1\" opacity=\"1\"></line><line transform=\"translate(167,-200)\" x2=\"0\" y2=\"200\" stroke=\"#ddd\" stroke-width=\"1\" opacity=\"1\"></line></g></g><path class=\"foreground\" aria-hidden=\"true\" d=\"\" pointer-events=\"none\" display=\"none\"></path></g></g><g class=\"mark-group role-axis\" aria-hidden=\"true\"><g transform=\"translate(0.5,0.5)\"><path class=\"background\" aria-hidden=\"true\" d=\"M0,0h0v0h0Z\" pointer-events=\"none\"></path><g><g class=\"mark-rule role-axis-grid\" pointer-events=\"none\"><line transform=\"translate(0,200)\" x2=\"200\" y2=\"0\" stroke=\"#ddd\" stroke-width=\"1\" opacity=\"1\"></line><line transform=\"translate(0,150)\" x2=\"200\" y2=\"0\" stroke=\"#ddd\" stroke-width=\"1\" opacity=\"1\"></line><line transform=\"translate(0,100)\" x2=\"200\" y2=\"0\" stroke=\"#ddd\" stroke-width=\"1\" opacity=\"1\"></line><line transform=\"translate(0,50)\" x2=\"200\" y2=\"0\" stroke=\"#ddd\" stroke-width=\"1\" opacity=\"1\"></line><line transform=\"translate(0,0)\" x2=\"200\" y2=\"0\" stroke=\"#ddd\" stroke-width=\"1\" opacity=\"1\"></line></g></g><path class=\"foreground\" aria-hidden=\"true\" d=\"\" pointer-events=\"none\" display=\"none\"></path></g></g><g class=\"mark-group role-axis\" role=\"graphics-symbol\" aria-roledescription=\"axis\" aria-label=\"X-axis titled 'hour' for a linear scale with values from 0 to 180\"><g transform=\"translate(0.5,200.5)\"><path class=\"background\" aria-hidden=\"true\" d=\"M0,0h0v0h0Z\" pointer-events=\"none\"></path><g><g class=\"mark-rule role-axis-tick\" pointer-events=\"none\"><line transform=\"translate(0,0)\" x2=\"0\" y2=\"5\" stroke=\"#888\" stroke-width=\"1\" opacity=\"1\"></line><line transform=\"translate(56,0)\" x2=\"0\" y2=\"5\" stroke=\"#888\" stroke-width=\"1\" opacity=\"1\"></line><line transform=\"translate(111,0)\" x2=\"0\" y2=\"5\" stroke=\"#888\" stroke-width=\"1\" opacity=\"1\"></line><line transform=\"translate(167,0)\" x2=\"0\" y2=\"5\" stroke=\"#888\" stroke-width=\"1\" opacity=\"1\"></line></g><g class=\"mark-text role-axis-label\" pointer-events=\"none\"><text text-anchor=\"start\" transform=\"translate(0,15)\" font-family=\"sans-serif\" font-size=\"10px\" fill=\"#000\" opacity=\"1\">0</text><text text-anchor=\"middle\" transform=\"translate(55.55555555555556,15)\" font-family=\"sans-serif\" font-size=\"10px\" fill=\"#000\" opacity=\"1\">50</text><text text-anchor=\"middle\" transform=\"translate(111.11111111111111,15)\" font-family=\"sans-serif\" font-size=\"10px\" fill=\"#000\" opacity=\"1\">100</text><text text-anchor=\"middle\" transform=\"translate(166.66666666666669,15)\" font-family=\"sans-serif\" font-size=\"10px\" fill=\"#000\" opacity=\"1\">150</text></g><g class=\"mark-rule role-axis-domain\" pointer-events=\"none\"><line transform=\"translate(0,0)\" x2=\"200\" y2=\"0\" stroke=\"#888\" stroke-width=\"1\" opacity=\"1\"></line></g><g class=\"mark-text role-axis-title\" pointer-events=\"none\"><text text-anchor=\"middle\" transform=\"translate(100,30)\" font-family=\"sans-serif\" font-size=\"11px\" font-weight=\"bold\" fill=\"#000\" opacity=\"1\">hour</text></g></g><path class=\"foreground\" aria-hidden=\"true\" d=\"\" pointer-events=\"none\" display=\"none\"></path></g></g><g class=\"mark-group role-axis\" role=\"graphics-symbol\" aria-roledescription=\"axis\" aria-label=\"Y-axis titled 'gen_sum' for a linear scale with values from 0 to 2,000\"><g transform=\"translate(0.5,0.5)\"><path class=\"background\" aria-hidden=\"true\" d=\"M0,0h0v0h0Z\" pointer-events=\"none\"></path><g><g class=\"mark-rule role-axis-tick\" pointer-events=\"none\"><line transform=\"translate(0,200)\" x2=\"-5\" y2=\"0\" stroke=\"#888\" stroke-width=\"1\" opacity=\"1\"></line><line transform=\"translate(0,150)\" x2=\"-5\" y2=\"0\" stroke=\"#888\" stroke-width=\"1\" opacity=\"1\"></line><line transform=\"translate(0,100)\" x2=\"-5\" y2=\"0\" stroke=\"#888\" stroke-width=\"1\" opacity=\"1\"></line><line transform=\"translate(0,50)\" x2=\"-5\" y2=\"0\" stroke=\"#888\" stroke-width=\"1\" opacity=\"1\"></line><line transform=\"translate(0,0)\" x2=\"-5\" y2=\"0\" stroke=\"#888\" stroke-width=\"1\" opacity=\"1\"></line></g><g class=\"mark-text role-axis-label\" pointer-events=\"none\"><text text-anchor=\"end\" transform=\"translate(-7,203)\" font-family=\"sans-serif\" font-size=\"10px\" fill=\"#000\" opacity=\"1\">0</text><text text-anchor=\"end\" transform=\"translate(-7,153)\" font-family=\"sans-serif\" font-size=\"10px\" fill=\"#000\" opacity=\"1\">500</text><text text-anchor=\"end\" transform=\"translate(-7,103)\" font-family=\"sans-serif\" font-size=\"10px\" fill=\"#000\" opacity=\"1\">1,000</text><text text-anchor=\"end\" transform=\"translate(-7,53)\" font-family=\"sans-serif\" font-size=\"10px\" fill=\"#000\" opacity=\"1\">1,500</text><text text-anchor=\"end\" transform=\"translate(-7,3)\" font-family=\"sans-serif\" font-size=\"10px\" fill=\"#000\" opacity=\"1\">2,000</text></g><g class=\"mark-rule role-axis-domain\" pointer-events=\"none\"><line transform=\"translate(0,200)\" x2=\"0\" y2=\"-200\" stroke=\"#888\" stroke-width=\"1\" opacity=\"1\"></line></g><g class=\"mark-text role-axis-title\" pointer-events=\"none\"><text text-anchor=\"middle\" transform=\"translate(-38,100) rotate(-90) translate(0,-2)\" font-family=\"sans-serif\" font-size=\"11px\" font-weight=\"bold\" fill=\"#000\" opacity=\"1\">gen_sum</text></g></g><path class=\"foreground\" aria-hidden=\"true\" d=\"\" pointer-events=\"none\" display=\"none\"></path></g></g><g class=\"mark-group role-scope pathgroup\" role=\"graphics-object\" aria-roledescription=\"group mark container\"><g transform=\"translate(0,0)\"><path class=\"background\" aria-hidden=\"true\" d=\"M0,0h200v200h-200Z\"></path><g><g class=\"mark-area role-mark marks\" role=\"graphics-object\" aria-roledescription=\"area mark container\"><path aria-label=\"hour: 1; gen_sum: 0; resource: BM\" role=\"graphics-symbol\" aria-roledescription=\"area mark\" d=\"M1.1111111111111112,63.09L2.2222222222222223,68.41999999999999L3.3333333333333335,71.87000000000003L4.444444444444445,73.15999999999998L5.555555555555555,72.32000000000002L6.666666666666667,69.86999999999999L7.777777777777778,66.63L8.88888888888889,60.13000000000002L10,50.65000000000004L11.11111111111111,45.75999999999998L12.222222222222221,41.98000000000002L13.333333333333334,41.26999999999998L14.444444444444443,41.05999999999996L15.555555555555555,39.729999999999954L16.666666666666664,38.819999999999986L17.77777777777778,38.639999999999965L18.88888888888889,39.300000000000004L20,37.64000000000001L21.11111111111111,41.19000000000001L22.22222222222222,40.98000000000002L23.333333333333332,41.339999999999954L24.444444444444443,41.639999999999986L25.555555555555554,47.30999999999999L26.666666666666668,55.749999999999964L27.77777777777778,64.02000000000004L28.888888888888886,66.95L30,68.11999999999998L31.11111111111111,69.15L32.22222222222222,68.86999999999999L33.33333333333333,68.7L34.44444444444444,69.49000000000001L35.55555555555556,65.10000000000002L36.666666666666664,59.089999999999996L37.77777777777778,52.439999999999955L38.88888888888889,48.369999999999976L40,48.17000000000002L41.11111111111111,47.21000000000002L42.22222222222222,48.629999999999974L43.333333333333336,48.58000000000003L44.44444444444444,51.64000000000002L45.55555555555556,51.23000000000002L46.666666666666664,48.74000000000001L47.77777777777778,48.39000000000002L48.888888888888886,48.929999999999964L50,48.35000000000005L51.11111111111111,46.66999999999999L52.22222222222223,52.81L53.333333333333336,59.40999999999998L54.44444444444444,65.9L55.55555555555556,68.07999999999998L56.666666666666664,69.73000000000002L57.77777777777777,69.87999999999997L58.88888888888889,68.74L60,63.58000000000001L61.111111111111114,52.27999999999995L62.22222222222222,41.440000000000055L63.33333333333333,35.41000000000003L64.44444444444444,32.82000000000003L65.55555555555556,31.100000000000037L66.66666666666666,31.19999999999996L67.77777777777779,32.69000000000002L68.88888888888889,32.81999999999998L70,35.01999999999998L71.11111111111111,39.40999999999999L72.22222222222221,39.910000000000004L73.33333333333333,38.56000000000002L74.44444444444444,38.559999999999974L75.55555555555556,38.14999999999995L76.66666666666667,36.95000000000002L77.77777777777779,35.219999999999985L78.88888888888889,41.93000000000002L80,51.64000000000002L81.11111111111111,59.02999999999998L82.22222222222221,63.22000000000001L83.33333333333334,64.92000000000002L84.44444444444444,64.7L85.55555555555556,62.39999999999996L86.66666666666667,55.00000000000001L87.77777777777777,44.35999999999996L88.88888888888889,34.440000000000005L90,31.44L91.11111111111111,31.330000000000034L92.22222222222223,29.029999999999955L93.33333333333333,27.96999999999994L94.44444444444444,27.35000000000005L95.55555555555556,27.029999999999976L96.66666666666667,28.910000000000082L97.77777777777777,31.689999999999998L98.88888888888889,32.09000000000002L100,32.009999999999984L101.11111111111111,33.219999999999985L102.22222222222221,35.400000000000006L103.33333333333334,32.01999999999996L104.44444444444446,31.230000000000004L105.55555555555556,41.820000000000014L106.66666666666667,54.049999999999955L107.77777777777777,60.55999999999999L108.88888888888889,64.62L110.00000000000001,66.67L111.11111111111111,67.86999999999999L112.22222222222223,65.38L113.33333333333333,60.20000000000001L114.44444444444444,48.76999999999998L115.55555555555554,37.129999999999995L116.66666666666667,27.720000000000056L117.77777777777779,24.290000000000013L118.88888888888889,23.570000000000025L120,21.669999999999987L121.1111111111111,21.360000000000024L122.22222222222223,18.300000000000026L123.33333333333334,21.23000000000006L124.44444444444444,24.910000000000053L125.55555555555556,25.080000000000013L126.66666666666666,27.250000000000064L127.77777777777777,28.139999999999965L128.88888888888889,28.09000000000006L130,24.589999999999957L131.11111111111111,27.669999999999973L132.22222222222223,37.12000000000002L133.33333333333331,48.42999999999997L134.44444444444446,54.699999999999974L135.55555555555557,58.829999999999984L136.66666666666666,61.530000000000015L137.77777777777777,62.37000000000003L138.88888888888889,60.99000000000001L140,55.44L141.11111111111111,43.81999999999997L142.22222222222223,32.76999999999999L143.33333333333334,27.630000000000045L144.44444444444443,26.460000000000015L145.55555555555554,24.020000000000064L146.66666666666666,22.749999999999982L147.77777777777777,23.290000000000035L148.88888888888889,21.249999999999925L150,22.32000000000003L151.11111111111111,22.919999999999963L152.22222222222223,25.74000000000005L153.33333333333334,25.04999999999995L154.44444444444446,24.429999999999996L155.55555555555557,24.180000000000025L156.66666666666666,25.280000000000015L157.77777777777777,26.50999999999999L158.88888888888889,34.26999999999998L160,45.99000000000002L161.11111111111111,54.97999999999996L162.22222222222223,61.05999999999998L163.33333333333334,64.75L164.44444444444443,66.78000000000002L165.55555555555554,66.37999999999997L166.66666666666669,60.82000000000001L167.77777777777777,49.74000000000001L168.88888888888889,38.96999999999997L170,34.80999999999999L171.11111111111111,32.25999999999998L172.22222222222223,27.66000000000004L173.33333333333334,25.45000000000004L174.44444444444446,23.689999999999966L175.55555555555554,20.40999999999997L176.66666666666666,19.59000000000004L177.77777777777777,20.080000000000076L178.88888888888889,19.36000000000002L180,21.730000000000004L181.11111111111111,24.429999999999975L182.22222222222223,25.34000000000003L183.33333333333331,26.37999999999998L184.44444444444446,26.27999999999997L185.55555555555557,38.15999999999997L186.66666666666666,48.629999999999995L186.66666666666666,48.629999999999995L185.55555555555557,38.15999999999997L184.44444444444446,26.27999999999997L183.33333333333331,26.37999999999998L182.22222222222223,25.34000000000003L181.11111111111111,24.429999999999975L180,21.730000000000004L178.88888888888889,19.36000000000002L177.77777777777777,20.080000000000076L176.66666666666666,19.59000000000004L175.55555555555554,20.40999999999997L174.44444444444446,23.689999999999966L173.33333333333334,25.45000000000004L172.22222222222223,27.66000000000004L171.11111111111111,32.25999999999998L170,34.80999999999999L168.88888888888889,38.96999999999997L167.77777777777777,49.74000000000001L166.66666666666669,60.82000000000001L165.55555555555554,66.37999999999997L164.44444444444443,66.78000000000002L163.33333333333334,64.75L162.22222222222223,61.05999999999998L161.11111111111111,54.97999999999996L160,45.99000000000002L158.88888888888889,34.26999999999998L157.77777777777777,26.50999999999999L156.66666666666666,25.280000000000015L155.55555555555557,24.180000000000025L154.44444444444446,24.429999999999996L153.33333333333334,25.04999999999995L152.22222222222223,25.74000000000005L151.11111111111111,22.919999999999963L150,22.32000000000003L148.88888888888889,21.249999999999925L147.77777777777777,23.290000000000035L146.66666666666666,22.749999999999982L145.55555555555554,24.020000000000064L144.44444444444443,26.460000000000015L143.33333333333334,27.630000000000045L142.22222222222223,32.76999999999999L141.11111111111111,43.81999999999997L140,55.44L138.88888888888889,60.99000000000001L137.77777777777777,62.37000000000003L136.66666666666666,61.530000000000015L135.55555555555557,58.829999999999984L134.44444444444446,54.699999999999974L133.33333333333331,48.42999999999997L132.22222222222223,37.12000000000002L131.11111111111111,27.669999999999973L130,24.589999999999957L128.88888888888889,28.09000000000006L127.77777777777777,28.139999999999965L126.66666666666666,27.250000000000064L125.55555555555556,25.080000000000013L124.44444444444444,24.910000000000053L123.33333333333334,21.23000000000006L122.22222222222223,18.300000000000026L121.1111111111111,21.360000000000024L120,21.669999999999987L118.88888888888889,23.570000000000025L117.77777777777779,24.290000000000013L116.66666666666667,27.720000000000056L115.55555555555554,37.129999999999995L114.44444444444444,48.76999999999998L113.33333333333333,60.20000000000001L112.22222222222223,65.38L111.11111111111111,67.86999999999999L110.00000000000001,66.67L108.88888888888889,64.62L107.77777777777777,60.55999999999999L106.66666666666667,54.049999999999955L105.55555555555556,41.820000000000014L104.44444444444446,31.230000000000004L103.33333333333334,32.01999999999996L102.22222222222221,35.400000000000006L101.11111111111111,33.219999999999985L100,32.009999999999984L98.88888888888889,32.09000000000002L97.77777777777777,31.689999999999998L96.66666666666667,28.910000000000082L95.55555555555556,27.029999999999976L94.44444444444444,27.35000000000005L93.33333333333333,27.96999999999994L92.22222222222223,29.029999999999955L91.11111111111111,31.330000000000034L90,31.44L88.88888888888889,34.440000000000005L87.77777777777777,44.35999999999996L86.66666666666667,55.00000000000001L85.55555555555556,62.39999999999996L84.44444444444444,64.7L83.33333333333334,64.92000000000002L82.22222222222221,63.22000000000001L81.11111111111111,59.02999999999998L80,51.64000000000002L78.88888888888889,41.93000000000002L77.77777777777779,35.219999999999985L76.66666666666667,36.95000000000002L75.55555555555556,38.14999999999995L74.44444444444444,38.559999999999974L73.33333333333333,38.56000000000002L72.22222222222221,39.910000000000004L71.11111111111111,39.40999999999999L70,35.01999999999998L68.88888888888889,32.81999999999998L67.77777777777779,32.69000000000002L66.66666666666666,31.19999999999996L65.55555555555556,31.100000000000037L64.44444444444444,32.82000000000003L63.33333333333333,35.41000000000003L62.22222222222222,41.440000000000055L61.111111111111114,52.27999999999995L60,63.58000000000001L58.88888888888889,68.74L57.77777777777777,69.87999999999997L56.666666666666664,69.73000000000002L55.55555555555556,68.07999999999998L54.44444444444444,65.9L53.333333333333336,59.40999999999998L52.22222222222223,52.81L51.11111111111111,46.66999999999999L50,48.35000000000005L48.888888888888886,48.929999999999964L47.77777777777778,48.39000000000002L46.666666666666664,48.74000000000001L45.55555555555556,51.23000000000002L44.44444444444444,51.64000000000002L43.333333333333336,48.58000000000003L42.22222222222222,48.629999999999974L41.11111111111111,47.21000000000002L40,48.17000000000002L38.88888888888889,48.369999999999976L37.77777777777778,52.439999999999955L36.666666666666664,59.089999999999996L35.55555555555556,65.10000000000002L34.44444444444444,69.49000000000001L33.33333333333333,68.7L32.22222222222222,68.86999999999999L31.11111111111111,69.15L30,68.11999999999998L28.888888888888886,66.95L27.77777777777778,64.02000000000004L26.666666666666668,55.749999999999964L25.555555555555554,47.30999999999999L24.444444444444443,41.639999999999986L23.333333333333332,41.339999999999954L22.22222222222222,40.98000000000002L21.11111111111111,41.19000000000001L20,37.64000000000001L18.88888888888889,39.300000000000004L17.77777777777778,38.639999999999965L16.666666666666664,38.819999999999986L15.555555555555555,39.729999999999954L14.444444444444443,41.05999999999996L13.333333333333334,41.26999999999998L12.222222222222221,41.98000000000002L11.11111111111111,45.75999999999998L10,50.65000000000004L8.88888888888889,60.13000000000002L7.777777777777778,66.63L6.666666666666667,69.86999999999999L5.555555555555555,72.32000000000002L4.444444444444445,73.15999999999998L3.3333333333333335,71.87000000000003L2.2222222222222223,68.41999999999999L1.1111111111111112,63.09Z\" fill=\"#1f77b4\"></path></g></g><path class=\"foreground\" aria-hidden=\"true\" d=\"\" display=\"none\"></path></g><g transform=\"translate(0,0)\"><path class=\"background\" aria-hidden=\"true\" d=\"M0,0h200v200h-200Z\"></path><g><g class=\"mark-area role-mark marks\" role=\"graphics-object\" aria-roledescription=\"area mark container\"><path aria-label=\"hour: 1; gen_sum: 819.6764; resource: CC\" role=\"graphics-symbol\" aria-roledescription=\"area mark\" d=\"M1.1111111111111112,63.09L2.2222222222222223,68.41999999999999L3.3333333333333335,71.87000000000003L4.444444444444445,73.15999999999998L5.555555555555555,72.32000000000002L6.666666666666667,69.86999999999999L7.777777777777778,66.63L8.88888888888889,60.13000000000002L10,50.65000000000004L11.11111111111111,45.75999999999998L12.222222222222221,41.98000000000002L13.333333333333334,41.26999999999998L14.444444444444443,41.05999999999996L15.555555555555555,39.729999999999954L16.666666666666664,38.819999999999986L17.77777777777778,38.639999999999965L18.88888888888889,39.300000000000004L20,37.64000000000001L21.11111111111111,41.19000000000001L22.22222222222222,40.98000000000002L23.333333333333332,41.339999999999954L24.444444444444443,41.639999999999986L25.555555555555554,47.30999999999999L26.666666666666668,55.749999999999964L27.77777777777778,64.02000000000004L28.888888888888886,66.95L30,68.11999999999998L31.11111111111111,69.15L32.22222222222222,68.86999999999999L33.33333333333333,68.7L34.44444444444444,69.49000000000001L35.55555555555556,65.10000000000002L36.666666666666664,59.089999999999996L37.77777777777778,52.439999999999955L38.88888888888889,48.369999999999976L40,48.17000000000002L41.11111111111111,47.21000000000002L42.22222222222222,48.629999999999974L43.333333333333336,48.58000000000003L44.44444444444444,51.64000000000002L45.55555555555556,51.23000000000002L46.666666666666664,48.74000000000001L47.77777777777778,48.39000000000002L48.888888888888886,48.929999999999964L50,48.35000000000005L51.11111111111111,46.66999999999999L52.22222222222223,52.81L53.333333333333336,59.40999999999998L54.44444444444444,65.9L55.55555555555556,68.07999999999998L56.666666666666664,69.73000000000002L57.77777777777777,69.87999999999997L58.88888888888889,68.74L60,63.58000000000001L61.111111111111114,52.27999999999995L62.22222222222222,41.440000000000055L63.33333333333333,35.41000000000003L64.44444444444444,32.82000000000003L65.55555555555556,31.100000000000037L66.66666666666666,31.19999999999996L67.77777777777779,32.69000000000002L68.88888888888889,32.81999999999998L70,35.01999999999998L71.11111111111111,39.40999999999999L72.22222222222221,39.910000000000004L73.33333333333333,38.56000000000002L74.44444444444444,38.559999999999974L75.55555555555556,38.14999999999995L76.66666666666667,36.95000000000002L77.77777777777779,35.219999999999985L78.88888888888889,41.93000000000002L80,51.64000000000002L81.11111111111111,59.02999999999998L82.22222222222221,63.22000000000001L83.33333333333334,64.92000000000002L84.44444444444444,64.7L85.55555555555556,62.39999999999996L86.66666666666667,55.00000000000001L87.77777777777777,44.35999999999996L88.88888888888889,34.440000000000005L90,31.44L91.11111111111111,31.330000000000034L92.22222222222223,29.029999999999955L93.33333333333333,27.96999999999994L94.44444444444444,27.35000000000005L95.55555555555556,27.029999999999976L96.66666666666667,28.910000000000082L97.77777777777777,31.689999999999998L98.88888888888889,32.09000000000002L100,32.009999999999984L101.11111111111111,33.219999999999985L102.22222222222221,35.400000000000006L103.33333333333334,32.01999999999996L104.44444444444446,31.230000000000004L105.55555555555556,41.820000000000014L106.66666666666667,54.049999999999955L107.77777777777777,60.55999999999999L108.88888888888889,64.62L110.00000000000001,66.67L111.11111111111111,67.86999999999999L112.22222222222223,65.38L113.33333333333333,60.20000000000001L114.44444444444444,48.76999999999998L115.55555555555554,37.129999999999995L116.66666666666667,27.720000000000056L117.77777777777779,24.290000000000013L118.88888888888889,23.570000000000025L120,21.669999999999987L121.1111111111111,21.360000000000024L122.22222222222223,18.300000000000026L123.33333333333334,21.23000000000006L124.44444444444444,24.910000000000053L125.55555555555556,25.080000000000013L126.66666666666666,27.250000000000064L127.77777777777777,28.139999999999965L128.88888888888889,28.09000000000006L130,24.589999999999957L131.11111111111111,27.669999999999973L132.22222222222223,37.12000000000002L133.33333333333331,48.42999999999997L134.44444444444446,54.699999999999974L135.55555555555557,58.829999999999984L136.66666666666666,61.530000000000015L137.77777777777777,62.37000000000003L138.88888888888889,60.99000000000001L140,55.44L141.11111111111111,43.81999999999997L142.22222222222223,32.76999999999999L143.33333333333334,27.630000000000045L144.44444444444443,26.460000000000015L145.55555555555554,24.020000000000064L146.66666666666666,22.749999999999982L147.77777777777777,23.290000000000035L148.88888888888889,21.249999999999925L150,22.32000000000003L151.11111111111111,22.919999999999963L152.22222222222223,25.74000000000005L153.33333333333334,25.04999999999995L154.44444444444446,24.429999999999996L155.55555555555557,24.180000000000025L156.66666666666666,25.280000000000015L157.77777777777777,26.50999999999999L158.88888888888889,34.26999999999998L160,45.99000000000002L161.11111111111111,54.97999999999996L162.22222222222223,61.05999999999998L163.33333333333334,64.75L164.44444444444443,66.78000000000002L165.55555555555554,66.37999999999997L166.66666666666669,60.82000000000001L167.77777777777777,49.74000000000001L168.88888888888889,38.96999999999997L170,34.80999999999999L171.11111111111111,32.25999999999998L172.22222222222223,27.66000000000004L173.33333333333334,25.45000000000004L174.44444444444446,23.689999999999966L175.55555555555554,20.40999999999997L176.66666666666666,19.59000000000004L177.77777777777777,20.080000000000076L178.88888888888889,19.36000000000002L180,21.730000000000004L181.11111111111111,24.429999999999975L182.22222222222223,25.34000000000003L183.33333333333331,26.37999999999998L184.44444444444446,26.27999999999997L185.55555555555557,38.15999999999997L186.66666666666666,48.629999999999995L186.66666666666666,139.30139L185.55555555555557,137.50544L184.44444444444446,135.75554L183.33333333333331,123.24899999999998L182.22222222222223,125.80494999999998L181.11111111111111,126.17370000000001L180,127.03289999999998L178.88888888888889,127.7355L177.77777777777777,128.0811L176.66666666666666,128.0812L175.55555555555554,127.52394999999999L174.44444444444446,126.66265000000001L173.33333333333334,126.29400000000001L172.22222222222223,125.33815L171.11111111111111,123.13204999999998L170,120.36189999999998L168.88888888888889,117.86815L167.77777777777777,115.54945000000001L166.66666666666669,131.05844L165.55555555555554,134.42009000000002L164.44444444444443,138.88693999999998L163.33333333333334,139.25534000000002L162.22222222222223,138.79484L161.11111111111111,142.70909L160,146.66939000000002L158.88888888888889,147.17593999999997L157.77777777777777,147.59039L156.66666666666666,133.24644999999998L155.55555555555557,133.0923L154.44444444444446,132.9589L153.33333333333334,132.80705L152.22222222222223,132.1164L151.11111111111111,130.99515L150,129.4479L148.88888888888889,127.80855L147.77777777777777,126.50545L146.66666666666666,125.7643L145.55555555555554,126.30550000000001L144.44444444444443,128.32235L143.33333333333334,130.03969999999998L142.22222222222223,130.57354999999998L141.11111111111111,128.57015L140,141.74204L138.88888888888889,141.46574L137.77777777777777,140.49868999999998L136.66666666666666,138.56459L135.55555555555557,136.90679L134.44444444444446,134.97268999999997L133.33333333333331,134.42009000000002L132.22222222222223,133.59119L131.11111111111111,130.96633999999997L130,120.486L128.88888888888889,125.91085L127.77777777777777,125.87889999999999L126.66666666666666,125.8424L125.55555555555556,125.79894999999999L124.44444444444444,126.53135L123.33333333333334,127.02195L122.22222222222223,127.42265000000002L121.1111111111111,127.63905L120,127.77015L118.88888888888889,127.83675L117.77777777777779,128.29700000000003L116.66666666666667,129.5078L115.55555555555554,130.86365L114.44444444444444,129.12735L113.33333333333333,141.97229L112.22222222222223,142.15649L111.11111111111111,142.24858999999998L110.00000000000001,142.06439L108.88888888888889,141.41968999999997L107.77777777777777,140.36054000000001L106.66666666666667,140.82104L105.55555555555556,142.70909L104.44444444444446,144.78134L103.33333333333334,132.3669L102.22222222222221,132.9657L101.11111111111111,132.90145L100,132.68529999999998L98.88888888888889,132.5266L97.77777777777777,132.3288L96.66666666666667,132.10105L95.55555555555556,131.79035L94.44444444444444,131.1042L93.33333333333333,130.411L92.22222222222223,130.1598L91.11111111111111,130.6454L90,131.85855L88.88888888888889,131.25504999999998L87.77777777777777,128.8119L86.66666666666667,141.51179L85.55555555555556,139.90004L84.44444444444444,138.79484L83.33333333333334,138.88693999999998L82.22222222222221,140.26844L81.11111111111111,141.55784L80,142.61699000000002L78.88888888888889,143.90639L77.77777777777779,145.56419L76.66666666666667,132.59485L75.55555555555556,133.04399999999998L74.44444444444444,132.84629999999999L73.33333333333333,132.5197L72.22222222222221,132.246L71.11111111111111,131.9677L70,131.76299999999998L68.88888888888889,131.786L67.77777777777779,131.7814L66.66666666666666,131.92855L65.55555555555556,132.1078L64.44444444444444,132.07295L63.33333333333333,132.57695L62.22222222222222,133.03025000000002L61.111111111111114,132.9817L60,147.59039L58.88888888888889,147.68249L57.77777777777777,147.72854L56.666666666666664,147.68249L55.55555555555556,147.17593999999997L54.44444444444444,145.33393999999998L53.333333333333336,143.95244L52.22222222222223,145.33393999999998L51.11111111111111,146.48519L50,132.22645L48.888888888888886,131.52204999999998L47.77777777777778,129.97269999999997L46.666666666666664,128.00655L45.55555555555556,126.31675L44.44444444444444,126.87889999999999L43.333333333333336,127.89224999999998L42.22222222222222,128.6359L41.11111111111111,128.32495L40,128.21894999999998L38.88888888888889,128.03225L37.77777777777778,127.75574999999999L36.666666666666664,127.65190000000001L35.55555555555556,127.84499999999998L34.44444444444444,122.48000000000002L33.33333333333333,129.63089000000002L32.22222222222222,126.91394L31.11111111111111,130.32164L30,129.63089000000002L28.888888888888886,128.80199000000002L27.77777777777778,128.11124L26.666666666666668,128.01914000000002L25.555555555555554,125.30218999999998L24.444444444444443,126.31528999999999L23.333333333333332,119.78834999999998L22.22222222222222,124.31060000000001L21.11111111111111,125.30335L20,125.78260000000003L18.88888888888889,126.28495000000004L17.77777777777778,127.67124999999999L16.666666666666664,129.1797L15.555555555555555,130.31265L14.444444444444443,130.88595L13.333333333333334,131.18975L12.222222222222221,131.3507L11.11111111111111,131.61974999999998L10,132.47355000000002L8.88888888888889,132.97504999999998L7.777777777777778,133.08535L6.666666666666667,147.72854L5.555555555555555,147.68249L4.444444444444445,147.49829L3.3333333333333335,146.94568999999998L2.2222222222222223,145.97864L1.1111111111111112,145.05764Z\" fill=\"#aec7e8\"></path></g></g><path class=\"foreground\" aria-hidden=\"true\" d=\"\" display=\"none\"></path></g><g transform=\"translate(0,0)\"><path class=\"background\" aria-hidden=\"true\" d=\"M0,0h200v200h-200Z\"></path><g><g class=\"mark-area role-mark marks\" role=\"graphics-object\" aria-roledescription=\"area mark container\"><path aria-label=\"hour: 1; gen_sum: 281.7936; resource: HY\" role=\"graphics-symbol\" aria-roledescription=\"area mark\" d=\"M1.1111111111111112,145.05764L2.2222222222222223,145.97864L3.3333333333333335,146.94568999999998L4.444444444444445,147.49829L5.555555555555555,147.68249L6.666666666666667,147.72854L7.777777777777778,133.08535L8.88888888888889,132.97504999999998L10,132.47355000000002L11.11111111111111,131.61974999999998L12.222222222222221,131.3507L13.333333333333334,131.18975L14.444444444444443,130.88595L15.555555555555555,130.31265L16.666666666666664,129.1797L17.77777777777778,127.67124999999999L18.88888888888889,126.28495000000002L20,125.78260000000002L21.11111111111111,125.30335L22.22222222222222,124.31060000000001L23.333333333333332,119.78835L24.444444444444443,126.31528999999999L25.555555555555554,125.30218999999998L26.666666666666668,128.01914000000002L27.77777777777778,128.11124L28.888888888888886,128.80199000000002L30,129.63089000000002L31.11111111111111,130.32164L32.22222222222222,126.91394L33.33333333333333,129.63089000000002L34.44444444444444,122.48000000000002L35.55555555555556,127.84499999999998L36.666666666666664,127.6519L37.77777777777778,127.75574999999999L38.88888888888889,128.03225L40,128.21894999999998L41.11111111111111,128.32495L42.22222222222222,128.6359L43.333333333333336,127.89224999999998L44.44444444444444,126.87889999999999L45.55555555555556,126.31675L46.666666666666664,128.00655L47.77777777777778,129.97269999999997L48.888888888888886,131.52204999999998L50,132.22645L51.11111111111111,146.48519L52.22222222222223,145.33393999999998L53.333333333333336,143.95244L54.44444444444444,145.33393999999998L55.55555555555556,147.17593999999997L56.666666666666664,147.68249L57.77777777777777,147.72854L58.88888888888889,147.68249L60,147.59039L61.111111111111114,132.9817L62.22222222222222,133.03025000000002L63.33333333333333,132.57695L64.44444444444444,132.07295L65.55555555555556,132.1078L66.66666666666666,131.92855L67.77777777777779,131.7814L68.88888888888889,131.786L70,131.76299999999998L71.11111111111111,131.9677L72.22222222222221,132.246L73.33333333333333,132.5197L74.44444444444444,132.84629999999999L75.55555555555556,133.04399999999998L76.66666666666667,132.59485L77.77777777777779,145.56419L78.88888888888889,143.90639L80,142.61699000000002L81.11111111111111,141.55784L82.22222222222221,140.26844L83.33333333333334,138.88693999999998L84.44444444444444,138.79484L85.55555555555556,139.90004L86.66666666666667,141.51179L87.77777777777777,128.8119L88.88888888888889,131.25504999999998L90,131.85855L91.11111111111111,130.6454L92.22222222222223,130.1598L93.33333333333333,130.411L94.44444444444444,131.1042L95.55555555555556,131.79035L96.66666666666667,132.10105L97.77777777777777,132.3288L98.88888888888889,132.5266L100,132.68529999999998L101.11111111111111,132.90145L102.22222222222221,132.9657L103.33333333333334,132.3669L104.44444444444446,144.78134L105.55555555555556,142.70909L106.66666666666667,140.82104L107.77777777777777,140.36054000000001L108.88888888888889,141.41968999999997L110.00000000000001,142.06439L111.11111111111111,142.24858999999998L112.22222222222223,142.15649L113.33333333333333,141.97229L114.44444444444444,129.12735L115.55555555555554,130.86365L116.66666666666667,129.5078L117.77777777777779,128.29700000000003L118.88888888888889,127.83675L120,127.77015L121.1111111111111,127.63905L122.22222222222223,127.42265000000002L123.33333333333334,127.02195L124.44444444444444,126.53135L125.55555555555556,125.79894999999999L126.66666666666666,125.8424L127.77777777777777,125.87889999999999L128.88888888888889,125.91085L130,120.486L131.11111111111111,130.96633999999997L132.22222222222223,133.59119L133.33333333333331,134.42009000000002L134.44444444444446,134.97268999999997L135.55555555555557,136.90679L136.66666666666666,138.56459L137.77777777777777,140.49868999999998L138.88888888888889,141.46574L140,141.74204L141.11111111111111,128.57015L142.22222222222223,130.57354999999998L143.33333333333334,130.03969999999998L144.44444444444443,128.32235L145.55555555555554,126.30550000000001L146.66666666666666,125.7643L147.77777777777777,126.50545L148.88888888888889,127.80855L150,129.4479L151.11111111111111,130.99515L152.22222222222223,132.1164L153.33333333333334,132.80705L154.44444444444446,132.9589L155.55555555555557,133.0923L156.66666666666666,133.24644999999998L157.77777777777777,147.59039L158.88888888888889,147.17593999999997L160,146.66939000000002L161.11111111111111,142.70909L162.22222222222223,138.79484L163.33333333333334,139.25534000000002L164.44444444444443,138.88693999999998L165.55555555555554,134.42009000000002L166.66666666666669,131.05844L167.77777777777777,115.54945000000001L168.88888888888889,117.86815L170,120.36189999999998L171.11111111111111,123.13204999999998L172.22222222222223,125.33815L173.33333333333334,126.294L174.44444444444446,126.66265000000001L175.55555555555554,127.52394999999999L176.66666666666666,128.0812L177.77777777777777,128.0811L178.88888888888889,127.7355L180,127.03289999999998L181.11111111111111,126.17370000000001L182.22222222222223,125.80494999999998L183.33333333333331,123.24899999999998L184.44444444444446,135.75554L185.55555555555557,137.50544L186.66666666666666,139.30139L186.66666666666666,167.48075L185.55555555555557,165.6848L184.44444444444446,163.9349L183.33333333333331,165.94500000000002L182.22222222222223,168.50095000000002L181.11111111111111,168.8697L180,169.7289L178.88888888888889,170.4315L177.77777777777777,170.77710000000002L176.66666666666666,170.7772L175.55555555555554,170.21994999999998L174.44444444444446,169.35864999999998L173.33333333333334,168.99L172.22222222222223,168.03414999999998L171.11111111111111,165.82805000000002L170,163.0579L168.88888888888889,160.56414999999998L167.77777777777777,158.24545L166.66666666666669,159.2378L165.55555555555554,162.59945L164.44444444444443,167.0663L163.33333333333334,167.4347L162.22222222222223,166.9742L161.11111111111111,170.88844999999998L160,174.84875L158.88888888888889,175.3553L157.77777777777777,175.76975L156.66666666666666,175.94245L155.55555555555557,175.78830000000002L154.44444444444446,175.6549L153.33333333333334,175.50305L152.22222222222223,174.8124L151.11111111111111,173.69115L150,172.1439L148.88888888888889,170.50455L147.77777777777777,169.20145L146.66666666666666,168.46030000000002L145.55555555555554,169.0015L144.44444444444443,171.01835L143.33333333333334,172.7357L142.22222222222223,173.26954999999998L141.11111111111111,171.26615L140,169.9214L138.88888888888889,169.6451L137.77777777777777,168.67805L136.66666666666666,166.74394999999998L135.55555555555557,165.08615L134.44444444444446,163.15205L133.33333333333331,162.59945L132.22222222222223,161.77055000000001L131.11111111111111,159.1457L130,163.182L128.88888888888889,168.60685L127.77777777777777,168.57489999999999L126.66666666666666,168.5384L125.55555555555556,168.49495000000002L124.44444444444444,169.22735L123.33333333333334,169.71795L122.22222222222223,170.11865L121.1111111111111,170.33505L120,170.46615L118.88888888888889,170.53275000000002L117.77777777777779,170.993L116.66666666666667,172.2038L115.55555555555554,173.55965L114.44444444444444,171.82335L113.33333333333333,170.15165L112.22222222222223,170.33585L111.11111111111111,170.42794999999998L110.00000000000001,170.24375L108.88888888888889,169.59905L107.77777777777777,168.5399L106.66666666666667,169.0004L105.55555555555556,170.88844999999998L104.44444444444446,172.9607L103.33333333333334,175.0629L102.22222222222221,175.6617L101.11111111111111,175.59745L100,175.3813L98.88888888888889,175.2226L97.77777777777777,175.0248L96.66666666666667,174.79705L95.55555555555556,174.48635000000002L94.44444444444444,173.80020000000002L93.33333333333333,173.107L92.22222222222223,172.85580000000002L91.11111111111111,173.3414L90,174.55455L88.88888888888889,173.95105L87.77777777777777,171.5079L86.66666666666667,169.69115000000002L85.55555555555556,168.07940000000002L84.44444444444444,166.9742L83.33333333333334,167.0663L82.22222222222221,168.4478L81.11111111111111,169.7372L80,170.79635L78.88888888888889,172.08575000000002L77.77777777777779,173.74355L76.66666666666667,175.29085L75.55555555555556,175.74L74.44444444444444,175.54229999999998L73.33333333333333,175.2157L72.22222222222221,174.942L71.11111111111111,174.6637L70,174.459L68.88888888888889,174.482L67.77777777777779,174.47740000000002L66.66666666666666,174.62455L65.55555555555556,174.8038L64.44444444444444,174.76895L63.33333333333333,175.27295L62.22222222222222,175.72625L61.111111111111114,175.67770000000002L60,175.76975L58.88888888888889,175.86185L57.77777777777777,175.9079L56.666666666666664,175.86185L55.55555555555556,175.3553L54.44444444444444,173.51330000000002L53.333333333333336,172.1318L52.22222222222223,173.51330000000002L51.11111111111111,174.66455000000002L50,174.92245L48.888888888888886,174.21805L47.77777777777778,172.6687L46.666666666666664,170.70255L45.55555555555556,169.01275L44.44444444444444,169.57489999999999L43.333333333333336,170.58825L42.22222222222222,171.3319L41.11111111111111,171.02095L40,170.91495L38.88888888888889,170.72825L37.77777777777778,170.45175L36.666666666666664,170.3479L35.55555555555556,170.541L34.44444444444444,165.176L33.33333333333333,157.81025L32.22222222222222,155.0933L31.11111111111111,158.501L30,157.81025L28.888888888888886,156.98135L27.77777777777778,156.29059999999998L26.666666666666668,156.1985L25.555555555555554,153.48155L24.444444444444443,154.49465L23.333333333333332,162.48434999999998L22.22222222222222,167.0066L21.11111111111111,167.99935L20,168.4786L18.88888888888889,168.98095L17.77777777777778,170.36725L16.666666666666664,171.8757L15.555555555555555,173.00865000000002L14.444444444444443,173.58195L13.333333333333334,173.88575L12.222222222222221,174.0467L11.11111111111111,174.31575L10,175.16955000000002L8.88888888888889,175.67105L7.777777777777778,175.78135L6.666666666666667,175.9079L5.555555555555555,175.86185L4.444444444444445,175.67765L3.3333333333333335,175.12505000000002L2.2222222222222223,174.158L1.1111111111111112,173.237Z\" fill=\"#ff7f0e\"></path></g></g><path class=\"foreground\" aria-hidden=\"true\" d=\"\" display=\"none\"></path></g><g transform=\"translate(0,0)\"><path class=\"background\" aria-hidden=\"true\" d=\"M0,0h200v200h-200Z\"></path><g><g class=\"mark-area role-mark marks\" role=\"graphics-object\" aria-roledescription=\"area mark container\"><path aria-label=\"hour: 1; gen_sum: 240; resource: PS\" role=\"graphics-symbol\" aria-roledescription=\"area mark\" d=\"M1.1111111111111112,173.237L2.2222222222222223,174.158L3.3333333333333335,175.12505000000002L4.444444444444445,175.67765L5.555555555555555,175.86185L6.666666666666667,175.9079L7.777777777777778,175.78135L8.88888888888889,175.67105L10,175.16955000000002L11.11111111111111,174.31575L12.222222222222221,174.0467L13.333333333333334,173.88575L14.444444444444443,173.58195L15.555555555555555,173.00865000000002L16.666666666666664,171.8757L17.77777777777778,170.36725L18.88888888888889,168.98095L20,168.4786L21.11111111111111,167.99935L22.22222222222222,167.0066L23.333333333333332,162.48434999999998L24.444444444444443,154.49465L25.555555555555554,153.48155L26.666666666666668,156.1985L27.77777777777778,156.29059999999998L28.888888888888886,156.98135L30,157.81025L31.11111111111111,158.501L32.22222222222222,155.0933L33.33333333333333,157.81025L34.44444444444444,165.176L35.55555555555556,170.541L36.666666666666664,170.3479L37.77777777777778,170.45175L38.88888888888889,170.72825L40,170.91495L41.11111111111111,171.02095L42.22222222222222,171.3319L43.333333333333336,170.58825L44.44444444444444,169.57489999999999L45.55555555555556,169.01275L46.666666666666664,170.70255L47.77777777777778,172.6687L48.888888888888886,174.21805L50,174.92245L51.11111111111111,174.66455000000002L52.22222222222223,173.51330000000002L53.333333333333336,172.1318L54.44444444444444,173.51330000000002L55.55555555555556,175.3553L56.666666666666664,175.86185L57.77777777777777,175.9079L58.88888888888889,175.86185L60,175.76975L61.111111111111114,175.67770000000002L62.22222222222222,175.72625L63.33333333333333,175.27295L64.44444444444444,174.76895L65.55555555555556,174.8038L66.66666666666666,174.62455L67.77777777777779,174.47740000000002L68.88888888888889,174.482L70,174.459L71.11111111111111,174.6637L72.22222222222221,174.942L73.33333333333333,175.2157L74.44444444444444,175.54229999999998L75.55555555555556,175.74L76.66666666666667,175.29085L77.77777777777779,173.74355L78.88888888888889,172.08575000000002L80,170.79635L81.11111111111111,169.7372L82.22222222222221,168.4478L83.33333333333334,167.0663L84.44444444444444,166.9742L85.55555555555556,168.07940000000002L86.66666666666667,169.69115000000002L87.77777777777777,171.5079L88.88888888888889,173.95105L90,174.55455L91.11111111111111,173.3414L92.22222222222223,172.85580000000002L93.33333333333333,173.107L94.44444444444444,173.80020000000002L95.55555555555556,174.48635000000002L96.66666666666667,174.79705L97.77777777777777,175.0248L98.88888888888889,175.2226L100,175.3813L101.11111111111111,175.59745L102.22222222222221,175.6617L103.33333333333334,175.0629L104.44444444444446,172.9607L105.55555555555556,170.88844999999998L106.66666666666667,169.0004L107.77777777777777,168.5399L108.88888888888889,169.59905L110.00000000000001,170.24375L111.11111111111111,170.42794999999998L112.22222222222223,170.33585L113.33333333333333,170.15165L114.44444444444444,171.82335L115.55555555555554,173.55965L116.66666666666667,172.2038L117.77777777777779,170.993L118.88888888888889,170.53275000000002L120,170.46615L121.1111111111111,170.33505L122.22222222222223,170.11865L123.33333333333334,169.71795L124.44444444444444,169.22735L125.55555555555556,168.49495000000002L126.66666666666666,168.5384L127.77777777777777,168.57489999999999L128.88888888888889,168.60685L130,163.182L131.11111111111111,159.1457L132.22222222222223,161.77055000000001L133.33333333333331,162.59945L134.44444444444446,163.15205L135.55555555555557,165.08615L136.66666666666666,166.74394999999998L137.77777777777777,168.67805L138.88888888888889,169.6451L140,169.9214L141.11111111111111,171.26615L142.22222222222223,173.26954999999998L143.33333333333334,172.7357L144.44444444444443,171.01835L145.55555555555554,169.0015L146.66666666666666,168.46030000000002L147.77777777777777,169.20145L148.88888888888889,170.50455L150,172.1439L151.11111111111111,173.69115L152.22222222222223,174.8124L153.33333333333334,175.50305L154.44444444444446,175.6549L155.55555555555557,175.78830000000002L156.66666666666666,175.94245L157.77777777777777,175.76975L158.88888888888889,175.3553L160,174.84875L161.11111111111111,170.88844999999998L162.22222222222223,166.9742L163.33333333333334,167.4347L164.44444444444443,167.0663L165.55555555555554,162.59945L166.66666666666669,159.2378L167.77777777777777,158.24545L168.88888888888889,160.56414999999998L170,163.0579L171.11111111111111,165.82805000000002L172.22222222222223,168.03414999999998L173.33333333333334,168.99L174.44444444444446,169.35864999999998L175.55555555555554,170.21994999999998L176.66666666666666,170.7772L177.77777777777777,170.77710000000002L178.88888888888889,170.4315L180,169.7289L181.11111111111111,168.8697L182.22222222222223,168.50095000000002L183.33333333333331,165.94500000000002L184.44444444444446,163.9349L185.55555555555557,165.6848L186.66666666666666,167.48075L186.66666666666666,191.48075L185.55555555555557,189.6848L184.44444444444446,187.9349L183.33333333333331,189.94500000000002L182.22222222222223,192.50095000000002L181.11111111111111,192.86970000000002L180,193.7289L178.88888888888889,194.4315L177.77777777777777,194.7771L176.66666666666666,194.7772L175.55555555555554,194.21995L174.44444444444446,193.35865L173.33333333333334,192.99L172.22222222222223,192.03414999999998L171.11111111111111,189.82805L170,187.0579L168.88888888888889,184.56414999999998L167.77777777777777,182.24545L166.66666666666669,183.2378L165.55555555555554,186.59945L164.44444444444443,191.0663L163.33333333333334,191.4347L162.22222222222223,190.9742L161.11111111111111,194.88844999999998L160,198.84875L158.88888888888889,199.3553L157.77777777777777,199.76975L156.66666666666666,199.94245L155.55555555555557,199.78830000000002L154.44444444444446,199.6549L153.33333333333334,199.50305L152.22222222222223,198.8124L151.11111111111111,197.69115L150,196.1439L148.88888888888889,194.50455L147.77777777777777,193.20145L146.66666666666666,192.46030000000002L145.55555555555554,193.0015L144.44444444444443,195.01835L143.33333333333334,196.7357L142.22222222222223,197.26954999999998L141.11111111111111,195.26615L140,193.9214L138.88888888888889,193.64509999999999L137.77777777777777,192.67805L136.66666666666666,190.74394999999998L135.55555555555557,189.08615L134.44444444444446,187.15205L133.33333333333331,186.59945L132.22222222222223,185.77055000000001L131.11111111111111,183.14569999999998L130,187.18200000000002L128.88888888888889,192.60685L127.77777777777777,192.57489999999999L126.66666666666666,192.5384L125.55555555555556,192.49495000000002L124.44444444444444,193.22735L123.33333333333334,193.71795L122.22222222222223,194.11865L121.1111111111111,194.33505L120,194.46615L118.88888888888889,194.53275000000002L117.77777777777779,194.993L116.66666666666667,196.2038L115.55555555555554,197.55965L114.44444444444444,195.82335L113.33333333333333,194.15165000000002L112.22222222222223,194.33585L111.11111111111111,194.42794999999998L110.00000000000001,194.24375L108.88888888888889,193.59905L107.77777777777777,192.53990000000002L106.66666666666667,193.0004L105.55555555555556,194.88844999999998L104.44444444444446,196.9607L103.33333333333334,199.06289999999998L102.22222222222221,199.6617L101.11111111111111,199.59745L100,199.3813L98.88888888888889,199.2226L97.77777777777777,199.0248L96.66666666666667,198.79705L95.55555555555556,198.48635L94.44444444444444,197.80020000000002L93.33333333333333,197.107L92.22222222222223,196.85580000000002L91.11111111111111,197.3414L90,198.55455L88.88888888888889,197.95105L87.77777777777777,195.5079L86.66666666666667,193.69115L85.55555555555556,192.07940000000002L84.44444444444444,190.9742L83.33333333333334,191.0663L82.22222222222221,192.4478L81.11111111111111,193.7372L80,194.79635L78.88888888888889,196.08575L77.77777777777779,197.74355L76.66666666666667,199.29085L75.55555555555556,199.74L74.44444444444444,199.54229999999998L73.33333333333333,199.2157L72.22222222222221,198.942L71.11111111111111,198.6637L70,198.459L68.88888888888889,198.482L67.77777777777779,198.47740000000002L66.66666666666666,198.62455L65.55555555555556,198.8038L64.44444444444444,198.76895000000002L63.33333333333333,199.27295L62.22222222222222,199.72625L61.111111111111114,199.67770000000002L60,199.76975L58.88888888888889,199.86185L57.77777777777777,199.9079L56.666666666666664,199.86185L55.55555555555556,199.3553L54.44444444444444,197.51330000000002L53.333333333333336,196.1318L52.22222222222223,197.51330000000002L51.11111111111111,198.66455000000002L50,198.92245L48.888888888888886,198.21804999999998L47.77777777777778,196.6687L46.666666666666664,194.70255L45.55555555555556,193.01275L44.44444444444444,193.57489999999999L43.333333333333336,194.58825L42.22222222222222,195.3319L41.11111111111111,195.02095L40,194.91495L38.88888888888889,194.72825L37.77777777777778,194.45175L36.666666666666664,194.34789999999998L35.55555555555556,194.541L34.44444444444444,189.17600000000002L33.33333333333333,181.81025L32.22222222222222,179.0933L31.11111111111111,182.501L30,181.81025L28.888888888888886,180.98135L27.77777777777778,180.2906L26.666666666666668,180.1985L25.555555555555554,177.48155L24.444444444444443,178.49465L23.333333333333332,186.48435L22.22222222222222,191.0066L21.11111111111111,191.99935L20,192.4786L18.88888888888889,192.98095L17.77777777777778,194.36724999999998L16.666666666666664,195.8757L15.555555555555555,197.00865000000002L14.444444444444443,197.58195L13.333333333333334,197.88575L12.222222222222221,198.0467L11.11111111111111,198.31574999999998L10,199.16955000000002L8.88888888888889,199.67105L7.777777777777778,199.78135L6.666666666666667,199.9079L5.555555555555555,199.86185L4.444444444444445,199.67765L3.3333333333333335,199.12505000000002L2.2222222222222223,198.158L1.1111111111111112,197.237Z\" fill=\"#ffbb78\"></path></g></g><path class=\"foreground\" aria-hidden=\"true\" d=\"\" display=\"none\"></path></g><g transform=\"translate(0,0)\"><path class=\"background\" aria-hidden=\"true\" d=\"M0,0h200v200h-200Z\"></path><g><g class=\"mark-area role-mark marks\" role=\"graphics-object\" aria-roledescription=\"area mark container\"><path aria-label=\"hour: 1; gen_sum: 0; resource: PV\" role=\"graphics-symbol\" aria-roledescription=\"area mark\" d=\"M1.1111111111111112,197.237L2.2222222222222223,198.158L3.3333333333333335,199.12505000000002L4.444444444444445,199.67765L5.555555555555555,199.86185L6.666666666666667,199.9079L7.777777777777778,199.78135L8.88888888888889,199.67105L10,199.16955000000002L11.11111111111111,198.31574999999998L12.222222222222221,198.0467L13.333333333333334,197.88575L14.444444444444443,197.58195L15.555555555555555,197.00865000000002L16.666666666666664,195.8757L17.77777777777778,194.36724999999998L18.88888888888889,192.98095L20,192.4786L21.11111111111111,191.99935L22.22222222222222,191.0066L23.333333333333332,186.48435L24.444444444444443,178.49465L25.555555555555554,177.48155L26.666666666666668,180.1985L27.77777777777778,180.2906L28.888888888888886,180.98135L30,181.81025L31.11111111111111,182.501L32.22222222222222,179.0933L33.33333333333333,181.81025L34.44444444444444,189.17600000000002L35.55555555555556,194.541L36.666666666666664,194.34789999999998L37.77777777777778,194.45175L38.88888888888889,194.72825L40,194.91495L41.11111111111111,195.02095L42.22222222222222,195.3319L43.333333333333336,194.58825L44.44444444444444,193.57489999999999L45.55555555555556,193.01275L46.666666666666664,194.70255L47.77777777777778,196.6687L48.888888888888886,198.21804999999998L50,198.92245L51.11111111111111,198.66455000000002L52.22222222222223,197.51330000000002L53.333333333333336,196.1318L54.44444444444444,197.51330000000002L55.55555555555556,199.3553L56.666666666666664,199.86185L57.77777777777777,199.9079L58.88888888888889,199.86185L60,199.76975L61.111111111111114,199.67770000000002L62.22222222222222,199.72625L63.33333333333333,199.27295L64.44444444444444,198.76895000000002L65.55555555555556,198.8038L66.66666666666666,198.62455L67.77777777777779,198.47740000000002L68.88888888888889,198.482L70,198.459L71.11111111111111,198.6637L72.22222222222221,198.942L73.33333333333333,199.2157L74.44444444444444,199.54229999999998L75.55555555555556,199.74L76.66666666666667,199.29085L77.77777777777779,197.74355L78.88888888888889,196.08575L80,194.79635L81.11111111111111,193.7372L82.22222222222221,192.4478L83.33333333333334,191.0663L84.44444444444444,190.9742L85.55555555555556,192.07940000000002L86.66666666666667,193.69115L87.77777777777777,195.5079L88.88888888888889,197.95105L90,198.55455L91.11111111111111,197.3414L92.22222222222223,196.85580000000002L93.33333333333333,197.107L94.44444444444444,197.80020000000002L95.55555555555556,198.48635L96.66666666666667,198.79705L97.77777777777777,199.0248L98.88888888888889,199.2226L100,199.3813L101.11111111111111,199.59745L102.22222222222221,199.6617L103.33333333333334,199.06289999999998L104.44444444444446,196.9607L105.55555555555556,194.88844999999998L106.66666666666667,193.0004L107.77777777777777,192.53990000000002L108.88888888888889,193.59905L110.00000000000001,194.24375L111.11111111111111,194.42794999999998L112.22222222222223,194.33585L113.33333333333333,194.15165000000002L114.44444444444444,195.82335L115.55555555555554,197.55965L116.66666666666667,196.2038L117.77777777777779,194.993L118.88888888888889,194.53275000000002L120,194.46615L121.1111111111111,194.33505L122.22222222222223,194.11865L123.33333333333334,193.71795L124.44444444444444,193.22735L125.55555555555556,192.49495000000002L126.66666666666666,192.5384L127.77777777777777,192.57489999999999L128.88888888888889,192.60685L130,187.18200000000002L131.11111111111111,183.14569999999998L132.22222222222223,185.77055000000001L133.33333333333331,186.59945L134.44444444444446,187.15205L135.55555555555557,189.08615L136.66666666666666,190.74394999999998L137.77777777777777,192.67805L138.88888888888889,193.64509999999999L140,193.9214L141.11111111111111,195.26615L142.22222222222223,197.26954999999998L143.33333333333334,196.7357L144.44444444444443,195.01835L145.55555555555554,193.0015L146.66666666666666,192.46030000000002L147.77777777777777,193.20145L148.88888888888889,194.50455L150,196.1439L151.11111111111111,197.69115L152.22222222222223,198.8124L153.33333333333334,199.50305L154.44444444444446,199.6549L155.55555555555557,199.78830000000002L156.66666666666666,199.94245L157.77777777777777,199.76975L158.88888888888889,199.3553L160,198.84875L161.11111111111111,194.88844999999998L162.22222222222223,190.9742L163.33333333333334,191.4347L164.44444444444443,191.0663L165.55555555555554,186.59945L166.66666666666669,183.2378L167.77777777777777,182.24545L168.88888888888889,184.56414999999998L170,187.0579L171.11111111111111,189.82805L172.22222222222223,192.03414999999998L173.33333333333334,192.99L174.44444444444446,193.35865L175.55555555555554,194.21995L176.66666666666666,194.7772L177.77777777777777,194.7771L178.88888888888889,194.4315L180,193.7289L181.11111111111111,192.86970000000002L182.22222222222223,192.50095000000002L183.33333333333331,189.94500000000002L184.44444444444446,187.9349L185.55555555555557,189.6848L186.66666666666666,191.48075L186.66666666666666,191.48075L185.55555555555557,189.6848L184.44444444444446,187.9349L183.33333333333331,189.9611L182.22222222222223,192.67805L181.11111111111111,193.36880000000002L180,194.5661L178.88888888888889,195.5792L177.77777777777777,196.1318L176.66666666666666,196.22390000000001L175.55555555555554,195.62525L174.44444444444446,194.61215L173.33333333333334,194.0135L172.22222222222223,192.77015L171.11111111111111,190.28345L170,187.2902L168.88888888888889,184.66535L167.77777777777777,182.27075L166.66666666666669,183.2378L165.55555555555554,186.59945L164.44444444444443,191.0663L163.33333333333334,191.4347L162.22222222222223,190.9742L161.11111111111111,194.88844999999998L160,198.84875L158.88888888888889,199.3553L157.77777777777777,199.76975L156.66666666666666,199.95395L155.55555555555557,199.9079L154.44444444444446,199.9079L153.33333333333334,199.86185L152.22222222222223,199.26319999999998L151.11111111111111,198.20405L150,196.6844L148.88888888888889,195.07265L147.77777777777777,193.87535L146.66666666666666,193.36880000000002L145.55555555555554,194.0135L144.44444444444443,195.90155000000001L143.33333333333334,197.32909999999998L142.22222222222223,197.55935L141.11111111111111,195.34895L140,193.9214L138.88888888888889,193.64509999999999L137.77777777777777,192.67805L136.66666666666666,190.74394999999998L135.55555555555557,189.08615L134.44444444444446,187.15205L133.33333333333331,186.59945L132.22222222222223,185.77055000000001L131.11111111111111,183.14569999999998L130,187.19809999999998L128.88888888888889,192.77015L127.77777777777777,193.0004L126.66666666666666,193.2767L125.55555555555556,193.50695L124.44444444444444,194.42794999999998L123.33333333333334,195.07265L122.22222222222223,195.53315L121.1111111111111,195.71734999999998L120,195.71734999999998L118.88888888888889,195.62525L117.77777777777779,195.8555L116.66666666666667,196.7765L115.55555555555554,197.83565000000002L114.44444444444444,195.90155000000001L113.33333333333333,194.15165000000002L112.22222222222223,194.33585L111.11111111111111,194.42794999999998L110.00000000000001,194.24375L108.88888888888889,193.59905L107.77777777777777,192.53990000000002L106.66666666666667,193.0004L105.55555555555556,194.88844999999998L104.44444444444446,196.9607L103.33333333333334,199.079L102.22222222222221,199.81580000000002L101.11111111111111,199.95395L100,200L98.88888888888889,200L97.77777777777777,200L96.66666666666667,199.95395L95.55555555555556,199.76975L94.44444444444444,199.079L93.33333333333333,198.2501L92.22222222222223,197.7896L91.11111111111111,198.0659L90,199.03295L88.88888888888889,198.20405L87.77777777777777,195.5792L86.66666666666667,193.69115L85.55555555555556,192.07940000000002L84.44444444444444,190.9742L83.33333333333334,191.0663L82.22222222222221,192.4478L81.11111111111111,193.7372L80,194.79635L78.88888888888889,196.08575L77.77777777777779,197.74355L76.66666666666667,199.30925L75.55555555555556,199.9079L74.44444444444444,200L73.33333333333333,200L72.22222222222221,200L71.11111111111111,200L70,200L68.88888888888889,200L67.77777777777779,200L66.66666666666666,199.95395L65.55555555555556,199.81580000000002L64.44444444444444,199.49345L63.33333333333333,199.76975L62.22222222222222,199.95395L61.111111111111114,199.72369999999998L60,199.76975L58.88888888888889,199.86185L57.77777777777777,199.9079L56.666666666666664,199.86185L55.55555555555556,199.3553L54.44444444444444,197.51330000000002L53.333333333333336,196.1318L52.22222222222223,197.51330000000002L51.11111111111111,198.66455000000002L50,198.94084999999998L48.888888888888886,198.38825L47.77777777777778,197.05280000000002L46.666666666666664,195.25685L45.55555555555556,193.78325L44.44444444444444,194.6582L43.333333333333336,195.90155000000001L42.22222222222222,196.59230000000002L41.11111111111111,196.17785L40,195.99365L38.88888888888889,195.62525L37.77777777777778,195.16475L36.666666666666664,194.8424L35.55555555555556,194.7503L34.44444444444444,189.2243L33.33333333333333,181.81025L32.22222222222222,179.0933L31.11111111111111,182.501L30,181.81025L28.888888888888886,180.98135L27.77777777777778,180.2906L26.666666666666668,180.1985L25.555555555555554,177.48155L24.444444444444443,178.49465L23.333333333333332,186.50735L22.22222222222222,191.1584L21.11111111111111,192.49385L20,193.2767L18.88888888888889,194.15165000000002L17.77777777777778,195.71734999999998L16.666666666666664,197.51330000000002L15.555555555555555,198.75665L14.444444444444443,199.30925L13.333333333333334,199.49345L12.222222222222221,199.44740000000002L11.11111111111111,199.40135L10,199.86185L8.88888888888889,199.95395L7.777777777777778,199.86185L6.666666666666667,199.9079L5.555555555555555,199.86185L4.444444444444445,199.67765L3.3333333333333335,199.12505000000002L2.2222222222222223,198.158L1.1111111111111112,197.237Z\" fill=\"#2ca02c\"></path></g></g><path class=\"foreground\" aria-hidden=\"true\" d=\"\" display=\"none\"></path></g><g transform=\"translate(0,0)\"><path class=\"background\" aria-hidden=\"true\" d=\"M0,0h200v200h-200Z\"></path><g><g class=\"mark-area role-mark marks\" role=\"graphics-object\" aria-roledescription=\"area mark container\"><path aria-label=\"hour: 1; gen_sum: 27.63; resource: WT\" role=\"graphics-symbol\" aria-roledescription=\"area mark\" d=\"M1.1111111111111112,197.237L2.2222222222222223,198.158L3.3333333333333335,199.12505000000002L4.444444444444445,199.67765L5.555555555555555,199.86185L6.666666666666667,199.9079L7.777777777777778,199.86185L8.88888888888889,199.95395L10,199.86185L11.11111111111111,199.40135L12.222222222222221,199.44740000000002L13.333333333333334,199.49345L14.444444444444443,199.30925L15.555555555555555,198.75665L16.666666666666664,197.51330000000002L17.77777777777778,195.71734999999998L18.88888888888889,194.15165000000002L20,193.2767L21.11111111111111,192.49385L22.22222222222222,191.1584L23.333333333333332,186.50735L24.444444444444443,178.49465L25.555555555555554,177.48155L26.666666666666668,180.1985L27.77777777777778,180.2906L28.888888888888886,180.98135L30,181.81025L31.11111111111111,182.501L32.22222222222222,179.0933L33.33333333333333,181.81025L34.44444444444444,189.2243L35.55555555555556,194.7503L36.666666666666664,194.8424L37.77777777777778,195.16475L38.88888888888889,195.62525L40,195.99365L41.11111111111111,196.17785L42.22222222222222,196.59230000000002L43.333333333333336,195.90155000000001L44.44444444444444,194.6582L45.55555555555556,193.78325L46.666666666666664,195.25685L47.77777777777778,197.05280000000002L48.888888888888886,198.38825L50,198.94084999999998L51.11111111111111,198.66455000000002L52.22222222222223,197.51330000000002L53.333333333333336,196.1318L54.44444444444444,197.51330000000002L55.55555555555556,199.3553L56.666666666666664,199.86185L57.77777777777777,199.9079L58.88888888888889,199.86185L60,199.76975L61.111111111111114,199.72369999999998L62.22222222222222,199.95395L63.33333333333333,199.76975L64.44444444444444,199.49345L65.55555555555556,199.81580000000002L66.66666666666666,199.95395L67.77777777777779,200L68.88888888888889,200L70,200L71.11111111111111,200L72.22222222222221,200L73.33333333333333,200L74.44444444444444,200L75.55555555555556,199.9079L76.66666666666667,199.30925L77.77777777777779,197.74355L78.88888888888889,196.08575L80,194.79635L81.11111111111111,193.7372L82.22222222222221,192.4478L83.33333333333334,191.0663L84.44444444444444,190.9742L85.55555555555556,192.07940000000002L86.66666666666667,193.69115L87.77777777777777,195.5792L88.88888888888889,198.20405L90,199.03295L91.11111111111111,198.0659L92.22222222222223,197.7896L93.33333333333333,198.2501L94.44444444444444,199.079L95.55555555555556,199.76975L96.66666666666667,199.95395L97.77777777777777,200L98.88888888888889,200L100,200L101.11111111111111,199.95395L102.22222222222221,199.81580000000002L103.33333333333334,199.079L104.44444444444446,196.9607L105.55555555555556,194.88844999999998L106.66666666666667,193.0004L107.77777777777777,192.53990000000002L108.88888888888889,193.59905L110.00000000000001,194.24375L111.11111111111111,194.42794999999998L112.22222222222223,194.33585L113.33333333333333,194.15165000000002L114.44444444444444,195.90155000000001L115.55555555555554,197.83565000000002L116.66666666666667,196.7765L117.77777777777779,195.8555L118.88888888888889,195.62525L120,195.71734999999998L121.1111111111111,195.71734999999998L122.22222222222223,195.53315L123.33333333333334,195.07265L124.44444444444444,194.42794999999998L125.55555555555556,193.50695L126.66666666666666,193.2767L127.77777777777777,193.0004L128.88888888888889,192.77015L130,187.19809999999998L131.11111111111111,183.14569999999998L132.22222222222223,185.77055000000001L133.33333333333331,186.59945L134.44444444444446,187.15205L135.55555555555557,189.08615L136.66666666666666,190.74394999999998L137.77777777777777,192.67805L138.88888888888889,193.64509999999999L140,193.9214L141.11111111111111,195.34895L142.22222222222223,197.55935L143.33333333333334,197.32909999999998L144.44444444444443,195.90155000000001L145.55555555555554,194.0135L146.66666666666666,193.36880000000002L147.77777777777777,193.87535L148.88888888888889,195.07265L150,196.6844L151.11111111111111,198.20405L152.22222222222223,199.26319999999998L153.33333333333334,199.86185L154.44444444444446,199.9079L155.55555555555557,199.9079L156.66666666666666,199.95395L157.77777777777777,199.76975L158.88888888888889,199.3553L160,198.84875L161.11111111111111,194.88844999999998L162.22222222222223,190.9742L163.33333333333334,191.4347L164.44444444444443,191.0663L165.55555555555554,186.59945L166.66666666666669,183.2378L167.77777777777777,182.27075L168.88888888888889,184.66535L170,187.2902L171.11111111111111,190.28345L172.22222222222223,192.77015L173.33333333333334,194.0135L174.44444444444446,194.61215L175.55555555555554,195.62525L176.66666666666666,196.22390000000001L177.77777777777777,196.1318L178.88888888888889,195.5792L180,194.5661L181.11111111111111,193.36880000000002L182.22222222222223,192.67805L183.33333333333331,189.9611L184.44444444444446,187.9349L185.55555555555557,189.6848L186.66666666666666,191.48075L186.66666666666666,200L185.55555555555557,200L184.44444444444446,200L183.33333333333331,200L182.22222222222223,200L181.11111111111111,200L180,200L178.88888888888889,200L177.77777777777777,200L176.66666666666666,200L175.55555555555554,200L174.44444444444446,200L173.33333333333334,200L172.22222222222223,200L171.11111111111111,200L170,200L168.88888888888889,200L167.77777777777777,200L166.66666666666669,200L165.55555555555554,200L164.44444444444443,200L163.33333333333334,200L162.22222222222223,200L161.11111111111111,200L160,200L158.88888888888889,200L157.77777777777777,200L156.66666666666666,200L155.55555555555557,200L154.44444444444446,200L153.33333333333334,200L152.22222222222223,200L151.11111111111111,200L150,200L148.88888888888889,200L147.77777777777777,200L146.66666666666666,200L145.55555555555554,200L144.44444444444443,200L143.33333333333334,200L142.22222222222223,200L141.11111111111111,200L140,200L138.88888888888889,200L137.77777777777777,200L136.66666666666666,200L135.55555555555557,200L134.44444444444446,200L133.33333333333331,200L132.22222222222223,200L131.11111111111111,200L130,200L128.88888888888889,200L127.77777777777777,200L126.66666666666666,200L125.55555555555556,200L124.44444444444444,200L123.33333333333334,200L122.22222222222223,200L121.1111111111111,200L120,200L118.88888888888889,200L117.77777777777779,200L116.66666666666667,200L115.55555555555554,200L114.44444444444444,200L113.33333333333333,200L112.22222222222223,200L111.11111111111111,200L110.00000000000001,200L108.88888888888889,200L107.77777777777777,200L106.66666666666667,200L105.55555555555556,200L104.44444444444446,200L103.33333333333334,200L102.22222222222221,200L101.11111111111111,200L100,200L98.88888888888889,200L97.77777777777777,200L96.66666666666667,200L95.55555555555556,200L94.44444444444444,200L93.33333333333333,200L92.22222222222223,200L91.11111111111111,200L90,200L88.88888888888889,200L87.77777777777777,200L86.66666666666667,200L85.55555555555556,200L84.44444444444444,200L83.33333333333334,200L82.22222222222221,200L81.11111111111111,200L80,200L78.88888888888889,200L77.77777777777779,200L76.66666666666667,200L75.55555555555556,200L74.44444444444444,200L73.33333333333333,200L72.22222222222221,200L71.11111111111111,200L70,200L68.88888888888889,200L67.77777777777779,200L66.66666666666666,200L65.55555555555556,200L64.44444444444444,200L63.33333333333333,200L62.22222222222222,200L61.111111111111114,200L60,200L58.88888888888889,200L57.77777777777777,200L56.666666666666664,200L55.55555555555556,200L54.44444444444444,200L53.333333333333336,200L52.22222222222223,200L51.11111111111111,200L50,200L48.888888888888886,200L47.77777777777778,200L46.666666666666664,200L45.55555555555556,200L44.44444444444444,200L43.333333333333336,200L42.22222222222222,200L41.11111111111111,200L40,200L38.88888888888889,200L37.77777777777778,200L36.666666666666664,200L35.55555555555556,200L34.44444444444444,200L33.33333333333333,200L32.22222222222222,200L31.11111111111111,200L30,200L28.888888888888886,200L27.77777777777778,200L26.666666666666668,200L25.555555555555554,200L24.444444444444443,200L23.333333333333332,200L22.22222222222222,200L21.11111111111111,200L20,200L18.88888888888889,200L17.77777777777778,200L16.666666666666664,200L15.555555555555555,200L14.444444444444443,200L13.333333333333334,200L12.222222222222221,200L11.11111111111111,200L10,200L8.88888888888889,200L7.777777777777778,200L6.666666666666667,200L5.555555555555555,200L4.444444444444445,200L3.3333333333333335,200L2.2222222222222223,200L1.1111111111111112,200Z\" fill=\"#98df8a\"></path></g></g><path class=\"foreground\" aria-hidden=\"true\" d=\"\" display=\"none\"></path></g></g><g class=\"mark-group role-legend\" role=\"graphics-symbol\" aria-roledescription=\"legend\" aria-label=\"Symbol legend titled 'resource' for fill color with 6 values: BM, CC, HY, PS, PV, WT\"><g transform=\"translate(218,0)\"><path class=\"background\" aria-hidden=\"true\" d=\"M0,0h46v92h-46Z\" pointer-events=\"none\"></path><g><g class=\"mark-group role-legend-entry\"><g transform=\"translate(0,16)\"><path class=\"background\" aria-hidden=\"true\" d=\"M0,0h0v0h0Z\" pointer-events=\"none\"></path><g><g class=\"mark-group role-scope\" role=\"graphics-object\" aria-roledescription=\"group mark container\"><g transform=\"translate(0,0)\"><path class=\"background\" aria-hidden=\"true\" d=\"M0,0h31v11h-31Z\" pointer-events=\"none\" opacity=\"1\"></path><g><g class=\"mark-symbol role-legend-symbol\" pointer-events=\"none\"><path transform=\"translate(6,6)\" d=\"M5,0A5,5,0,1,1,-5,0A5,5,0,1,1,5,0\" fill=\"#1f77b4\" stroke-width=\"1.5\" opacity=\"1\"></path></g><g class=\"mark-text role-legend-label\" pointer-events=\"none\"><text text-anchor=\"start\" transform=\"translate(16,9)\" font-family=\"sans-serif\" font-size=\"10px\" fill=\"#000\" opacity=\"1\">BM</text></g></g><path class=\"foreground\" aria-hidden=\"true\" d=\"\" pointer-events=\"none\" display=\"none\"></path></g><g transform=\"translate(0,13)\"><path class=\"background\" aria-hidden=\"true\" d=\"M0,0h31v11h-31Z\" pointer-events=\"none\" opacity=\"1\"></path><g><g class=\"mark-symbol role-legend-symbol\" pointer-events=\"none\"><path transform=\"translate(6,6)\" d=\"M5,0A5,5,0,1,1,-5,0A5,5,0,1,1,5,0\" fill=\"#aec7e8\" stroke-width=\"1.5\" opacity=\"1\"></path></g><g class=\"mark-text role-legend-label\" pointer-events=\"none\"><text text-anchor=\"start\" transform=\"translate(16,9)\" font-family=\"sans-serif\" font-size=\"10px\" fill=\"#000\" opacity=\"1\">CC</text></g></g><path class=\"foreground\" aria-hidden=\"true\" d=\"\" pointer-events=\"none\" display=\"none\"></path></g><g transform=\"translate(0,26)\"><path class=\"background\" aria-hidden=\"true\" d=\"M0,0h31v11h-31Z\" pointer-events=\"none\" opacity=\"1\"></path><g><g class=\"mark-symbol role-legend-symbol\" pointer-events=\"none\"><path transform=\"translate(6,6)\" d=\"M5,0A5,5,0,1,1,-5,0A5,5,0,1,1,5,0\" fill=\"#ff7f0e\" stroke-width=\"1.5\" opacity=\"1\"></path></g><g class=\"mark-text role-legend-label\" pointer-events=\"none\"><text text-anchor=\"start\" transform=\"translate(16,9)\" font-family=\"sans-serif\" font-size=\"10px\" fill=\"#000\" opacity=\"1\">HY</text></g></g><path class=\"foreground\" aria-hidden=\"true\" d=\"\" pointer-events=\"none\" display=\"none\"></path></g><g transform=\"translate(0,39)\"><path class=\"background\" aria-hidden=\"true\" d=\"M0,0h31v11h-31Z\" pointer-events=\"none\" opacity=\"1\"></path><g><g class=\"mark-symbol role-legend-symbol\" pointer-events=\"none\"><path transform=\"translate(6,6)\" d=\"M5,0A5,5,0,1,1,-5,0A5,5,0,1,1,5,0\" fill=\"#ffbb78\" stroke-width=\"1.5\" opacity=\"1\"></path></g><g class=\"mark-text role-legend-label\" pointer-events=\"none\"><text text-anchor=\"start\" transform=\"translate(16,9)\" font-family=\"sans-serif\" font-size=\"10px\" fill=\"#000\" opacity=\"1\">PS</text></g></g><path class=\"foreground\" aria-hidden=\"true\" d=\"\" pointer-events=\"none\" display=\"none\"></path></g><g transform=\"translate(0,52)\"><path class=\"background\" aria-hidden=\"true\" d=\"M0,0h31v11h-31Z\" pointer-events=\"none\" opacity=\"1\"></path><g><g class=\"mark-symbol role-legend-symbol\" pointer-events=\"none\"><path transform=\"translate(6,6)\" d=\"M5,0A5,5,0,1,1,-5,0A5,5,0,1,1,5,0\" fill=\"#2ca02c\" stroke-width=\"1.5\" opacity=\"1\"></path></g><g class=\"mark-text role-legend-label\" pointer-events=\"none\"><text text-anchor=\"start\" transform=\"translate(16,9)\" font-family=\"sans-serif\" font-size=\"10px\" fill=\"#000\" opacity=\"1\">PV</text></g></g><path class=\"foreground\" aria-hidden=\"true\" d=\"\" pointer-events=\"none\" display=\"none\"></path></g><g transform=\"translate(0,65)\"><path class=\"background\" aria-hidden=\"true\" d=\"M0,0h31v11h-31Z\" pointer-events=\"none\" opacity=\"1\"></path><g><g class=\"mark-symbol role-legend-symbol\" pointer-events=\"none\"><path transform=\"translate(6,6)\" d=\"M5,0A5,5,0,1,1,-5,0A5,5,0,1,1,5,0\" fill=\"#98df8a\" stroke-width=\"1.5\" opacity=\"1\"></path></g><g class=\"mark-text role-legend-label\" pointer-events=\"none\"><text text-anchor=\"start\" transform=\"translate(16,9)\" font-family=\"sans-serif\" font-size=\"10px\" fill=\"#000\" opacity=\"1\">WT</text></g></g><path class=\"foreground\" aria-hidden=\"true\" d=\"\" pointer-events=\"none\" display=\"none\"></path></g></g></g><path class=\"foreground\" aria-hidden=\"true\" d=\"\" pointer-events=\"none\" display=\"none\"></path></g></g><g class=\"mark-text role-legend-title\" pointer-events=\"none\"><text text-anchor=\"start\" transform=\"translate(0,9)\" font-family=\"sans-serif\" font-size=\"11px\" font-weight=\"bold\" fill=\"#000\" opacity=\"1\">resource</text></g></g><path class=\"foreground\" aria-hidden=\"true\" d=\"\" pointer-events=\"none\" display=\"none\"></path></g></g></g><path class=\"foreground\" aria-hidden=\"true\" d=\"\" display=\"none\"></path></g></g></g></svg>\n"
      ],
      "text/plain": [
       "@vlplot(\n",
       "    mark=\"area\",\n",
       "    encoding={\n",
       "        x={\n",
       "            field=\"hour\"\n",
       "        },\n",
       "        y={\n",
       "            stack=\"zero\",\n",
       "            field=\"gen_sum\"\n",
       "        },\n",
       "        color={\n",
       "            scale={\n",
       "                scheme=\"category20\"\n",
       "            },\n",
       "            field=\"resource\",\n",
       "            type=\"nominal\"\n",
       "        }\n",
       "    },\n",
       "    data={\n",
       "        values=...\n",
       "    }\n",
       ")"
      ]
     },
     "execution_count": 44,
     "metadata": {},
     "output_type": "execute_result"
    }
   ],
   "source": [
    "sol_gen |>\n",
    "@vlplot(:area, \n",
    "    x=:hour, y={:gen_sum, stack=:zero}, \n",
    "    color={\"resource:n\", scale={scheme=\"category20\"}})"
   ]
  },
  {
   "cell_type": "code",
   "execution_count": 45,
   "id": "confidential-front",
   "metadata": {},
   "outputs": [
    {
     "data": {
      "application/vnd.vegalite.v4+json": {
       "data": {
        "values": [
         {
          "gen_sum": 0,
          "hour": 1,
          "resource": "BM"
         },
         {
          "gen_sum": 819.6764,
          "hour": 1,
          "resource": "CC"
         },
         {
          "gen_sum": 281.7936,
          "hour": 1,
          "resource": "HY"
         },
         {
          "gen_sum": 240,
          "hour": 1,
          "resource": "PS"
         },
         {
          "gen_sum": 0,
          "hour": 1,
          "resource": "PV"
         },
         {
          "gen_sum": 27.630000000000003,
          "hour": 1,
          "resource": "WT"
         },
         {
          "gen_sum": 0,
          "hour": 2,
          "resource": "BM"
         },
         {
          "gen_sum": 775.5864000000003,
          "hour": 2,
          "resource": "CC"
         },
         {
          "gen_sum": 281.7936,
          "hour": 2,
          "resource": "HY"
         },
         {
          "gen_sum": 240,
          "hour": 2,
          "resource": "PS"
         },
         {
          "gen_sum": 0,
          "hour": 2,
          "resource": "PV"
         },
         {
          "gen_sum": 18.419999999999998,
          "hour": 2,
          "resource": "WT"
         },
         {
          "gen_sum": 0,
          "hour": 3,
          "resource": "BM"
         },
         {
          "gen_sum": 750.7568999999997,
          "hour": 3,
          "resource": "CC"
         },
         {
          "gen_sum": 281.7936,
          "hour": 3,
          "resource": "HY"
         },
         {
          "gen_sum": 240,
          "hour": 3,
          "resource": "PS"
         },
         {
          "gen_sum": 0,
          "hour": 3,
          "resource": "PV"
         },
         {
          "gen_sum": 8.7495,
          "hour": 3,
          "resource": "WT"
         },
         {
          "gen_sum": 0,
          "hour": 4,
          "resource": "BM"
         },
         {
          "gen_sum": 743.3829000000002,
          "hour": 4,
          "resource": "CC"
         },
         {
          "gen_sum": 281.7936,
          "hour": 4,
          "resource": "HY"
         },
         {
          "gen_sum": 240,
          "hour": 4,
          "resource": "PS"
         },
         {
          "gen_sum": 0,
          "hour": 4,
          "resource": "PV"
         },
         {
          "gen_sum": 3.2234999999999996,
          "hour": 4,
          "resource": "WT"
         },
         {
          "gen_sum": 0,
          "hour": 5,
          "resource": "BM"
         },
         {
          "gen_sum": 753.6248999999998,
          "hour": 5,
          "resource": "CC"
         },
         {
          "gen_sum": 281.7936,
          "hour": 5,
          "resource": "HY"
         },
         {
          "gen_sum": 240,
          "hour": 5,
          "resource": "PS"
         },
         {
          "gen_sum": 0,
          "hour": 5,
          "resource": "PV"
         },
         {
          "gen_sum": 1.3815000000000002,
          "hour": 5,
          "resource": "WT"
         },
         {
          "gen_sum": 0,
          "hour": 6,
          "resource": "BM"
         },
         {
          "gen_sum": 778.5854000000002,
          "hour": 6,
          "resource": "CC"
         },
         {
          "gen_sum": 281.7936,
          "hour": 6,
          "resource": "HY"
         },
         {
          "gen_sum": 240,
          "hour": 6,
          "resource": "PS"
         },
         {
          "gen_sum": 0,
          "hour": 6,
          "resource": "PV"
         },
         {
          "gen_sum": 0.921,
          "hour": 6,
          "resource": "WT"
         },
         {
          "gen_sum": 0,
          "hour": 7,
          "resource": "BM"
         },
         {
          "gen_sum": 664.5535,
          "hour": 7,
          "resource": "CC"
         },
         {
          "gen_sum": 426.96000000000004,
          "hour": 7,
          "resource": "HY"
         },
         {
          "gen_sum": 240,
          "hour": 7,
          "resource": "PS"
         },
         {
          "gen_sum": 0.8050000000000002,
          "hour": 7,
          "resource": "PV"
         },
         {
          "gen_sum": 1.3815000000000002,
          "hour": 7,
          "resource": "WT"
         },
         {
          "gen_sum": 0,
          "hour": 8,
          "resource": "BM"
         },
         {
          "gen_sum": 728.4504999999997,
          "hour": 8,
          "resource": "CC"
         },
         {
          "gen_sum": 426.96000000000004,
          "hour": 8,
          "resource": "HY"
         },
         {
          "gen_sum": 240,
          "hour": 8,
          "resource": "PS"
         },
         {
          "gen_sum": 2.829,
          "hour": 8,
          "resource": "PV"
         },
         {
          "gen_sum": 0.4605,
          "hour": 8,
          "resource": "WT"
         },
         {
          "gen_sum": 0,
          "hour": 9,
          "resource": "BM"
         },
         {
          "gen_sum": 818.2354999999995,
          "hour": 9,
          "resource": "CC"
         },
         {
          "gen_sum": 426.96000000000004,
          "hour": 9,
          "resource": "HY"
         },
         {
          "gen_sum": 240,
          "hour": 9,
          "resource": "PS"
         },
         {
          "gen_sum": 6.923000000000001,
          "hour": 9,
          "resource": "PV"
         },
         {
          "gen_sum": 1.3815000000000002,
          "hour": 9,
          "resource": "WT"
         },
         {
          "gen_sum": 0,
          "hour": 10,
          "resource": "BM"
         },
         {
          "gen_sum": 858.5975000000003,
          "hour": 10,
          "resource": "CC"
         },
         {
          "gen_sum": 426.96000000000004,
          "hour": 10,
          "resource": "HY"
         },
         {
          "gen_sum": 240,
          "hour": 10,
          "resource": "PS"
         },
         {
          "gen_sum": 10.855999999999998,
          "hour": 10,
          "resource": "PV"
         },
         {
          "gen_sum": 5.9864999999999995,
          "hour": 10,
          "resource": "WT"
         },
         {
          "gen_sum": 0,
          "hour": 11,
          "resource": "BM"
         },
         {
          "gen_sum": 893.7069999999999,
          "hour": 11,
          "resource": "CC"
         },
         {
          "gen_sum": 426.96000000000004,
          "hour": 11,
          "resource": "HY"
         },
         {
          "gen_sum": 240,
          "hour": 11,
          "resource": "PS"
         },
         {
          "gen_sum": 14.007,
          "hour": 11,
          "resource": "PV"
         },
         {
          "gen_sum": 5.526000000000001,
          "hour": 11,
          "resource": "WT"
         },
         {
          "gen_sum": 0,
          "hour": 12,
          "resource": "BM"
         },
         {
          "gen_sum": 899.1975000000003,
          "hour": 12,
          "resource": "CC"
         },
         {
          "gen_sum": 426.96000000000004,
          "hour": 12,
          "resource": "HY"
         },
         {
          "gen_sum": 240,
          "hour": 12,
          "resource": "PS"
         },
         {
          "gen_sum": 16.076999999999998,
          "hour": 12,
          "resource": "PV"
         },
         {
          "gen_sum": 5.065499999999999,
          "hour": 12,
          "resource": "WT"
         },
         {
          "gen_sum": 0,
          "hour": 13,
          "resource": "BM"
         },
         {
          "gen_sum": 898.2595000000003,
          "hour": 13,
          "resource": "CC"
         },
         {
          "gen_sum": 426.96000000000004,
          "hour": 13,
          "resource": "HY"
         },
         {
          "gen_sum": 240,
          "hour": 13,
          "resource": "PS"
         },
         {
          "gen_sum": 17.273,
          "hour": 13,
          "resource": "PV"
         },
         {
          "gen_sum": 6.907500000000001,
          "hour": 13,
          "resource": "WT"
         },
         {
          "gen_sum": 0,
          "hour": 14,
          "resource": "BM"
         },
         {
          "gen_sum": 905.8265000000005,
          "hour": 14,
          "resource": "CC"
         },
         {
          "gen_sum": 426.96000000000004,
          "hour": 14,
          "resource": "HY"
         },
         {
          "gen_sum": 240,
          "hour": 14,
          "resource": "PS"
         },
         {
          "gen_sum": 17.48,
          "hour": 14,
          "resource": "PV"
         },
         {
          "gen_sum": 12.4335,
          "hour": 14,
          "resource": "WT"
         },
         {
          "gen_sum": 0,
          "hour": 15,
          "resource": "BM"
         },
         {
          "gen_sum": 903.5970000000002,
          "hour": 15,
          "resource": "CC"
         },
         {
          "gen_sum": 426.96000000000004,
          "hour": 15,
          "resource": "HY"
         },
         {
          "gen_sum": 240,
          "hour": 15,
          "resource": "PS"
         },
         {
          "gen_sum": 16.375999999999998,
          "hour": 15,
          "resource": "PV"
         },
         {
          "gen_sum": 24.867,
          "hour": 15,
          "resource": "WT"
         },
         {
          "gen_sum": 0,
          "hour": 16,
          "resource": "BM"
         },
         {
          "gen_sum": 890.3125000000002,
          "hour": 16,
          "resource": "CC"
         },
         {
          "gen_sum": 426.96000000000004,
          "hour": 16,
          "resource": "HY"
         },
         {
          "gen_sum": 240,
          "hour": 16,
          "resource": "PS"
         },
         {
          "gen_sum": 13.500999999999998,
          "hour": 16,
          "resource": "PV"
         },
         {
          "gen_sum": 42.82650000000001,
          "hour": 16,
          "resource": "WT"
         },
         {
          "gen_sum": 0,
          "hour": 17,
          "resource": "BM"
         },
         {
          "gen_sum": 869.8494999999999,
          "hour": 17,
          "resource": "CC"
         },
         {
          "gen_sum": 426.96000000000004,
          "hour": 17,
          "resource": "HY"
         },
         {
          "gen_sum": 240,
          "hour": 17,
          "resource": "PS"
         },
         {
          "gen_sum": 11.707000000000003,
          "hour": 17,
          "resource": "PV"
         },
         {
          "gen_sum": 58.4835,
          "hour": 17,
          "resource": "WT"
         },
         {
          "gen_sum": 0,
          "hour": 18,
          "resource": "BM"
         },
         {
          "gen_sum": 881.4259999999999,
          "hour": 18,
          "resource": "CC"
         },
         {
          "gen_sum": 426.96000000000004,
          "hour": 18,
          "resource": "HY"
         },
         {
          "gen_sum": 240,
          "hour": 18,
          "resource": "PS"
         },
         {
          "gen_sum": 7.980999999999999,
          "hour": 18,
          "resource": "PV"
         },
         {
          "gen_sum": 67.23299999999999,
          "hour": 18,
          "resource": "WT"
         },
         {
          "gen_sum": 0,
          "hour": 19,
          "resource": "BM"
         },
         {
          "gen_sum": 841.1334999999998,
          "hour": 19,
          "resource": "CC"
         },
         {
          "gen_sum": 426.96000000000004,
          "hour": 19,
          "resource": "HY"
         },
         {
          "gen_sum": 240,
          "hour": 19,
          "resource": "PS"
         },
         {
          "gen_sum": 4.944999999999999,
          "hour": 19,
          "resource": "PV"
         },
         {
          "gen_sum": 75.06150000000001,
          "hour": 19,
          "resource": "WT"
         },
         {
          "gen_sum": 0,
          "hour": 20,
          "resource": "BM"
         },
         {
          "gen_sum": 833.3059999999998,
          "hour": 20,
          "resource": "CC"
         },
         {
          "gen_sum": 426.96000000000004,
          "hour": 20,
          "resource": "HY"
         },
         {
          "gen_sum": 240,
          "hour": 20,
          "resource": "PS"
         },
         {
          "gen_sum": 1.5180000000000002,
          "hour": 20,
          "resource": "PV"
         },
         {
          "gen_sum": 88.41600000000001,
          "hour": 20,
          "resource": "WT"
         },
         {
          "gen_sum": 0,
          "hour": 21,
          "resource": "BM"
         },
         {
          "gen_sum": 784.4835000000002,
          "hour": 21,
          "resource": "CC"
         },
         {
          "gen_sum": 426.96000000000004,
          "hour": 21,
          "resource": "HY"
         },
         {
          "gen_sum": 240,
          "hour": 21,
          "resource": "PS"
         },
         {
          "gen_sum": 0.22999999999999995,
          "hour": 21,
          "resource": "PV"
         },
         {
          "gen_sum": 134.9265,
          "hour": 21,
          "resource": "WT"
         },
         {
          "gen_sum": 0,
          "hour": 22,
          "resource": "BM"
         },
         {
          "gen_sum": 846.7529000000001,
          "hour": 22,
          "resource": "CC"
         },
         {
          "gen_sum": 281.7936,
          "hour": 22,
          "resource": "HY"
         },
         {
          "gen_sum": 240,
          "hour": 22,
          "resource": "PS"
         },
         {
          "gen_sum": 0,
          "hour": 22,
          "resource": "PV"
         },
         {
          "gen_sum": 215.05350000000004,
          "hour": 22,
          "resource": "WT"
         },
         {
          "gen_sum": 0,
          "hour": 23,
          "resource": "BM"
         },
         {
          "gen_sum": 779.9219,
          "hour": 23,
          "resource": "CC"
         },
         {
          "gen_sum": 281.7936,
          "hour": 23,
          "resource": "HY"
         },
         {
          "gen_sum": 240,
          "hour": 23,
          "resource": "PS"
         },
         {
          "gen_sum": 0,
          "hour": 23,
          "resource": "PV"
         },
         {
          "gen_sum": 225.18449999999999,
          "hour": 23,
          "resource": "WT"
         },
         {
          "gen_sum": 0,
          "hour": 24,
          "resource": "BM"
         },
         {
          "gen_sum": 722.6914000000002,
          "hour": 24,
          "resource": "CC"
         },
         {
          "gen_sum": 281.7936,
          "hour": 24,
          "resource": "HY"
         },
         {
          "gen_sum": 240,
          "hour": 24,
          "resource": "PS"
         },
         {
          "gen_sum": 0,
          "hour": 24,
          "resource": "PV"
         },
         {
          "gen_sum": 198.015,
          "hour": 24,
          "resource": "WT"
         },
         {
          "gen_sum": 0,
          "hour": 25,
          "resource": "BM"
         },
         {
          "gen_sum": 640.9123999999998,
          "hour": 25,
          "resource": "CC"
         },
         {
          "gen_sum": 281.7936,
          "hour": 25,
          "resource": "HY"
         },
         {
          "gen_sum": 240,
          "hour": 25,
          "resource": "PS"
         },
         {
          "gen_sum": 0,
          "hour": 25,
          "resource": "PV"
         },
         {
          "gen_sum": 197.094,
          "hour": 25,
          "resource": "WT"
         },
         {
          "gen_sum": 0,
          "hour": 26,
          "resource": "BM"
         },
         {
          "gen_sum": 618.5199,
          "hour": 26,
          "resource": "CC"
         },
         {
          "gen_sum": 281.7936,
          "hour": 26,
          "resource": "HY"
         },
         {
          "gen_sum": 240,
          "hour": 26,
          "resource": "PS"
         },
         {
          "gen_sum": 0,
          "hour": 26,
          "resource": "PV"
         },
         {
          "gen_sum": 190.18649999999997,
          "hour": 26,
          "resource": "WT"
         },
         {
          "gen_sum": 0,
          "hour": 27,
          "resource": "BM"
         },
         {
          "gen_sum": 615.1089000000001,
          "hour": 27,
          "resource": "CC"
         },
         {
          "gen_sum": 281.7936,
          "hour": 27,
          "resource": "HY"
         },
         {
          "gen_sum": 240,
          "hour": 27,
          "resource": "PS"
         },
         {
          "gen_sum": 0,
          "hour": 27,
          "resource": "PV"
         },
         {
          "gen_sum": 181.89750000000004,
          "hour": 27,
          "resource": "WT"
         },
         {
          "gen_sum": 0,
          "hour": 28,
          "resource": "BM"
         },
         {
          "gen_sum": 611.7163999999999,
          "hour": 28,
          "resource": "CC"
         },
         {
          "gen_sum": 281.7936,
          "hour": 28,
          "resource": "HY"
         },
         {
          "gen_sum": 240,
          "hour": 28,
          "resource": "PS"
         },
         {
          "gen_sum": 0,
          "hour": 28,
          "resource": "PV"
         },
         {
          "gen_sum": 174.98999999999998,
          "hour": 28,
          "resource": "WT"
         },
         {
          "gen_sum": 0,
          "hour": 29,
          "resource": "BM"
         },
         {
          "gen_sum": 580.4394000000001,
          "hour": 29,
          "resource": "CC"
         },
         {
          "gen_sum": 281.7936,
          "hour": 29,
          "resource": "HY"
         },
         {
          "gen_sum": 240,
          "hour": 29,
          "resource": "PS"
         },
         {
          "gen_sum": 0,
          "hour": 29,
          "resource": "PV"
         },
         {
          "gen_sum": 209.067,
          "hour": 29,
          "resource": "WT"
         },
         {
          "gen_sum": 0,
          "hour": 30,
          "resource": "BM"
         },
         {
          "gen_sum": 609.3089000000001,
          "hour": 30,
          "resource": "CC"
         },
         {
          "gen_sum": 281.7936,
          "hour": 30,
          "resource": "HY"
         },
         {
          "gen_sum": 240,
          "hour": 30,
          "resource": "PS"
         },
         {
          "gen_sum": 0,
          "hour": 30,
          "resource": "PV"
         },
         {
          "gen_sum": 181.89750000000004,
          "hour": 30,
          "resource": "WT"
         },
         {
          "gen_sum": 0,
          "hour": 31,
          "resource": "BM"
         },
         {
          "gen_sum": 529.9,
          "hour": 31,
          "resource": "CC"
         },
         {
          "gen_sum": 426.96000000000004,
          "hour": 31,
          "resource": "HY"
         },
         {
          "gen_sum": 240,
          "hour": 31,
          "resource": "PS"
         },
         {
          "gen_sum": 0.48299999999999993,
          "hour": 31,
          "resource": "PV"
         },
         {
          "gen_sum": 107.75699999999999,
          "hour": 31,
          "resource": "WT"
         },
         {
          "gen_sum": 0,
          "hour": 32,
          "resource": "BM"
         },
         {
          "gen_sum": 627.4499999999997,
          "hour": 32,
          "resource": "CC"
         },
         {
          "gen_sum": 426.96000000000004,
          "hour": 32,
          "resource": "HY"
         },
         {
          "gen_sum": 240,
          "hour": 32,
          "resource": "PS"
         },
         {
          "gen_sum": 2.093,
          "hour": 32,
          "resource": "PV"
         },
         {
          "gen_sum": 52.49700000000001,
          "hour": 32,
          "resource": "WT"
         },
         {
          "gen_sum": 0,
          "hour": 33,
          "resource": "BM"
         },
         {
          "gen_sum": 685.6189999999998,
          "hour": 33,
          "resource": "CC"
         },
         {
          "gen_sum": 426.96000000000004,
          "hour": 33,
          "resource": "HY"
         },
         {
          "gen_sum": 240,
          "hour": 33,
          "resource": "PS"
         },
         {
          "gen_sum": 4.944999999999999,
          "hour": 33,
          "resource": "PV"
         },
         {
          "gen_sum": 51.57599999999999,
          "hour": 33,
          "resource": "WT"
         },
         {
          "gen_sum": 0,
          "hour": 34,
          "resource": "BM"
         },
         {
          "gen_sum": 753.1575000000004,
          "hour": 34,
          "resource": "CC"
         },
         {
          "gen_sum": 426.96000000000004,
          "hour": 34,
          "resource": "HY"
         },
         {
          "gen_sum": 240,
          "hour": 34,
          "resource": "PS"
         },
         {
          "gen_sum": 7.13,
          "hour": 34,
          "resource": "PV"
         },
         {
          "gen_sum": 48.3525,
          "hour": 34,
          "resource": "WT"
         },
         {
          "gen_sum": 0,
          "hour": 35,
          "resource": "BM"
         },
         {
          "gen_sum": 796.6225000000001,
          "hour": 35,
          "resource": "CC"
         },
         {
          "gen_sum": 426.96000000000004,
          "hour": 35,
          "resource": "HY"
         },
         {
          "gen_sum": 240,
          "hour": 35,
          "resource": "PS"
         },
         {
          "gen_sum": 8.969999999999999,
          "hour": 35,
          "resource": "PV"
         },
         {
          "gen_sum": 43.747499999999995,
          "hour": 35,
          "resource": "WT"
         },
         {
          "gen_sum": 0,
          "hour": 36,
          "resource": "BM"
         },
         {
          "gen_sum": 800.4894999999996,
          "hour": 36,
          "resource": "CC"
         },
         {
          "gen_sum": 426.96000000000004,
          "hour": 36,
          "resource": "HY"
         },
         {
          "gen_sum": 240,
          "hour": 36,
          "resource": "PS"
         },
         {
          "gen_sum": 10.787,
          "hour": 36,
          "resource": "PV"
         },
         {
          "gen_sum": 40.0635,
          "hour": 36,
          "resource": "WT"
         },
         {
          "gen_sum": 0,
          "hour": 37,
          "resource": "BM"
         },
         {
          "gen_sum": 811.1494999999998,
          "hour": 37,
          "resource": "CC"
         },
         {
          "gen_sum": 426.96000000000004,
          "hour": 37,
          "resource": "HY"
         },
         {
          "gen_sum": 240,
          "hour": 37,
          "resource": "PS"
         },
         {
          "gen_sum": 11.569,
          "hour": 37,
          "resource": "PV"
         },
         {
          "gen_sum": 38.2215,
          "hour": 37,
          "resource": "WT"
         },
         {
          "gen_sum": 0,
          "hour": 38,
          "resource": "BM"
         },
         {
          "gen_sum": 800.0590000000001,
          "hour": 38,
          "resource": "CC"
         },
         {
          "gen_sum": 426.96000000000004,
          "hour": 38,
          "resource": "HY"
         },
         {
          "gen_sum": 240,
          "hour": 38,
          "resource": "PS"
         },
         {
          "gen_sum": 12.604000000000001,
          "hour": 38,
          "resource": "PV"
         },
         {
          "gen_sum": 34.077,
          "hour": 38,
          "resource": "WT"
         },
         {
          "gen_sum": 0,
          "hour": 39,
          "resource": "BM"
         },
         {
          "gen_sum": 793.1224999999996,
          "hour": 39,
          "resource": "CC"
         },
         {
          "gen_sum": 426.96000000000004,
          "hour": 39,
          "resource": "HY"
         },
         {
          "gen_sum": 240,
          "hour": 39,
          "resource": "PS"
         },
         {
          "gen_sum": 13.132999999999997,
          "hour": 39,
          "resource": "PV"
         },
         {
          "gen_sum": 40.9845,
          "hour": 39,
          "resource": "WT"
         },
         {
          "gen_sum": 0,
          "hour": 40,
          "resource": "BM"
         },
         {
          "gen_sum": 752.389,
          "hour": 40,
          "resource": "CC"
         },
         {
          "gen_sum": 426.96000000000004,
          "hour": 40,
          "resource": "HY"
         },
         {
          "gen_sum": 240,
          "hour": 40,
          "resource": "PS"
         },
         {
          "gen_sum": 10.833,
          "hour": 40,
          "resource": "PV"
         },
         {
          "gen_sum": 53.418,
          "hour": 40,
          "resource": "WT"
         },
         {
          "gen_sum": 0,
          "hour": 41,
          "resource": "BM"
         },
         {
          "gen_sum": 750.8674999999998,
          "hour": 41,
          "resource": "CC"
         },
         {
          "gen_sum": 426.96000000000004,
          "hour": 41,
          "resource": "HY"
         },
         {
          "gen_sum": 240,
          "hour": 41,
          "resource": "PS"
         },
         {
          "gen_sum": 7.705,
          "hour": 41,
          "resource": "PV"
         },
         {
          "gen_sum": 62.167500000000004,
          "hour": 41,
          "resource": "WT"
         },
         {
          "gen_sum": 0,
          "hour": 42,
          "resource": "BM"
         },
         {
          "gen_sum": 792.6655,
          "hour": 42,
          "resource": "CC"
         },
         {
          "gen_sum": 426.96000000000004,
          "hour": 42,
          "resource": "HY"
         },
         {
          "gen_sum": 240,
          "hour": 42,
          "resource": "PS"
         },
         {
          "gen_sum": 5.543,
          "hour": 42,
          "resource": "PV"
         },
         {
          "gen_sum": 47.4315,
          "hour": 42,
          "resource": "WT"
         },
         {
          "gen_sum": 0,
          "hour": 43,
          "resource": "BM"
         },
         {
          "gen_sum": 815.8269999999997,
          "hour": 43,
          "resource": "CC"
         },
         {
          "gen_sum": 426.96000000000004,
          "hour": 43,
          "resource": "HY"
         },
         {
          "gen_sum": 240,
          "hour": 43,
          "resource": "PS"
         },
         {
          "gen_sum": 3.841,
          "hour": 43,
          "resource": "PV"
         },
         {
          "gen_sum": 29.472,
          "hour": 43,
          "resource": "WT"
         },
         {
          "gen_sum": 0,
          "hour": 44,
          "resource": "BM"
         },
         {
          "gen_sum": 825.9205000000001,
          "hour": 44,
          "resource": "CC"
         },
         {
          "gen_sum": 426.96000000000004,
          "hour": 44,
          "resource": "HY"
         },
         {
          "gen_sum": 240,
          "hour": 44,
          "resource": "PS"
         },
         {
          "gen_sum": 1.7019999999999997,
          "hour": 44,
          "resource": "PV"
         },
         {
          "gen_sum": 16.1175,
          "hour": 44,
          "resource": "WT"
         },
         {
          "gen_sum": 0,
          "hour": 45,
          "resource": "BM"
         },
         {
          "gen_sum": 838.7644999999997,
          "hour": 45,
          "resource": "CC"
         },
         {
          "gen_sum": 426.96000000000004,
          "hour": 45,
          "resource": "HY"
         },
         {
          "gen_sum": 240,
          "hour": 45,
          "resource": "PS"
         },
         {
          "gen_sum": 0.18400000000000005,
          "hour": 45,
          "resource": "PV"
         },
         {
          "gen_sum": 10.5915,
          "hour": 45,
          "resource": "WT"
         },
         {
          "gen_sum": 0,
          "hour": 46,
          "resource": "BM"
         },
         {
          "gen_sum": 998.1519000000001,
          "hour": 46,
          "resource": "CC"
         },
         {
          "gen_sum": 281.7936,
          "hour": 46,
          "resource": "HY"
         },
         {
          "gen_sum": 240,
          "hour": 46,
          "resource": "PS"
         },
         {
          "gen_sum": 0,
          "hour": 46,
          "resource": "PV"
         },
         {
          "gen_sum": 13.3545,
          "hour": 46,
          "resource": "WT"
         },
         {
          "gen_sum": 0,
          "hour": 47,
          "resource": "BM"
         },
         {
          "gen_sum": 925.2394000000002,
          "hour": 47,
          "resource": "CC"
         },
         {
          "gen_sum": 281.7936,
          "hour": 47,
          "resource": "HY"
         },
         {
          "gen_sum": 240,
          "hour": 47,
          "resource": "PS"
         },
         {
          "gen_sum": 0,
          "hour": 47,
          "resource": "PV"
         },
         {
          "gen_sum": 24.867,
          "hour": 47,
          "resource": "WT"
         },
         {
          "gen_sum": 0,
          "hour": 48,
          "resource": "BM"
         },
         {
          "gen_sum": 845.4244000000001,
          "hour": 48,
          "resource": "CC"
         },
         {
          "gen_sum": 281.7936,
          "hour": 48,
          "resource": "HY"
         },
         {
          "gen_sum": 240,
          "hour": 48,
          "resource": "PS"
         },
         {
          "gen_sum": 0,
          "hour": 48,
          "resource": "PV"
         },
         {
          "gen_sum": 38.682,
          "hour": 48,
          "resource": "WT"
         },
         {
          "gen_sum": 0,
          "hour": 49,
          "resource": "BM"
         },
         {
          "gen_sum": 794.3394000000001,
          "hour": 49,
          "resource": "CC"
         },
         {
          "gen_sum": 281.7936,
          "hour": 49,
          "resource": "HY"
         },
         {
          "gen_sum": 240,
          "hour": 49,
          "resource": "PS"
         },
         {
          "gen_sum": 0,
          "hour": 49,
          "resource": "PV"
         },
         {
          "gen_sum": 24.867,
          "hour": 49,
          "resource": "WT"
         },
         {
          "gen_sum": 0,
          "hour": 50,
          "resource": "BM"
         },
         {
          "gen_sum": 790.9594,
          "hour": 50,
          "resource": "CC"
         },
         {
          "gen_sum": 281.7936,
          "hour": 50,
          "resource": "HY"
         },
         {
          "gen_sum": 240,
          "hour": 50,
          "resource": "PS"
         },
         {
          "gen_sum": 0,
          "hour": 50,
          "resource": "PV"
         },
         {
          "gen_sum": 6.446999999999999,
          "hour": 50,
          "resource": "WT"
         },
         {
          "gen_sum": 0,
          "hour": 51,
          "resource": "BM"
         },
         {
          "gen_sum": 779.5248999999999,
          "hour": 51,
          "resource": "CC"
         },
         {
          "gen_sum": 281.7936,
          "hour": 51,
          "resource": "HY"
         },
         {
          "gen_sum": 240,
          "hour": 51,
          "resource": "PS"
         },
         {
          "gen_sum": 0,
          "hour": 51,
          "resource": "PV"
         },
         {
          "gen_sum": 1.3815000000000002,
          "hour": 51,
          "resource": "WT"
         },
         {
          "gen_sum": 0,
          "hour": 52,
          "resource": "BM"
         },
         {
          "gen_sum": 778.4854000000003,
          "hour": 52,
          "resource": "CC"
         },
         {
          "gen_sum": 281.7936,
          "hour": 52,
          "resource": "HY"
         },
         {
          "gen_sum": 240,
          "hour": 52,
          "resource": "PS"
         },
         {
          "gen_sum": 0,
          "hour": 52,
          "resource": "PV"
         },
         {
          "gen_sum": 0.921,
          "hour": 52,
          "resource": "WT"
         },
         {
          "gen_sum": 0,
          "hour": 53,
          "resource": "BM"
         },
         {
          "gen_sum": 789.4248999999998,
          "hour": 53,
          "resource": "CC"
         },
         {
          "gen_sum": 281.7936,
          "hour": 53,
          "resource": "HY"
         },
         {
          "gen_sum": 240,
          "hour": 53,
          "resource": "PS"
         },
         {
          "gen_sum": 0,
          "hour": 53,
          "resource": "PV"
         },
         {
          "gen_sum": 1.3815000000000002,
          "hour": 53,
          "resource": "WT"
         },
         {
          "gen_sum": 0,
          "hour": 54,
          "resource": "BM"
         },
         {
          "gen_sum": 840.1039,
          "hour": 54,
          "resource": "CC"
         },
         {
          "gen_sum": 281.7936,
          "hour": 54,
          "resource": "HY"
         },
         {
          "gen_sum": 240,
          "hour": 54,
          "resource": "PS"
         },
         {
          "gen_sum": 0,
          "hour": 54,
          "resource": "PV"
         },
         {
          "gen_sum": 2.3024999999999998,
          "hour": 54,
          "resource": "WT"
         },
         {
          "gen_sum": 0,
          "hour": 55,
          "resource": "BM"
         },
         {
          "gen_sum": 807.0170000000005,
          "hour": 55,
          "resource": "CC"
         },
         {
          "gen_sum": 426.96000000000004,
          "hour": 55,
          "resource": "HY"
         },
         {
          "gen_sum": 240,
          "hour": 55,
          "resource": "PS"
         },
         {
          "gen_sum": 0.4599999999999999,
          "hour": 55,
          "resource": "PV"
         },
         {
          "gen_sum": 2.7630000000000003,
          "hour": 55,
          "resource": "WT"
         },
         {
          "gen_sum": 0,
          "hour": 56,
          "resource": "BM"
         },
         {
          "gen_sum": 915.9024999999996,
          "hour": 56,
          "resource": "CC"
         },
         {
          "gen_sum": 426.96000000000004,
          "hour": 56,
          "resource": "HY"
         },
         {
          "gen_sum": 240,
          "hour": 56,
          "resource": "PS"
         },
         {
          "gen_sum": 2.277,
          "hour": 56,
          "resource": "PV"
         },
         {
          "gen_sum": 0.4605,
          "hour": 56,
          "resource": "WT"
         },
         {
          "gen_sum": 0,
          "hour": 57,
          "resource": "BM"
         },
         {
          "gen_sum": 971.6694999999997,
          "hour": 57,
          "resource": "CC"
         },
         {
          "gen_sum": 426.96000000000004,
          "hour": 57,
          "resource": "HY"
         },
         {
          "gen_sum": 240,
          "hour": 57,
          "resource": "PS"
         },
         {
          "gen_sum": 4.968000000000001,
          "hour": 57,
          "resource": "PV"
         },
         {
          "gen_sum": 2.3024999999999998,
          "hour": 57,
          "resource": "WT"
         },
         {
          "gen_sum": 0,
          "hour": 58,
          "resource": "BM"
         },
         {
          "gen_sum": 992.5294999999996,
          "hour": 58,
          "resource": "CC"
         },
         {
          "gen_sum": 426.96000000000004,
          "hour": 58,
          "resource": "HY"
         },
         {
          "gen_sum": 240,
          "hour": 58,
          "resource": "PS"
         },
         {
          "gen_sum": 7.245,
          "hour": 58,
          "resource": "PV"
         },
         {
          "gen_sum": 5.065499999999999,
          "hour": 58,
          "resource": "WT"
         },
         {
          "gen_sum": 0,
          "hour": 59,
          "resource": "BM"
         },
         {
          "gen_sum": 1010.0779999999996,
          "hour": 59,
          "resource": "CC"
         },
         {
          "gen_sum": 426.96000000000004,
          "hour": 59,
          "resource": "HY"
         },
         {
          "gen_sum": 240,
          "hour": 59,
          "resource": "PS"
         },
         {
          "gen_sum": 10.120000000000003,
          "hour": 59,
          "resource": "PV"
         },
         {
          "gen_sum": 1.842,
          "hour": 59,
          "resource": "WT"
         },
         {
          "gen_sum": 0,
          "hour": 60,
          "resource": "BM"
         },
         {
          "gen_sum": 1007.2855000000003,
          "hour": 60,
          "resource": "CC"
         },
         {
          "gen_sum": 426.96000000000004,
          "hour": 60,
          "resource": "HY"
         },
         {
          "gen_sum": 240,
          "hour": 60,
          "resource": "PS"
         },
         {
          "gen_sum": 13.294000000000002,
          "hour": 60,
          "resource": "PV"
         },
         {
          "gen_sum": 0.4605,
          "hour": 60,
          "resource": "WT"
         },
         {
          "gen_sum": 0,
          "hour": 61,
          "resource": "BM"
         },
         {
          "gen_sum": 990.9139999999998,
          "hour": 61,
          "resource": "CC"
         },
         {
          "gen_sum": 426.96000000000004,
          "hour": 61,
          "resource": "HY"
         },
         {
          "gen_sum": 240,
          "hour": 61,
          "resource": "PS"
         },
         {
          "gen_sum": 15.226,
          "hour": 61,
          "resource": "PV"
         },
         {
          "gen_sum": 0,
          "hour": 61,
          "resource": "WT"
         },
         {
          "gen_sum": 0,
          "hour": 62,
          "resource": "BM"
         },
         {
          "gen_sum": 989.6600000000001,
          "hour": 62,
          "resource": "CC"
         },
         {
          "gen_sum": 426.96000000000004,
          "hour": 62,
          "resource": "HY"
         },
         {
          "gen_sum": 240,
          "hour": 62,
          "resource": "PS"
         },
         {
          "gen_sum": 15.180000000000001,
          "hour": 62,
          "resource": "PV"
         },
         {
          "gen_sum": 0,
          "hour": 62,
          "resource": "WT"
         },
         {
          "gen_sum": 0,
          "hour": 63,
          "resource": "BM"
         },
         {
          "gen_sum": 967.4300000000002,
          "hour": 63,
          "resource": "CC"
         },
         {
          "gen_sum": 426.96000000000004,
          "hour": 63,
          "resource": "HY"
         },
         {
          "gen_sum": 240,
          "hour": 63,
          "resource": "PS"
         },
         {
          "gen_sum": 15.41,
          "hour": 63,
          "resource": "PV"
         },
         {
          "gen_sum": 0,
          "hour": 63,
          "resource": "WT"
         },
         {
          "gen_sum": 0,
          "hour": 64,
          "resource": "BM"
         },
         {
          "gen_sum": 925.5769999999999,
          "hour": 64,
          "resource": "CC"
         },
         {
          "gen_sum": 426.96000000000004,
          "hour": 64,
          "resource": "HY"
         },
         {
          "gen_sum": 240,
          "hour": 64,
          "resource": "PS"
         },
         {
          "gen_sum": 13.362999999999996,
          "hour": 64,
          "resource": "PV"
         },
         {
          "gen_sum": 0,
          "hour": 64,
          "resource": "WT"
         },
         {
          "gen_sum": 0,
          "hour": 65,
          "resource": "BM"
         },
         {
          "gen_sum": 923.3599999999999,
          "hour": 65,
          "resource": "CC"
         },
         {
          "gen_sum": 426.96000000000004,
          "hour": 65,
          "resource": "HY"
         },
         {
          "gen_sum": 240,
          "hour": 65,
          "resource": "PS"
         },
         {
          "gen_sum": 10.58,
          "hour": 65,
          "resource": "PV"
         },
         {
          "gen_sum": 0,
          "hour": 65,
          "resource": "WT"
         },
         {
          "gen_sum": 0,
          "hour": 66,
          "resource": "BM"
         },
         {
          "gen_sum": 939.5969999999999,
          "hour": 66,
          "resource": "CC"
         },
         {
          "gen_sum": 426.96000000000004,
          "hour": 66,
          "resource": "HY"
         },
         {
          "gen_sum": 240,
          "hour": 66,
          "resource": "PS"
         },
         {
          "gen_sum": 7.843000000000002,
          "hour": 66,
          "resource": "PV"
         },
         {
          "gen_sum": 0,
          "hour": 66,
          "resource": "WT"
         },
         {
          "gen_sum": 0,
          "hour": 67,
          "resource": "BM"
         },
         {
          "gen_sum": 942.8630000000003,
          "hour": 67,
          "resource": "CC"
         },
         {
          "gen_sum": 426.96000000000004,
          "hour": 67,
          "resource": "HY"
         },
         {
          "gen_sum": 240,
          "hour": 67,
          "resource": "PS"
         },
         {
          "gen_sum": 4.577,
          "hour": 67,
          "resource": "PV"
         },
         {
          "gen_sum": 0,
          "hour": 67,
          "resource": "WT"
         },
         {
          "gen_sum": 0,
          "hour": 68,
          "resource": "BM"
         },
         {
          "gen_sum": 948.9400000000004,
          "hour": 68,
          "resource": "CC"
         },
         {
          "gen_sum": 426.96000000000004,
          "hour": 68,
          "resource": "HY"
         },
         {
          "gen_sum": 240,
          "hour": 68,
          "resource": "PS"
         },
         {
          "gen_sum": 1.6789999999999996,
          "hour": 68,
          "resource": "PV"
         },
         {
          "gen_sum": 0.921,
          "hour": 68,
          "resource": "WT"
         },
         {
          "gen_sum": 0,
          "hour": 69,
          "resource": "BM"
         },
         {
          "gen_sum": 956.4484999999997,
          "hour": 69,
          "resource": "CC"
         },
         {
          "gen_sum": 426.96000000000004,
          "hour": 69,
          "resource": "HY"
         },
         {
          "gen_sum": 240,
          "hour": 69,
          "resource": "PS"
         },
         {
          "gen_sum": 0.18400000000000005,
          "hour": 69,
          "resource": "PV"
         },
         {
          "gen_sum": 6.907500000000001,
          "hour": 69,
          "resource": "WT"
         },
         {
          "gen_sum": 0,
          "hour": 70,
          "resource": "BM"
         },
         {
          "gen_sum": 1103.4419,
          "hour": 70,
          "resource": "CC"
         },
         {
          "gen_sum": 281.7936,
          "hour": 70,
          "resource": "HY"
         },
         {
          "gen_sum": 240,
          "hour": 70,
          "resource": "PS"
         },
         {
          "gen_sum": 0,
          "hour": 70,
          "resource": "PV"
         },
         {
          "gen_sum": 22.564500000000002,
          "hour": 70,
          "resource": "WT"
         },
         {
          "gen_sum": 0,
          "hour": 71,
          "resource": "BM"
         },
         {
          "gen_sum": 1019.7638999999999,
          "hour": 71,
          "resource": "CC"
         },
         {
          "gen_sum": 281.7936,
          "hour": 71,
          "resource": "HY"
         },
         {
          "gen_sum": 240,
          "hour": 71,
          "resource": "PS"
         },
         {
          "gen_sum": 0,
          "hour": 71,
          "resource": "PV"
         },
         {
          "gen_sum": 39.1425,
          "hour": 71,
          "resource": "WT"
         },
         {
          "gen_sum": 0,
          "hour": 72,
          "resource": "BM"
         },
         {
          "gen_sum": 909.7698999999999,
          "hour": 72,
          "resource": "CC"
         },
         {
          "gen_sum": 281.7936,
          "hour": 72,
          "resource": "HY"
         },
         {
          "gen_sum": 240,
          "hour": 72,
          "resource": "PS"
         },
         {
          "gen_sum": 0,
          "hour": 72,
          "resource": "PV"
         },
         {
          "gen_sum": 52.036500000000004,
          "hour": 72,
          "resource": "WT"
         },
         {
          "gen_sum": 0,
          "hour": 73,
          "resource": "BM"
         },
         {
          "gen_sum": 825.2784000000001,
          "hour": 73,
          "resource": "CC"
         },
         {
          "gen_sum": 281.7936,
          "hour": 73,
          "resource": "HY"
         },
         {
          "gen_sum": 240,
          "hour": 73,
          "resource": "PS"
         },
         {
          "gen_sum": 0,
          "hour": 73,
          "resource": "PV"
         },
         {
          "gen_sum": 62.628,
          "hour": 73,
          "resource": "WT"
         },
         {
          "gen_sum": 0,
          "hour": 74,
          "resource": "BM"
         },
         {
          "gen_sum": 770.4843999999999,
          "hour": 74,
          "resource": "CC"
         },
         {
          "gen_sum": 281.7936,
          "hour": 74,
          "resource": "HY"
         },
         {
          "gen_sum": 240,
          "hour": 74,
          "resource": "PS"
         },
         {
          "gen_sum": 0,
          "hour": 74,
          "resource": "PV"
         },
         {
          "gen_sum": 75.52199999999999,
          "hour": 74,
          "resource": "WT"
         },
         {
          "gen_sum": 0,
          "hour": 75,
          "resource": "BM"
         },
         {
          "gen_sum": 739.6693999999998,
          "hour": 75,
          "resource": "CC"
         },
         {
          "gen_sum": 281.7936,
          "hour": 75,
          "resource": "HY"
         },
         {
          "gen_sum": 240,
          "hour": 75,
          "resource": "PS"
         },
         {
          "gen_sum": 0,
          "hour": 75,
          "resource": "PV"
         },
         {
          "gen_sum": 89.33699999999999,
          "hour": 75,
          "resource": "WT"
         },
         {
          "gen_sum": 0,
          "hour": 76,
          "resource": "BM"
         },
         {
          "gen_sum": 740.9484,
          "hour": 76,
          "resource": "CC"
         },
         {
          "gen_sum": 281.7936,
          "hour": 76,
          "resource": "HY"
         },
         {
          "gen_sum": 240,
          "hour": 76,
          "resource": "PS"
         },
         {
          "gen_sum": 0,
          "hour": 76,
          "resource": "PV"
         },
         {
          "gen_sum": 90.25800000000001,
          "hour": 76,
          "resource": "WT"
         },
         {
          "gen_sum": 0,
          "hour": 77,
          "resource": "BM"
         },
         {
          "gen_sum": 775.0004000000001,
          "hour": 77,
          "resource": "CC"
         },
         {
          "gen_sum": 281.7936,
          "hour": 77,
          "resource": "HY"
         },
         {
          "gen_sum": 240,
          "hour": 77,
          "resource": "PS"
         },
         {
          "gen_sum": 0,
          "hour": 77,
          "resource": "PV"
         },
         {
          "gen_sum": 79.20599999999999,
          "hour": 77,
          "resource": "WT"
         },
         {
          "gen_sum": 0,
          "hour": 78,
          "resource": "BM"
         },
         {
          "gen_sum": 865.1179000000001,
          "hour": 78,
          "resource": "CC"
         },
         {
          "gen_sum": 281.7936,
          "hour": 78,
          "resource": "HY"
         },
         {
          "gen_sum": 240,
          "hour": 78,
          "resource": "PS"
         },
         {
          "gen_sum": 0,
          "hour": 78,
          "resource": "PV"
         },
         {
          "gen_sum": 63.08850000000001,
          "hour": 78,
          "resource": "WT"
         },
         {
          "gen_sum": 0,
          "hour": 79,
          "resource": "BM"
         },
         {
          "gen_sum": 844.5190000000003,
          "hour": 79,
          "resource": "CC"
         },
         {
          "gen_sum": 426.96000000000004,
          "hour": 79,
          "resource": "HY"
         },
         {
          "gen_sum": 240,
          "hour": 79,
          "resource": "PS"
         },
         {
          "gen_sum": 0.7130000000000001,
          "hour": 79,
          "resource": "PV"
         },
         {
          "gen_sum": 44.208000000000006,
          "hour": 79,
          "resource": "WT"
         },
         {
          "gen_sum": 0,
          "hour": 80,
          "resource": "BM"
         },
         {
          "gen_sum": 968.1504999999997,
          "hour": 80,
          "resource": "CC"
         },
         {
          "gen_sum": 426.96000000000004,
          "hour": 80,
          "resource": "HY"
         },
         {
          "gen_sum": 240,
          "hour": 80,
          "resource": "PS"
         },
         {
          "gen_sum": 2.5300000000000007,
          "hour": 80,
          "resource": "PV"
         },
         {
          "gen_sum": 17.959500000000002,
          "hour": 80,
          "resource": "WT"
         },
         {
          "gen_sum": 0,
          "hour": 81,
          "resource": "BM"
         },
         {
          "gen_sum": 1004.1854999999999,
          "hour": 81,
          "resource": "CC"
         },
         {
          "gen_sum": 426.96000000000004,
          "hour": 81,
          "resource": "HY"
         },
         {
          "gen_sum": 240,
          "hour": 81,
          "resource": "PS"
         },
         {
          "gen_sum": 4.784000000000001,
          "hour": 81,
          "resource": "PV"
         },
         {
          "gen_sum": 9.6705,
          "hour": 81,
          "resource": "WT"
         },
         {
          "gen_sum": 0,
          "hour": 82,
          "resource": "BM"
         },
         {
          "gen_sum": 993.1539999999995,
          "hour": 82,
          "resource": "CC"
         },
         {
          "gen_sum": 426.96000000000004,
          "hour": 82,
          "resource": "HY"
         },
         {
          "gen_sum": 240,
          "hour": 82,
          "resource": "PS"
         },
         {
          "gen_sum": 7.245,
          "hour": 82,
          "resource": "PV"
         },
         {
          "gen_sum": 19.341,
          "hour": 82,
          "resource": "WT"
         },
         {
          "gen_sum": 0,
          "hour": 83,
          "resource": "BM"
         },
         {
          "gen_sum": 1011.2980000000005,
          "hour": 83,
          "resource": "CC"
         },
         {
          "gen_sum": 426.96000000000004,
          "hour": 83,
          "resource": "HY"
         },
         {
          "gen_sum": 240,
          "hour": 83,
          "resource": "PS"
         },
         {
          "gen_sum": 9.338,
          "hour": 83,
          "resource": "PV"
         },
         {
          "gen_sum": 22.104000000000003,
          "hour": 83,
          "resource": "WT"
         },
         {
          "gen_sum": 0,
          "hour": 84,
          "resource": "BM"
         },
         {
          "gen_sum": 1024.4100000000005,
          "hour": 84,
          "resource": "CC"
         },
         {
          "gen_sum": 426.96000000000004,
          "hour": 84,
          "resource": "HY"
         },
         {
          "gen_sum": 240,
          "hour": 84,
          "resource": "PS"
         },
         {
          "gen_sum": 11.431,
          "hour": 84,
          "resource": "PV"
         },
         {
          "gen_sum": 17.499,
          "hour": 84,
          "resource": "WT"
         },
         {
          "gen_sum": 0,
          "hour": 85,
          "resource": "BM"
         },
         {
          "gen_sum": 1037.5419999999995,
          "hour": 85,
          "resource": "CC"
         },
         {
          "gen_sum": 426.96000000000004,
          "hour": 85,
          "resource": "HY"
         },
         {
          "gen_sum": 240,
          "hour": 85,
          "resource": "PS"
         },
         {
          "gen_sum": 12.788000000000002,
          "hour": 85,
          "resource": "PV"
         },
         {
          "gen_sum": 9.209999999999999,
          "hour": 85,
          "resource": "WT"
         },
         {
          "gen_sum": 0,
          "hour": 86,
          "resource": "BM"
         },
         {
          "gen_sum": 1047.6035000000002,
          "hour": 86,
          "resource": "CC"
         },
         {
          "gen_sum": 426.96000000000004,
          "hour": 86,
          "resource": "HY"
         },
         {
          "gen_sum": 240,
          "hour": 86,
          "resource": "PS"
         },
         {
          "gen_sum": 12.834,
          "hour": 86,
          "resource": "PV"
         },
         {
          "gen_sum": 2.3024999999999998,
          "hour": 86,
          "resource": "WT"
         },
         {
          "gen_sum": 0,
          "hour": 87,
          "resource": "BM"
         },
         {
          "gen_sum": 1031.9104999999993,
          "hour": 87,
          "resource": "CC"
         },
         {
          "gen_sum": 426.96000000000004,
          "hour": 87,
          "resource": "HY"
         },
         {
          "gen_sum": 240,
          "hour": 87,
          "resource": "PS"
         },
         {
          "gen_sum": 11.569,
          "hour": 87,
          "resource": "PV"
         },
         {
          "gen_sum": 0.4605,
          "hour": 87,
          "resource": "WT"
         },
         {
          "gen_sum": 0,
          "hour": 88,
          "resource": "BM"
         },
         {
          "gen_sum": 1006.3880000000001,
          "hour": 88,
          "resource": "CC"
         },
         {
          "gen_sum": 426.96000000000004,
          "hour": 88,
          "resource": "HY"
         },
         {
          "gen_sum": 240,
          "hour": 88,
          "resource": "PS"
         },
         {
          "gen_sum": 9.752000000000002,
          "hour": 88,
          "resource": "PV"
         },
         {
          "gen_sum": 0,
          "hour": 88,
          "resource": "WT"
         },
         {
          "gen_sum": 0,
          "hour": 89,
          "resource": "BM"
         },
         {
          "gen_sum": 1004.366,
          "hour": 89,
          "resource": "CC"
         },
         {
          "gen_sum": 426.96000000000004,
          "hour": 89,
          "resource": "HY"
         },
         {
          "gen_sum": 240,
          "hour": 89,
          "resource": "PS"
         },
         {
          "gen_sum": 7.774000000000001,
          "hour": 89,
          "resource": "PV"
         },
         {
          "gen_sum": 0,
          "hour": 89,
          "resource": "WT"
         },
         {
          "gen_sum": 0,
          "hour": 90,
          "resource": "BM"
         },
         {
          "gen_sum": 1006.7529999999999,
          "hour": 90,
          "resource": "CC"
         },
         {
          "gen_sum": 426.96000000000004,
          "hour": 90,
          "resource": "HY"
         },
         {
          "gen_sum": 240,
          "hour": 90,
          "resource": "PS"
         },
         {
          "gen_sum": 6.187000000000001,
          "hour": 90,
          "resource": "PV"
         },
         {
          "gen_sum": 0,
          "hour": 90,
          "resource": "WT"
         },
         {
          "gen_sum": 0,
          "hour": 91,
          "resource": "BM"
         },
         {
          "gen_sum": 996.8145000000003,
          "hour": 91,
          "resource": "CC"
         },
         {
          "gen_sum": 426.96000000000004,
          "hour": 91,
          "resource": "HY"
         },
         {
          "gen_sum": 240,
          "hour": 91,
          "resource": "PS"
         },
         {
          "gen_sum": 3.565,
          "hour": 91,
          "resource": "PV"
         },
         {
          "gen_sum": 0.4605,
          "hour": 91,
          "resource": "WT"
         },
         {
          "gen_sum": 0,
          "hour": 92,
          "resource": "BM"
         },
         {
          "gen_sum": 975.6569999999999,
          "hour": 92,
          "resource": "CC"
         },
         {
          "gen_sum": 426.96000000000004,
          "hour": 92,
          "resource": "HY"
         },
         {
          "gen_sum": 240,
          "hour": 92,
          "resource": "PS"
         },
         {
          "gen_sum": 1.541,
          "hour": 92,
          "resource": "PV"
         },
         {
          "gen_sum": 1.842,
          "hour": 92,
          "resource": "WT"
         },
         {
          "gen_sum": 0,
          "hour": 93,
          "resource": "BM"
         },
         {
          "gen_sum": 1003.4690000000004,
          "hour": 93,
          "resource": "CC"
         },
         {
          "gen_sum": 426.96000000000004,
          "hour": 93,
          "resource": "HY"
         },
         {
          "gen_sum": 240,
          "hour": 93,
          "resource": "PS"
         },
         {
          "gen_sum": 0.16100000000000003,
          "hour": 93,
          "resource": "PV"
         },
         {
          "gen_sum": 9.209999999999999,
          "hour": 93,
          "resource": "WT"
         },
         {
          "gen_sum": 0,
          "hour": 94,
          "resource": "BM"
         },
         {
          "gen_sum": 1135.5134,
          "hour": 94,
          "resource": "CC"
         },
         {
          "gen_sum": 281.7936,
          "hour": 94,
          "resource": "HY"
         },
         {
          "gen_sum": 240,
          "hour": 94,
          "resource": "PS"
         },
         {
          "gen_sum": 0,
          "hour": 94,
          "resource": "PV"
         },
         {
          "gen_sum": 30.393,
          "hour": 94,
          "resource": "WT"
         },
         {
          "gen_sum": 0,
          "hour": 95,
          "resource": "BM"
         },
         {
          "gen_sum": 1008.8908999999999,
          "hour": 95,
          "resource": "CC"
         },
         {
          "gen_sum": 281.7936,
          "hour": 95,
          "resource": "HY"
         },
         {
          "gen_sum": 240,
          "hour": 95,
          "resource": "PS"
         },
         {
          "gen_sum": 0,
          "hour": 95,
          "resource": "PV"
         },
         {
          "gen_sum": 51.1155,
          "hour": 95,
          "resource": "WT"
         },
         {
          "gen_sum": 0,
          "hour": 96,
          "resource": "BM"
         },
         {
          "gen_sum": 867.7104000000003,
          "hour": 96,
          "resource": "CC"
         },
         {
          "gen_sum": 281.7936,
          "hour": 96,
          "resource": "HY"
         },
         {
          "gen_sum": 240,
          "hour": 96,
          "resource": "PS"
         },
         {
          "gen_sum": 0,
          "hour": 96,
          "resource": "PV"
         },
         {
          "gen_sum": 69.996,
          "hour": 96,
          "resource": "WT"
         },
         {
          "gen_sum": 0,
          "hour": 97,
          "resource": "BM"
         },
         {
          "gen_sum": 798.0054000000001,
          "hour": 97,
          "resource": "CC"
         },
         {
          "gen_sum": 281.7936,
          "hour": 97,
          "resource": "HY"
         },
         {
          "gen_sum": 240,
          "hour": 97,
          "resource": "PS"
         },
         {
          "gen_sum": 0,
          "hour": 97,
          "resource": "PV"
         },
         {
          "gen_sum": 74.601,
          "hour": 97,
          "resource": "WT"
         },
         {
          "gen_sum": 0,
          "hour": 98,
          "resource": "BM"
         },
         {
          "gen_sum": 767.9968999999999,
          "hour": 98,
          "resource": "CC"
         },
         {
          "gen_sum": 281.7936,
          "hour": 98,
          "resource": "HY"
         },
         {
          "gen_sum": 240,
          "hour": 98,
          "resource": "PS"
         },
         {
          "gen_sum": 0,
          "hour": 98,
          "resource": "PV"
         },
         {
          "gen_sum": 64.00950000000002,
          "hour": 98,
          "resource": "WT"
         },
         {
          "gen_sum": 0,
          "hour": 99,
          "resource": "BM"
         },
         {
          "gen_sum": 753.9439,
          "hour": 99,
          "resource": "CC"
         },
         {
          "gen_sum": 281.7936,
          "hour": 99,
          "resource": "HY"
         },
         {
          "gen_sum": 240,
          "hour": 99,
          "resource": "PS"
         },
         {
          "gen_sum": 0,
          "hour": 99,
          "resource": "PV"
         },
         {
          "gen_sum": 57.5625,
          "hour": 99,
          "resource": "WT"
         },
         {
          "gen_sum": 0,
          "hour": 100,
          "resource": "BM"
         },
         {
          "gen_sum": 743.7859,
          "hour": 100,
          "resource": "CC"
         },
         {
          "gen_sum": 281.7936,
          "hour": 100,
          "resource": "HY"
         },
         {
          "gen_sum": 240,
          "hour": 100,
          "resource": "PS"
         },
         {
          "gen_sum": 0,
          "hour": 100,
          "resource": "PV"
         },
         {
          "gen_sum": 55.72049999999999,
          "hour": 100,
          "resource": "WT"
         },
         {
          "gen_sum": 0,
          "hour": 101,
          "resource": "BM"
         },
         {
          "gen_sum": 767.7649,
          "hour": 101,
          "resource": "CC"
         },
         {
          "gen_sum": 281.7936,
          "hour": 101,
          "resource": "HY"
         },
         {
          "gen_sum": 240,
          "hour": 101,
          "resource": "PS"
         },
         {
          "gen_sum": 0,
          "hour": 101,
          "resource": "PV"
         },
         {
          "gen_sum": 56.64149999999999,
          "hour": 101,
          "resource": "WT"
         },
         {
          "gen_sum": 0,
          "hour": 102,
          "resource": "BM"
         },
         {
          "gen_sum": 817.7229000000001,
          "hour": 102,
          "resource": "CC"
         },
         {
          "gen_sum": 281.7936,
          "hour": 102,
          "resource": "HY"
         },
         {
          "gen_sum": 240,
          "hour": 102,
          "resource": "PS"
         },
         {
          "gen_sum": 0,
          "hour": 102,
          "resource": "PV"
         },
         {
          "gen_sum": 58.4835,
          "hour": 102,
          "resource": "WT"
         },
         {
          "gen_sum": 0,
          "hour": 103,
          "resource": "BM"
         },
         {
          "gen_sum": 803.5735000000001,
          "hour": 103,
          "resource": "CC"
         },
         {
          "gen_sum": 426.96000000000004,
          "hour": 103,
          "resource": "HY"
         },
         {
          "gen_sum": 240,
          "hour": 103,
          "resource": "PS"
         },
         {
          "gen_sum": 0.7820000000000003,
          "hour": 103,
          "resource": "PV"
         },
         {
          "gen_sum": 40.9845,
          "hour": 103,
          "resource": "WT"
         },
         {
          "gen_sum": 0,
          "hour": 104,
          "resource": "BM"
         },
         {
          "gen_sum": 937.3365,
          "hour": 104,
          "resource": "CC"
         },
         {
          "gen_sum": 426.96000000000004,
          "hour": 104,
          "resource": "HY"
         },
         {
          "gen_sum": 240,
          "hour": 104,
          "resource": "PS"
         },
         {
          "gen_sum": 2.7600000000000007,
          "hour": 104,
          "resource": "PV"
         },
         {
          "gen_sum": 21.6435,
          "hour": 104,
          "resource": "WT"
         },
         {
          "gen_sum": 0,
          "hour": 105,
          "resource": "BM"
         },
         {
          "gen_sum": 1017.8779999999995,
          "hour": 105,
          "resource": "CC"
         },
         {
          "gen_sum": 426.96000000000004,
          "hour": 105,
          "resource": "HY"
         },
         {
          "gen_sum": 240,
          "hour": 105,
          "resource": "PS"
         },
         {
          "gen_sum": 5.727000000000001,
          "hour": 105,
          "resource": "PV"
         },
         {
          "gen_sum": 32.235,
          "hour": 105,
          "resource": "WT"
         },
         {
          "gen_sum": 0,
          "hour": 106,
          "resource": "BM"
         },
         {
          "gen_sum": 1040.07,
          "hour": 106,
          "resource": "CC"
         },
         {
          "gen_sum": 426.96000000000004,
          "hour": 106,
          "resource": "HY"
         },
         {
          "gen_sum": 240,
          "hour": 106,
          "resource": "PS"
         },
         {
          "gen_sum": 8.625,
          "hour": 106,
          "resource": "PV"
         },
         {
          "gen_sum": 41.445,
          "hour": 106,
          "resource": "WT"
         },
         {
          "gen_sum": 0,
          "hour": 107,
          "resource": "BM"
         },
         {
          "gen_sum": 1042.6674999999996,
          "hour": 107,
          "resource": "CC"
         },
         {
          "gen_sum": 426.96000000000004,
          "hour": 107,
          "resource": "HY"
         },
         {
          "gen_sum": 240,
          "hour": 107,
          "resource": "PS"
         },
         {
          "gen_sum": 10.924999999999997,
          "hour": 107,
          "resource": "PV"
         },
         {
          "gen_sum": 43.747499999999995,
          "hour": 107,
          "resource": "WT"
         },
         {
          "gen_sum": 0,
          "hour": 108,
          "resource": "BM"
         },
         {
          "gen_sum": 1061.0015,
          "hour": 108,
          "resource": "CC"
         },
         {
          "gen_sum": 426.96000000000004,
          "hour": 108,
          "resource": "HY"
         },
         {
          "gen_sum": 240,
          "hour": 108,
          "resource": "PS"
         },
         {
          "gen_sum": 12.512000000000004,
          "hour": 108,
          "resource": "PV"
         },
         {
          "gen_sum": 42.82650000000001,
          "hour": 108,
          "resource": "WT"
         },
         {
          "gen_sum": 0,
          "hour": 109,
          "resource": "BM"
         },
         {
          "gen_sum": 1062.7904999999998,
          "hour": 109,
          "resource": "CC"
         },
         {
          "gen_sum": 426.96000000000004,
          "hour": 109,
          "resource": "HY"
         },
         {
          "gen_sum": 240,
          "hour": 109,
          "resource": "PS"
         },
         {
          "gen_sum": 13.822999999999999,
          "hour": 109,
          "resource": "PV"
         },
         {
          "gen_sum": 42.82650000000001,
          "hour": 109,
          "resource": "WT"
         },
         {
          "gen_sum": 0,
          "hour": 110,
          "resource": "BM"
         },
         {
          "gen_sum": 1091.2264999999998,
          "hour": 110,
          "resource": "CC"
         },
         {
          "gen_sum": 426.96000000000004,
          "hour": 110,
          "resource": "HY"
         },
         {
          "gen_sum": 240,
          "hour": 110,
          "resource": "PS"
         },
         {
          "gen_sum": 14.145000000000001,
          "hour": 110,
          "resource": "PV"
         },
         {
          "gen_sum": 44.668499999999995,
          "hour": 110,
          "resource": "WT"
         },
         {
          "gen_sum": 0,
          "hour": 111,
          "resource": "BM"
         },
         {
          "gen_sum": 1057.9194999999993,
          "hour": 111,
          "resource": "CC"
         },
         {
          "gen_sum": 426.96000000000004,
          "hour": 111,
          "resource": "HY"
         },
         {
          "gen_sum": 240,
          "hour": 111,
          "resource": "PS"
         },
         {
          "gen_sum": 13.547,
          "hour": 111,
          "resource": "PV"
         },
         {
          "gen_sum": 49.2735,
          "hour": 111,
          "resource": "WT"
         },
         {
          "gen_sum": 0,
          "hour": 112,
          "resource": "BM"
         },
         {
          "gen_sum": 1016.2134999999994,
          "hour": 112,
          "resource": "CC"
         },
         {
          "gen_sum": 426.96000000000004,
          "hour": 112,
          "resource": "HY"
         },
         {
          "gen_sum": 240,
          "hour": 112,
          "resource": "PS"
         },
         {
          "gen_sum": 12.006000000000002,
          "hour": 112,
          "resource": "PV"
         },
         {
          "gen_sum": 55.72049999999999,
          "hour": 112,
          "resource": "WT"
         },
         {
          "gen_sum": 0,
          "hour": 113,
          "resource": "BM"
         },
         {
          "gen_sum": 1007.1894999999997,
          "hour": 113,
          "resource": "CC"
         },
         {
          "gen_sum": 426.96000000000004,
          "hour": 113,
          "resource": "HY"
         },
         {
          "gen_sum": 240,
          "hour": 113,
          "resource": "PS"
         },
         {
          "gen_sum": 10.120000000000003,
          "hour": 113,
          "resource": "PV"
         },
         {
          "gen_sum": 64.9305,
          "hour": 113,
          "resource": "WT"
         },
         {
          "gen_sum": 0,
          "hour": 114,
          "resource": "BM"
         },
         {
          "gen_sum": 985.9239999999993,
          "hour": 114,
          "resource": "CC"
         },
         {
          "gen_sum": 426.96000000000004,
          "hour": 114,
          "resource": "HY"
         },
         {
          "gen_sum": 240,
          "hour": 114,
          "resource": "PS"
         },
         {
          "gen_sum": 7.383000000000002,
          "hour": 114,
          "resource": "PV"
         },
         {
          "gen_sum": 67.23299999999999,
          "hour": 114,
          "resource": "WT"
         },
         {
          "gen_sum": 0,
          "hour": 115,
          "resource": "BM"
         },
         {
          "gen_sum": 977.3890000000005,
          "hour": 115,
          "resource": "CC"
         },
         {
          "gen_sum": 426.96000000000004,
          "hour": 115,
          "resource": "HY"
         },
         {
          "gen_sum": 240,
          "hour": 115,
          "resource": "PS"
         },
         {
          "gen_sum": 4.255,
          "hour": 115,
          "resource": "PV"
         },
         {
          "gen_sum": 69.996,
          "hour": 115,
          "resource": "WT"
         },
         {
          "gen_sum": 0,
          "hour": 116,
          "resource": "BM"
         },
         {
          "gen_sum": 978.2084999999993,
          "hour": 116,
          "resource": "CC"
         },
         {
          "gen_sum": 426.96000000000004,
          "hour": 116,
          "resource": "HY"
         },
         {
          "gen_sum": 240,
          "hour": 116,
          "resource": "PS"
         },
         {
          "gen_sum": 1.6329999999999996,
          "hour": 116,
          "resource": "PV"
         },
         {
          "gen_sum": 72.2985,
          "hour": 116,
          "resource": "WT"
         },
         {
          "gen_sum": 0,
          "hour": 117,
          "resource": "BM"
         },
         {
          "gen_sum": 958.9600000000002,
          "hour": 117,
          "resource": "CC"
         },
         {
          "gen_sum": 426.96000000000004,
          "hour": 117,
          "resource": "HY"
         },
         {
          "gen_sum": 240,
          "hour": 117,
          "resource": "PS"
         },
         {
          "gen_sum": 0.16100000000000003,
          "hour": 117,
          "resource": "PV"
         },
         {
          "gen_sum": 128.01900000000003,
          "hour": 117,
          "resource": "WT"
         },
         {
          "gen_sum": 0,
          "hour": 118,
          "resource": "BM"
         },
         {
          "gen_sum": 1032.9634,
          "hour": 118,
          "resource": "CC"
         },
         {
          "gen_sum": 281.7936,
          "hour": 118,
          "resource": "HY"
         },
         {
          "gen_sum": 240,
          "hour": 118,
          "resource": "PS"
         },
         {
          "gen_sum": 0,
          "hour": 118,
          "resource": "PV"
         },
         {
          "gen_sum": 168.543,
          "hour": 118,
          "resource": "WT"
         },
         {
          "gen_sum": 0,
          "hour": 119,
          "resource": "BM"
         },
         {
          "gen_sum": 964.7118999999999,
          "hour": 119,
          "resource": "CC"
         },
         {
          "gen_sum": 281.7936,
          "hour": 119,
          "resource": "HY"
         },
         {
          "gen_sum": 240,
          "hour": 119,
          "resource": "PS"
         },
         {
          "gen_sum": 0,
          "hour": 119,
          "resource": "PV"
         },
         {
          "gen_sum": 142.2945,
          "hour": 119,
          "resource": "WT"
         },
         {
          "gen_sum": 0,
          "hour": 120,
          "resource": "BM"
         },
         {
          "gen_sum": 859.9009000000002,
          "hour": 120,
          "resource": "CC"
         },
         {
          "gen_sum": 281.7936,
          "hour": 120,
          "resource": "HY"
         },
         {
          "gen_sum": 240,
          "hour": 120,
          "resource": "PS"
         },
         {
          "gen_sum": 0,
          "hour": 120,
          "resource": "PV"
         },
         {
          "gen_sum": 134.0055,
          "hour": 120,
          "resource": "WT"
         },
         {
          "gen_sum": 0,
          "hour": 121,
          "resource": "BM"
         },
         {
          "gen_sum": 802.7269000000001,
          "hour": 121,
          "resource": "CC"
         },
         {
          "gen_sum": 281.7936,
          "hour": 121,
          "resource": "HY"
         },
         {
          "gen_sum": 240,
          "hour": 121,
          "resource": "PS"
         },
         {
          "gen_sum": 0,
          "hour": 121,
          "resource": "PV"
         },
         {
          "gen_sum": 128.47950000000003,
          "hour": 121,
          "resource": "WT"
         },
         {
          "gen_sum": 0,
          "hour": 122,
          "resource": "BM"
         },
         {
          "gen_sum": 780.7679000000002,
          "hour": 122,
          "resource": "CC"
         },
         {
          "gen_sum": 281.7936,
          "hour": 122,
          "resource": "HY"
         },
         {
          "gen_sum": 240,
          "hour": 122,
          "resource": "PS"
         },
         {
          "gen_sum": 0,
          "hour": 122,
          "resource": "PV"
         },
         {
          "gen_sum": 109.1385,
          "hour": 122,
          "resource": "WT"
         },
         {
          "gen_sum": 0,
          "hour": 123,
          "resource": "BM"
         },
         {
          "gen_sum": 770.3458999999999,
          "hour": 123,
          "resource": "CC"
         },
         {
          "gen_sum": 281.7936,
          "hour": 123,
          "resource": "HY"
         },
         {
          "gen_sum": 240,
          "hour": 123,
          "resource": "PS"
         },
         {
          "gen_sum": 0,
          "hour": 123,
          "resource": "PV"
         },
         {
          "gen_sum": 92.56050000000002,
          "hour": 123,
          "resource": "WT"
         },
         {
          "gen_sum": 0,
          "hour": 124,
          "resource": "BM"
         },
         {
          "gen_sum": 781.2868999999998,
          "hour": 124,
          "resource": "CC"
         },
         {
          "gen_sum": 281.7936,
          "hour": 124,
          "resource": "HY"
         },
         {
          "gen_sum": 240,
          "hour": 124,
          "resource": "PS"
         },
         {
          "gen_sum": 0,
          "hour": 124,
          "resource": "PV"
         },
         {
          "gen_sum": 73.2195,
          "hour": 124,
          "resource": "WT"
         },
         {
          "gen_sum": 0,
          "hour": 125,
          "resource": "BM"
         },
         {
          "gen_sum": 804.7573999999998,
          "hour": 125,
          "resource": "CC"
         },
         {
          "gen_sum": 281.7936,
          "hour": 125,
          "resource": "HY"
         },
         {
          "gen_sum": 240,
          "hour": 125,
          "resource": "PS"
         },
         {
          "gen_sum": 0,
          "hour": 125,
          "resource": "PV"
         },
         {
          "gen_sum": 63.54900000000001,
          "hour": 125,
          "resource": "WT"
         },
         {
          "gen_sum": 0,
          "hour": 126,
          "resource": "BM"
         },
         {
          "gen_sum": 863.0204,
          "hour": 126,
          "resource": "CC"
         },
         {
          "gen_sum": 281.7936,
          "hour": 126,
          "resource": "HY"
         },
         {
          "gen_sum": 240,
          "hour": 126,
          "resource": "PS"
         },
         {
          "gen_sum": 0,
          "hour": 126,
          "resource": "PV"
         },
         {
          "gen_sum": 60.786,
          "hour": 126,
          "resource": "WT"
         },
         {
          "gen_sum": 0,
          "hour": 127,
          "resource": "BM"
         },
         {
          "gen_sum": 847.5015000000003,
          "hour": 127,
          "resource": "CC"
         },
         {
          "gen_sum": 426.96000000000004,
          "hour": 127,
          "resource": "HY"
         },
         {
          "gen_sum": 240,
          "hour": 127,
          "resource": "PS"
         },
         {
          "gen_sum": 0.8279999999999997,
          "hour": 127,
          "resource": "PV"
         },
         {
          "gen_sum": 46.5105,
          "hour": 127,
          "resource": "WT"
         },
         {
          "gen_sum": 0,
          "hour": 128,
          "resource": "BM"
         },
         {
          "gen_sum": 978.0355000000001,
          "hour": 128,
          "resource": "CC"
         },
         {
          "gen_sum": 426.96000000000004,
          "hour": 128,
          "resource": "HY"
         },
         {
          "gen_sum": 240,
          "hour": 128,
          "resource": "PS"
         },
         {
          "gen_sum": 2.8979999999999997,
          "hour": 128,
          "resource": "PV"
         },
         {
          "gen_sum": 24.4065,
          "hour": 128,
          "resource": "WT"
         },
         {
          "gen_sum": 0,
          "hour": 129,
          "resource": "BM"
         },
         {
          "gen_sum": 1024.0969999999995,
          "hour": 129,
          "resource": "CC"
         },
         {
          "gen_sum": 426.96000000000004,
          "hour": 129,
          "resource": "HY"
         },
         {
          "gen_sum": 240,
          "hour": 129,
          "resource": "PS"
         },
         {
          "gen_sum": 5.934,
          "hour": 129,
          "resource": "PV"
         },
         {
          "gen_sum": 26.709,
          "hour": 129,
          "resource": "WT"
         },
         {
          "gen_sum": 0,
          "hour": 130,
          "resource": "BM"
         },
         {
          "gen_sum": 1018.6234999999998,
          "hour": 130,
          "resource": "CC"
         },
         {
          "gen_sum": 426.96000000000004,
          "hour": 130,
          "resource": "HY"
         },
         {
          "gen_sum": 240,
          "hour": 130,
          "resource": "PS"
         },
         {
          "gen_sum": 8.832,
          "hour": 130,
          "resource": "PV"
         },
         {
          "gen_sum": 40.9845,
          "hour": 130,
          "resource": "WT"
         },
         {
          "gen_sum": 0,
          "hour": 131,
          "resource": "BM"
         },
         {
          "gen_sum": 1022.8549999999991,
          "hour": 131,
          "resource": "CC"
         },
         {
          "gen_sum": 426.96000000000004,
          "hour": 131,
          "resource": "HY"
         },
         {
          "gen_sum": 240,
          "hour": 131,
          "resource": "PS"
         },
         {
          "gen_sum": 10.120000000000003,
          "hour": 131,
          "resource": "PV"
         },
         {
          "gen_sum": 59.865,
          "hour": 131,
          "resource": "WT"
         },
         {
          "gen_sum": 0,
          "hour": 132,
          "resource": "BM"
         },
         {
          "gen_sum": 1030.1430000000003,
          "hour": 132,
          "resource": "CC"
         },
         {
          "gen_sum": 426.96000000000004,
          "hour": 132,
          "resource": "HY"
         },
         {
          "gen_sum": 240,
          "hour": 132,
          "resource": "PS"
         },
         {
          "gen_sum": 9.085,
          "hour": 132,
          "resource": "PV"
         },
         {
          "gen_sum": 66.312,
          "hour": 132,
          "resource": "WT"
         },
         {
          "gen_sum": 0,
          "hour": 133,
          "resource": "BM"
         },
         {
          "gen_sum": 1032.1544999999996,
          "hour": 133,
          "resource": "CC"
         },
         {
          "gen_sum": 426.96000000000004,
          "hour": 133,
          "resource": "HY"
         },
         {
          "gen_sum": 240,
          "hour": 133,
          "resource": "PS"
         },
         {
          "gen_sum": 6.739000000000001,
          "hour": 133,
          "resource": "PV"
         },
         {
          "gen_sum": 61.246500000000005,
          "hour": 133,
          "resource": "WT"
         },
         {
          "gen_sum": 0,
          "hour": 134,
          "resource": "BM"
         },
         {
          "gen_sum": 1065.5855000000006,
          "hour": 134,
          "resource": "CC"
         },
         {
          "gen_sum": 426.96000000000004,
          "hour": 134,
          "resource": "HY"
         },
         {
          "gen_sum": 240,
          "hour": 134,
          "resource": "PS"
         },
         {
          "gen_sum": 5.680999999999999,
          "hour": 134,
          "resource": "PV"
         },
         {
          "gen_sum": 49.2735,
          "hour": 134,
          "resource": "WT"
         },
         {
          "gen_sum": 0,
          "hour": 135,
          "resource": "BM"
         },
         {
          "gen_sum": 1071.2789999999998,
          "hour": 135,
          "resource": "CC"
         },
         {
          "gen_sum": 426.96000000000004,
          "hour": 135,
          "resource": "HY"
         },
         {
          "gen_sum": 240,
          "hour": 135,
          "resource": "PS"
         },
         {
          "gen_sum": 5.404999999999999,
          "hour": 135,
          "resource": "PV"
         },
         {
          "gen_sum": 33.156,
          "hour": 135,
          "resource": "WT"
         },
         {
          "gen_sum": 0,
          "hour": 136,
          "resource": "BM"
         },
         {
          "gen_sum": 1080.7515000000003,
          "hour": 136,
          "resource": "CC"
         },
         {
          "gen_sum": 426.96000000000004,
          "hour": 136,
          "resource": "HY"
         },
         {
          "gen_sum": 240,
          "hour": 136,
          "resource": "PS"
         },
         {
          "gen_sum": 5.129,
          "hour": 136,
          "resource": "PV"
         },
         {
          "gen_sum": 17.959500000000002,
          "hour": 136,
          "resource": "WT"
         },
         {
          "gen_sum": 0,
          "hour": 137,
          "resource": "BM"
         },
         {
          "gen_sum": 1063.7639999999994,
          "hour": 137,
          "resource": "CC"
         },
         {
          "gen_sum": 426.96000000000004,
          "hour": 137,
          "resource": "HY"
         },
         {
          "gen_sum": 240,
          "hour": 137,
          "resource": "PS"
         },
         {
          "gen_sum": 4.508000000000001,
          "hour": 137,
          "resource": "PV"
         },
         {
          "gen_sum": 7.368,
          "hour": 137,
          "resource": "WT"
         },
         {
          "gen_sum": 0,
          "hour": 138,
          "resource": "BM"
         },
         {
          "gen_sum": 1077.5705000000005,
          "hour": 138,
          "resource": "CC"
         },
         {
          "gen_sum": 426.96000000000004,
          "hour": 138,
          "resource": "HY"
         },
         {
          "gen_sum": 240,
          "hour": 138,
          "resource": "PS"
         },
         {
          "gen_sum": 3.5879999999999996,
          "hour": 138,
          "resource": "PV"
         },
         {
          "gen_sum": 1.3815000000000002,
          "hour": 138,
          "resource": "WT"
         },
         {
          "gen_sum": 0,
          "hour": 139,
          "resource": "BM"
         },
         {
          "gen_sum": 1085.289,
          "hour": 139,
          "resource": "CC"
         },
         {
          "gen_sum": 426.96000000000004,
          "hour": 139,
          "resource": "HY"
         },
         {
          "gen_sum": 240,
          "hour": 139,
          "resource": "PS"
         },
         {
          "gen_sum": 2.5300000000000007,
          "hour": 139,
          "resource": "PV"
         },
         {
          "gen_sum": 0.921,
          "hour": 139,
          "resource": "WT"
         },
         {
          "gen_sum": 0,
          "hour": 140,
          "resource": "BM"
         },
         {
          "gen_sum": 1089.1229999999998,
          "hour": 140,
          "resource": "CC"
         },
         {
          "gen_sum": 426.96000000000004,
          "hour": 140,
          "resource": "HY"
         },
         {
          "gen_sum": 240,
          "hour": 140,
          "resource": "PS"
         },
         {
          "gen_sum": 1.1960000000000002,
          "hour": 140,
          "resource": "PV"
         },
         {
          "gen_sum": 0.921,
          "hour": 140,
          "resource": "WT"
         },
         {
          "gen_sum": 0,
          "hour": 141,
          "resource": "BM"
         },
         {
          "gen_sum": 1079.6644999999999,
          "hour": 141,
          "resource": "CC"
         },
         {
          "gen_sum": 426.96000000000004,
          "hour": 141,
          "resource": "HY"
         },
         {
          "gen_sum": 240,
          "hour": 141,
          "resource": "PS"
         },
         {
          "gen_sum": 0.11499999999999998,
          "hour": 141,
          "resource": "PV"
         },
         {
          "gen_sum": 0.4605,
          "hour": 141,
          "resource": "WT"
         },
         {
          "gen_sum": 0,
          "hour": 142,
          "resource": "BM"
         },
         {
          "gen_sum": 1210.8039,
          "hour": 142,
          "resource": "CC"
         },
         {
          "gen_sum": 281.7936,
          "hour": 142,
          "resource": "HY"
         },
         {
          "gen_sum": 240,
          "hour": 142,
          "resource": "PS"
         },
         {
          "gen_sum": 0,
          "hour": 142,
          "resource": "PV"
         },
         {
          "gen_sum": 2.3024999999999998,
          "hour": 142,
          "resource": "WT"
         },
         {
          "gen_sum": 0,
          "hour": 143,
          "resource": "BM"
         },
         {
          "gen_sum": 1129.0594,
          "hour": 143,
          "resource": "CC"
         },
         {
          "gen_sum": 281.7936,
          "hour": 143,
          "resource": "HY"
         },
         {
          "gen_sum": 240,
          "hour": 143,
          "resource": "PS"
         },
         {
          "gen_sum": 0,
          "hour": 143,
          "resource": "PV"
         },
         {
          "gen_sum": 6.446999999999999,
          "hour": 143,
          "resource": "WT"
         },
         {
          "gen_sum": 0,
          "hour": 144,
          "resource": "BM"
         },
         {
          "gen_sum": 1006.7938999999999,
          "hour": 144,
          "resource": "CC"
         },
         {
          "gen_sum": 281.7936,
          "hour": 144,
          "resource": "HY"
         },
         {
          "gen_sum": 240,
          "hour": 144,
          "resource": "PS"
         },
         {
          "gen_sum": 0,
          "hour": 144,
          "resource": "PV"
         },
         {
          "gen_sum": 11.512500000000001,
          "hour": 144,
          "resource": "WT"
         },
         {
          "gen_sum": 0,
          "hour": 145,
          "resource": "BM"
         },
         {
          "gen_sum": 877.2909000000001,
          "hour": 145,
          "resource": "CC"
         },
         {
          "gen_sum": 281.7936,
          "hour": 145,
          "resource": "HY"
         },
         {
          "gen_sum": 240,
          "hour": 145,
          "resource": "PS"
         },
         {
          "gen_sum": 0,
          "hour": 145,
          "resource": "PV"
         },
         {
          "gen_sum": 51.1155,
          "hour": 145,
          "resource": "WT"
         },
         {
          "gen_sum": 0,
          "hour": 146,
          "resource": "BM"
         },
         {
          "gen_sum": 777.3484000000001,
          "hour": 146,
          "resource": "CC"
         },
         {
          "gen_sum": 281.7936,
          "hour": 146,
          "resource": "HY"
         },
         {
          "gen_sum": 240,
          "hour": 146,
          "resource": "PS"
         },
         {
          "gen_sum": 0,
          "hour": 146,
          "resource": "PV"
         },
         {
          "gen_sum": 90.25800000000001,
          "hour": 146,
          "resource": "WT"
         },
         {
          "gen_sum": 0,
          "hour": 147,
          "resource": "BM"
         },
         {
          "gen_sum": 745.0534,
          "hour": 147,
          "resource": "CC"
         },
         {
          "gen_sum": 281.7936,
          "hour": 147,
          "resource": "HY"
         },
         {
          "gen_sum": 240,
          "hour": 147,
          "resource": "PS"
         },
         {
          "gen_sum": 0,
          "hour": 147,
          "resource": "PV"
         },
         {
          "gen_sum": 85.65300000000002,
          "hour": 147,
          "resource": "WT"
         },
         {
          "gen_sum": 0,
          "hour": 148,
          "resource": "BM"
         },
         {
          "gen_sum": 721.0693999999999,
          "hour": 148,
          "resource": "CC"
         },
         {
          "gen_sum": 281.7936,
          "hour": 148,
          "resource": "HY"
         },
         {
          "gen_sum": 240,
          "hour": 148,
          "resource": "PS"
         },
         {
          "gen_sum": 0,
          "hour": 148,
          "resource": "PV"
         },
         {
          "gen_sum": 89.33699999999999,
          "hour": 148,
          "resource": "WT"
         },
         {
          "gen_sum": 0,
          "hour": 149,
          "resource": "BM"
         },
         {
          "gen_sum": 680.4009000000002,
          "hour": 149,
          "resource": "CC"
         },
         {
          "gen_sum": 281.7936,
          "hour": 149,
          "resource": "HY"
         },
         {
          "gen_sum": 240,
          "hour": 149,
          "resource": "PS"
         },
         {
          "gen_sum": 0,
          "hour": 149,
          "resource": "PV"
         },
         {
          "gen_sum": 134.0055,
          "hour": 149,
          "resource": "WT"
         },
         {
          "gen_sum": 0,
          "hour": 150,
          "resource": "BM"
         },
         {
          "gen_sum": 702.3843999999999,
          "hour": 150,
          "resource": "CC"
         },
         {
          "gen_sum": 281.7936,
          "hour": 150,
          "resource": "HY"
         },
         {
          "gen_sum": 240,
          "hour": 150,
          "resource": "PS"
         },
         {
          "gen_sum": 0,
          "hour": 150,
          "resource": "PV"
         },
         {
          "gen_sum": 167.62199999999999,
          "hour": 150,
          "resource": "WT"
         },
         {
          "gen_sum": 0,
          "hour": 151,
          "resource": "BM"
         },
         {
          "gen_sum": 658.0944999999999,
          "hour": 151,
          "resource": "CC"
         },
         {
          "gen_sum": 426.96000000000004,
          "hour": 151,
          "resource": "HY"
         },
         {
          "gen_sum": 240,
          "hour": 151,
          "resource": "PS"
         },
         {
          "gen_sum": 0.253,
          "hour": 151,
          "resource": "PV"
         },
         {
          "gen_sum": 177.2925,
          "hour": 151,
          "resource": "WT"
         },
         {
          "gen_sum": 0,
          "hour": 152,
          "resource": "BM"
         },
         {
          "gen_sum": 788.9815,
          "hour": 152,
          "resource": "CC"
         },
         {
          "gen_sum": 426.96000000000004,
          "hour": 152,
          "resource": "HY"
         },
         {
          "gen_sum": 240,
          "hour": 152,
          "resource": "PS"
         },
         {
          "gen_sum": 1.012,
          "hour": 152,
          "resource": "PV"
         },
         {
          "gen_sum": 153.34650000000002,
          "hour": 152,
          "resource": "WT"
         },
         {
          "gen_sum": 0,
          "hour": 153,
          "resource": "BM"
         },
         {
          "gen_sum": 855.519,
          "hour": 153,
          "resource": "CC"
         },
         {
          "gen_sum": 426.96000000000004,
          "hour": 153,
          "resource": "HY"
         },
         {
          "gen_sum": 240,
          "hour": 153,
          "resource": "PS"
         },
         {
          "gen_sum": 2.323,
          "hour": 153,
          "resource": "PV"
         },
         {
          "gen_sum": 127.09800000000001,
          "hour": 153,
          "resource": "WT"
         },
         {
          "gen_sum": 0,
          "hour": 154,
          "resource": "BM"
         },
         {
          "gen_sum": 908.7205000000002,
          "hour": 154,
          "resource": "CC"
         },
         {
          "gen_sum": 426.96000000000004,
          "hour": 154,
          "resource": "HY"
         },
         {
          "gen_sum": 240,
          "hour": 154,
          "resource": "PS"
         },
         {
          "gen_sum": 4.554,
          "hour": 154,
          "resource": "PV"
         },
         {
          "gen_sum": 97.16550000000001,
          "hour": 154,
          "resource": "WT"
         },
         {
          "gen_sum": 0,
          "hour": 155,
          "resource": "BM"
         },
         {
          "gen_sum": 976.7814999999997,
          "hour": 155,
          "resource": "CC"
         },
         {
          "gen_sum": 426.96000000000004,
          "hour": 155,
          "resource": "HY"
         },
         {
          "gen_sum": 240,
          "hour": 155,
          "resource": "PS"
         },
         {
          "gen_sum": 7.3599999999999985,
          "hour": 155,
          "resource": "PV"
         },
         {
          "gen_sum": 72.2985,
          "hour": 155,
          "resource": "WT"
         },
         {
          "gen_sum": 0,
          "hour": 156,
          "resource": "BM"
         },
         {
          "gen_sum": 1008.4399999999996,
          "hour": 156,
          "resource": "CC"
         },
         {
          "gen_sum": 426.96000000000004,
          "hour": 156,
          "resource": "HY"
         },
         {
          "gen_sum": 240,
          "hour": 156,
          "resource": "PS"
         },
         {
          "gen_sum": 10.235000000000001,
          "hour": 156,
          "resource": "PV"
         },
         {
          "gen_sum": 59.865,
          "hour": 156,
          "resource": "WT"
         },
         {
          "gen_sum": 0,
          "hour": 157,
          "resource": "BM"
         },
         {
          "gen_sum": 1029.7265000000004,
          "hour": 157,
          "resource": "CC"
         },
         {
          "gen_sum": 426.96000000000004,
          "hour": 157,
          "resource": "HY"
         },
         {
          "gen_sum": 240,
          "hour": 157,
          "resource": "PS"
         },
         {
          "gen_sum": 12.535,
          "hour": 157,
          "resource": "PV"
         },
         {
          "gen_sum": 53.878499999999995,
          "hour": 157,
          "resource": "WT"
         },
         {
          "gen_sum": 0,
          "hour": 158,
          "resource": "BM"
         },
         {
          "gen_sum": 1071.1395000000002,
          "hour": 158,
          "resource": "CC"
         },
         {
          "gen_sum": 426.96000000000004,
          "hour": 158,
          "resource": "HY"
         },
         {
          "gen_sum": 240,
          "hour": 158,
          "resource": "PS"
         },
         {
          "gen_sum": 14.052999999999999,
          "hour": 158,
          "resource": "PV"
         },
         {
          "gen_sum": 43.747499999999995,
          "hour": 158,
          "resource": "WT"
         },
         {
          "gen_sum": 0,
          "hour": 159,
          "resource": "BM"
         },
         {
          "gen_sum": 1084.9119999999996,
          "hour": 159,
          "resource": "CC"
         },
         {
          "gen_sum": 426.96000000000004,
          "hour": 159,
          "resource": "HY"
         },
         {
          "gen_sum": 240,
          "hour": 159,
          "resource": "PS"
         },
         {
          "gen_sum": 14.466999999999999,
          "hour": 159,
          "resource": "PV"
         },
         {
          "gen_sum": 37.760999999999996,
          "hour": 159,
          "resource": "WT"
         },
         {
          "gen_sum": 0,
          "hour": 160,
          "resource": "BM"
         },
         {
          "gen_sum": 1080.010999999999,
          "hour": 160,
          "resource": "CC"
         },
         {
          "gen_sum": 426.96000000000004,
          "hour": 160,
          "resource": "HY"
         },
         {
          "gen_sum": 240,
          "hour": 160,
          "resource": "PS"
         },
         {
          "gen_sum": 13.547,
          "hour": 160,
          "resource": "PV"
         },
         {
          "gen_sum": 38.682,
          "hour": 160,
          "resource": "WT"
         },
         {
          "gen_sum": 0,
          "hour": 161,
          "resource": "BM"
         },
         {
          "gen_sum": 1083.7549999999999,
          "hour": 161,
          "resource": "CC"
         },
         {
          "gen_sum": 426.96000000000004,
          "hour": 161,
          "resource": "HY"
         },
         {
          "gen_sum": 240,
          "hour": 161,
          "resource": "PS"
         },
         {
          "gen_sum": 11.476999999999999,
          "hour": 161,
          "resource": "PV"
         },
         {
          "gen_sum": 44.208000000000006,
          "hour": 161,
          "resource": "WT"
         },
         {
          "gen_sum": 0,
          "hour": 162,
          "resource": "BM"
         },
         {
          "gen_sum": 1053.029,
          "hour": 162,
          "resource": "CC"
         },
         {
          "gen_sum": 426.96000000000004,
          "hour": 162,
          "resource": "HY"
         },
         {
          "gen_sum": 240,
          "hour": 162,
          "resource": "PS"
         },
         {
          "gen_sum": 8.372,
          "hour": 162,
          "resource": "PV"
         },
         {
          "gen_sum": 54.339,
          "hour": 162,
          "resource": "WT"
         },
         {
          "gen_sum": 0,
          "hour": 163,
          "resource": "BM"
         },
         {
          "gen_sum": 1017.4370000000002,
          "hour": 163,
          "resource": "CC"
         },
         {
          "gen_sum": 426.96000000000004,
          "hour": 163,
          "resource": "HY"
         },
         {
          "gen_sum": 240,
          "hour": 163,
          "resource": "PS"
         },
         {
          "gen_sum": 4.9910000000000005,
          "hour": 163,
          "resource": "PV"
         },
         {
          "gen_sum": 66.312,
          "hour": 163,
          "resource": "WT"
         },
         {
          "gen_sum": 0,
          "hour": 164,
          "resource": "BM"
         },
         {
          "gen_sum": 1004.6494999999996,
          "hour": 164,
          "resource": "CC"
         },
         {
          "gen_sum": 426.96000000000004,
          "hour": 164,
          "resource": "HY"
         },
         {
          "gen_sum": 240,
          "hour": 164,
          "resource": "PS"
         },
         {
          "gen_sum": 1.7709999999999997,
          "hour": 164,
          "resource": "PV"
         },
         {
          "gen_sum": 73.2195,
          "hour": 164,
          "resource": "WT"
         },
         {
          "gen_sum": 0,
          "hour": 165,
          "resource": "BM"
         },
         {
          "gen_sum": 968.6900000000004,
          "hour": 165,
          "resource": "CC"
         },
         {
          "gen_sum": 426.96000000000004,
          "hour": 165,
          "resource": "HY"
         },
         {
          "gen_sum": 240,
          "hour": 165,
          "resource": "PS"
         },
         {
          "gen_sum": 0.16100000000000003,
          "hour": 165,
          "resource": "PV"
         },
         {
          "gen_sum": 100.389,
          "hour": 165,
          "resource": "WT"
         },
         {
          "gen_sum": 0,
          "hour": 166,
          "resource": "BM"
         },
         {
          "gen_sum": 1094.7554000000002,
          "hour": 166,
          "resource": "CC"
         },
         {
          "gen_sum": 281.7936,
          "hour": 166,
          "resource": "HY"
         },
         {
          "gen_sum": 240,
          "hour": 166,
          "resource": "PS"
         },
         {
          "gen_sum": 0,
          "hour": 166,
          "resource": "PV"
         },
         {
          "gen_sum": 120.65100000000002,
          "hour": 166,
          "resource": "WT"
         },
         {
          "gen_sum": 0,
          "hour": 167,
          "resource": "BM"
         },
         {
          "gen_sum": 993.4544000000003,
          "hour": 167,
          "resource": "CC"
         },
         {
          "gen_sum": 281.7936,
          "hour": 167,
          "resource": "HY"
         },
         {
          "gen_sum": 240,
          "hour": 167,
          "resource": "PS"
         },
         {
          "gen_sum": 0,
          "hour": 167,
          "resource": "PV"
         },
         {
          "gen_sum": 103.15199999999999,
          "hour": 167,
          "resource": "WT"
         },
         {
          "gen_sum": 0,
          "hour": 168,
          "resource": "BM"
         },
         {
          "gen_sum": 906.7139,
          "hour": 168,
          "resource": "CC"
         },
         {
          "gen_sum": 281.7936,
          "hour": 168,
          "resource": "HY"
         },
         {
          "gen_sum": 240,
          "hour": 168,
          "resource": "PS"
         },
         {
          "gen_sum": 0,
          "hour": 168,
          "resource": "PV"
         },
         {
          "gen_sum": 85.19250000000001,
          "hour": 168,
          "resource": "WT"
         }
        ]
       },
       "encoding": {
        "color": {
         "field": "resource",
         "scale": {
          "scheme": "category20"
         },
         "type": "nominal"
        },
        "x": {
         "field": "hour",
         "type": "quantitative"
        },
        "y": {
         "field": "gen_sum",
         "type": "quantitative"
        }
       },
       "mark": "line"
      },
      "image/png": "[encoded data removed]",
      "image/svg+xml": [
       "<?xml version=\"1.0\" encoding=\"utf-8\"?>\n",
       "<!DOCTYPE svg PUBLIC \"-//W3C//DTD SVG 1.1//EN\" \"http://www.w3.org/Graphics/SVG/1.1/DTD/svg11.dtd\">\n",
       "<svg class=\"marks\" width=\"323\" height=\"242\" viewBox=\"0 0 323 242\" version=\"1.1\" xmlns=\"http://www.w3.org/2000/svg\" xmlns:xlink=\"http://www.w3.org/1999/xlink\"><rect width=\"323\" height=\"242\" fill=\"white\"></rect><g fill=\"none\" stroke-miterlimit=\"10\" transform=\"translate(54,5)\"><g class=\"mark-group role-frame root\" role=\"graphics-object\" aria-roledescription=\"group mark container\"><g transform=\"translate(0,0)\"><path class=\"background\" aria-hidden=\"true\" d=\"M0.5,0.5h200v200h-200Z\" stroke=\"#ddd\"></path><g><g class=\"mark-group role-axis\" aria-hidden=\"true\"><g transform=\"translate(0.5,200.5)\"><path class=\"background\" aria-hidden=\"true\" d=\"M0,0h0v0h0Z\" pointer-events=\"none\"></path><g><g class=\"mark-rule role-axis-grid\" pointer-events=\"none\"><line transform=\"translate(0,-200)\" x2=\"0\" y2=\"200\" stroke=\"#ddd\" stroke-width=\"1\" opacity=\"1\"></line><line transform=\"translate(56,-200)\" x2=\"0\" y2=\"200\" stroke=\"#ddd\" stroke-width=\"1\" opacity=\"1\"></line><line transform=\"translate(111,-200)\" x2=\"0\" y2=\"200\" stroke=\"#ddd\" stroke-width=\"1\" opacity=\"1\"></line><line transform=\"translate(167,-200)\" x2=\"0\" y2=\"200\" stroke=\"#ddd\" stroke-width=\"1\" opacity=\"1\"></line></g></g><path class=\"foreground\" aria-hidden=\"true\" d=\"\" pointer-events=\"none\" display=\"none\"></path></g></g><g class=\"mark-group role-axis\" aria-hidden=\"true\"><g transform=\"translate(0.5,0.5)\"><path class=\"background\" aria-hidden=\"true\" d=\"M0,0h0v0h0Z\" pointer-events=\"none\"></path><g><g class=\"mark-rule role-axis-grid\" pointer-events=\"none\"><line transform=\"translate(0,200)\" x2=\"200\" y2=\"0\" stroke=\"#ddd\" stroke-width=\"1\" opacity=\"1\"></line><line transform=\"translate(0,169)\" x2=\"200\" y2=\"0\" stroke=\"#ddd\" stroke-width=\"1\" opacity=\"1\"></line><line transform=\"translate(0,138)\" x2=\"200\" y2=\"0\" stroke=\"#ddd\" stroke-width=\"1\" opacity=\"1\"></line><line transform=\"translate(0,108)\" x2=\"200\" y2=\"0\" stroke=\"#ddd\" stroke-width=\"1\" opacity=\"1\"></line><line transform=\"translate(0,77)\" x2=\"200\" y2=\"0\" stroke=\"#ddd\" stroke-width=\"1\" opacity=\"1\"></line><line transform=\"translate(0,46)\" x2=\"200\" y2=\"0\" stroke=\"#ddd\" stroke-width=\"1\" opacity=\"1\"></line><line transform=\"translate(0,15)\" x2=\"200\" y2=\"0\" stroke=\"#ddd\" stroke-width=\"1\" opacity=\"1\"></line></g></g><path class=\"foreground\" aria-hidden=\"true\" d=\"\" pointer-events=\"none\" display=\"none\"></path></g></g><g class=\"mark-group role-axis\" role=\"graphics-symbol\" aria-roledescription=\"axis\" aria-label=\"X-axis titled 'hour' for a linear scale with values from 0 to 180\"><g transform=\"translate(0.5,200.5)\"><path class=\"background\" aria-hidden=\"true\" d=\"M0,0h0v0h0Z\" pointer-events=\"none\"></path><g><g class=\"mark-rule role-axis-tick\" pointer-events=\"none\"><line transform=\"translate(0,0)\" x2=\"0\" y2=\"5\" stroke=\"#888\" stroke-width=\"1\" opacity=\"1\"></line><line transform=\"translate(56,0)\" x2=\"0\" y2=\"5\" stroke=\"#888\" stroke-width=\"1\" opacity=\"1\"></line><line transform=\"translate(111,0)\" x2=\"0\" y2=\"5\" stroke=\"#888\" stroke-width=\"1\" opacity=\"1\"></line><line transform=\"translate(167,0)\" x2=\"0\" y2=\"5\" stroke=\"#888\" stroke-width=\"1\" opacity=\"1\"></line></g><g class=\"mark-text role-axis-label\" pointer-events=\"none\"><text text-anchor=\"start\" transform=\"translate(0,15)\" font-family=\"sans-serif\" font-size=\"10px\" fill=\"#000\" opacity=\"1\">0</text><text text-anchor=\"middle\" transform=\"translate(55.55555555555556,15)\" font-family=\"sans-serif\" font-size=\"10px\" fill=\"#000\" opacity=\"1\">50</text><text text-anchor=\"middle\" transform=\"translate(111.11111111111111,15)\" font-family=\"sans-serif\" font-size=\"10px\" fill=\"#000\" opacity=\"1\">100</text><text text-anchor=\"middle\" transform=\"translate(166.66666666666669,15)\" font-family=\"sans-serif\" font-size=\"10px\" fill=\"#000\" opacity=\"1\">150</text></g><g class=\"mark-rule role-axis-domain\" pointer-events=\"none\"><line transform=\"translate(0,0)\" x2=\"200\" y2=\"0\" stroke=\"#888\" stroke-width=\"1\" opacity=\"1\"></line></g><g class=\"mark-text role-axis-title\" pointer-events=\"none\"><text text-anchor=\"middle\" transform=\"translate(100,30)\" font-family=\"sans-serif\" font-size=\"11px\" font-weight=\"bold\" fill=\"#000\" opacity=\"1\">hour</text></g></g><path class=\"foreground\" aria-hidden=\"true\" d=\"\" pointer-events=\"none\" display=\"none\"></path></g></g><g class=\"mark-group role-axis\" role=\"graphics-symbol\" aria-roledescription=\"axis\" aria-label=\"Y-axis titled 'gen_sum' for a linear scale with values from 0 to 1,300\"><g transform=\"translate(0.5,0.5)\"><path class=\"background\" aria-hidden=\"true\" d=\"M0,0h0v0h0Z\" pointer-events=\"none\"></path><g><g class=\"mark-rule role-axis-tick\" pointer-events=\"none\"><line transform=\"translate(0,200)\" x2=\"-5\" y2=\"0\" stroke=\"#888\" stroke-width=\"1\" opacity=\"1\"></line><line transform=\"translate(0,169)\" x2=\"-5\" y2=\"0\" stroke=\"#888\" stroke-width=\"1\" opacity=\"1\"></line><line transform=\"translate(0,138)\" x2=\"-5\" y2=\"0\" stroke=\"#888\" stroke-width=\"1\" opacity=\"1\"></line><line transform=\"translate(0,108)\" x2=\"-5\" y2=\"0\" stroke=\"#888\" stroke-width=\"1\" opacity=\"1\"></line><line transform=\"translate(0,77)\" x2=\"-5\" y2=\"0\" stroke=\"#888\" stroke-width=\"1\" opacity=\"1\"></line><line transform=\"translate(0,46)\" x2=\"-5\" y2=\"0\" stroke=\"#888\" stroke-width=\"1\" opacity=\"1\"></line><line transform=\"translate(0,15)\" x2=\"-5\" y2=\"0\" stroke=\"#888\" stroke-width=\"1\" opacity=\"1\"></line></g><g class=\"mark-text role-axis-label\" pointer-events=\"none\"><text text-anchor=\"end\" transform=\"translate(-7,203)\" font-family=\"sans-serif\" font-size=\"10px\" fill=\"#000\" opacity=\"1\">0</text><text text-anchor=\"end\" transform=\"translate(-7,172.23076923076923)\" font-family=\"sans-serif\" font-size=\"10px\" fill=\"#000\" opacity=\"1\">200</text><text text-anchor=\"end\" transform=\"translate(-7,141.46153846153845)\" font-family=\"sans-serif\" font-size=\"10px\" fill=\"#000\" opacity=\"1\">400</text><text text-anchor=\"end\" transform=\"translate(-7,110.6923076923077)\" font-family=\"sans-serif\" font-size=\"10px\" fill=\"#000\" opacity=\"1\">600</text><text text-anchor=\"end\" transform=\"translate(-7,79.92307692307692)\" font-family=\"sans-serif\" font-size=\"10px\" fill=\"#000\" opacity=\"1\">800</text><text text-anchor=\"end\" transform=\"translate(-7,49.153846153846146)\" font-family=\"sans-serif\" font-size=\"10px\" fill=\"#000\" opacity=\"1\">1,000</text><text text-anchor=\"end\" transform=\"translate(-7,18.384615384615373)\" font-family=\"sans-serif\" font-size=\"10px\" fill=\"#000\" opacity=\"1\">1,200</text></g><g class=\"mark-rule role-axis-domain\" pointer-events=\"none\"><line transform=\"translate(0,200)\" x2=\"0\" y2=\"-200\" stroke=\"#888\" stroke-width=\"1\" opacity=\"1\"></line></g><g class=\"mark-text role-axis-title\" pointer-events=\"none\"><text text-anchor=\"middle\" transform=\"translate(-38,100) rotate(-90) translate(0,-2)\" font-family=\"sans-serif\" font-size=\"11px\" font-weight=\"bold\" fill=\"#000\" opacity=\"1\">gen_sum</text></g></g><path class=\"foreground\" aria-hidden=\"true\" d=\"\" pointer-events=\"none\" display=\"none\"></path></g></g><g class=\"mark-group role-scope pathgroup\" role=\"graphics-object\" aria-roledescription=\"group mark container\"><g transform=\"translate(0,0)\"><path class=\"background\" aria-hidden=\"true\" d=\"M0,0h200v200h-200Z\"></path><g><g class=\"mark-line role-mark marks\" role=\"graphics-object\" aria-roledescription=\"line mark container\"><path aria-label=\"hour: 1; gen_sum: 0; resource: BM\" role=\"graphics-symbol\" aria-roledescription=\"line mark\" d=\"M1.1111111111111112,200L2.2222222222222223,200L3.3333333333333335,200L4.444444444444445,200L5.555555555555555,200L6.666666666666667,200L7.777777777777778,200L8.88888888888889,200L10,200L11.11111111111111,200L12.222222222222221,200L13.333333333333334,200L14.444444444444443,200L15.555555555555555,200L16.666666666666664,200L17.77777777777778,200L18.88888888888889,200L20,200L21.11111111111111,200L22.22222222222222,200L23.333333333333332,200L24.444444444444443,200L25.555555555555554,200L26.666666666666668,200L27.77777777777778,200L28.888888888888886,200L30,200L31.11111111111111,200L32.22222222222222,200L33.33333333333333,200L34.44444444444444,200L35.55555555555556,200L36.666666666666664,200L37.77777777777778,200L38.88888888888889,200L40,200L41.11111111111111,200L42.22222222222222,200L43.333333333333336,200L44.44444444444444,200L45.55555555555556,200L46.666666666666664,200L47.77777777777778,200L48.888888888888886,200L50,200L51.11111111111111,200L52.22222222222223,200L53.333333333333336,200L54.44444444444444,200L55.55555555555556,200L56.666666666666664,200L57.77777777777777,200L58.88888888888889,200L60,200L61.111111111111114,200L62.22222222222222,200L63.33333333333333,200L64.44444444444444,200L65.55555555555556,200L66.66666666666666,200L67.77777777777779,200L68.88888888888889,200L70,200L71.11111111111111,200L72.22222222222221,200L73.33333333333333,200L74.44444444444444,200L75.55555555555556,200L76.66666666666667,200L77.77777777777779,200L78.88888888888889,200L80,200L81.11111111111111,200L82.22222222222221,200L83.33333333333334,200L84.44444444444444,200L85.55555555555556,200L86.66666666666667,200L87.77777777777777,200L88.88888888888889,200L90,200L91.11111111111111,200L92.22222222222223,200L93.33333333333333,200L94.44444444444444,200L95.55555555555556,200L96.66666666666667,200L97.77777777777777,200L98.88888888888889,200L100,200L101.11111111111111,200L102.22222222222221,200L103.33333333333334,200L104.44444444444446,200L105.55555555555556,200L106.66666666666667,200L107.77777777777777,200L108.88888888888889,200L110.00000000000001,200L111.11111111111111,200L112.22222222222223,200L113.33333333333333,200L114.44444444444444,200L115.55555555555554,200L116.66666666666667,200L117.77777777777779,200L118.88888888888889,200L120,200L121.1111111111111,200L122.22222222222223,200L123.33333333333334,200L124.44444444444444,200L125.55555555555556,200L126.66666666666666,200L127.77777777777777,200L128.88888888888889,200L130,200L131.11111111111111,200L132.22222222222223,200L133.33333333333331,200L134.44444444444446,200L135.55555555555557,200L136.66666666666666,200L137.77777777777777,200L138.88888888888889,200L140,200L141.11111111111111,200L142.22222222222223,200L143.33333333333334,200L144.44444444444443,200L145.55555555555554,200L146.66666666666666,200L147.77777777777777,200L148.88888888888889,200L150,200L151.11111111111111,200L152.22222222222223,200L153.33333333333334,200L154.44444444444446,200L155.55555555555557,200L156.66666666666666,200L157.77777777777777,200L158.88888888888889,200L160,200L161.11111111111111,200L162.22222222222223,200L163.33333333333334,200L164.44444444444443,200L165.55555555555554,200L166.66666666666669,200L167.77777777777777,200L168.88888888888889,200L170,200L171.11111111111111,200L172.22222222222223,200L173.33333333333334,200L174.44444444444446,200L175.55555555555554,200L176.66666666666666,200L177.77777777777777,200L178.88888888888889,200L180,200L181.11111111111111,200L182.22222222222223,200L183.33333333333331,200L184.44444444444446,200L185.55555555555557,200L186.66666666666666,200\" stroke=\"#1f77b4\" stroke-width=\"2\"></path></g></g><path class=\"foreground\" aria-hidden=\"true\" d=\"\" display=\"none\"></path></g><g transform=\"translate(0,0)\"><path class=\"background\" aria-hidden=\"true\" d=\"M0,0h200v200h-200Z\"></path><g><g class=\"mark-line role-mark marks\" role=\"graphics-object\" aria-roledescription=\"line mark container\"><path aria-label=\"hour: 1; gen_sum: 819.6764; resource: CC\" role=\"graphics-symbol\" aria-roledescription=\"line mark\" d=\"M1.1111111111111112,73.89593846153848L2.2222222222222223,80.67901538461535L3.3333333333333335,84.49893846153851L4.444444444444445,85.63339999999997L5.555555555555555,84.05770769230772L6.666666666666667,80.21763076923074L7.777777777777778,97.76100000000001L8.88888888888889,87.93069230769235L10,74.11761538461545L11.11111111111111,67.90807692307688L12.222222222222221,62.506615384615394L13.333333333333334,61.66192307692302L14.444444444444443,61.80623076923071L15.555555555555555,60.64207692307686L16.666666666666664,60.98507692307689L17.77777777777778,63.02884615384612L18.88888888888889,66.17700000000002L20,64.39600000000002L21.11111111111111,70.59484615384619L22.22222222222222,71.79907692307694L23.333333333333332,79.31023076923074L24.444444444444443,69.73032307692306L25.555555555555554,80.01201538461538L26.666666666666668,88.81670769230767L27.77777777777778,101.39809230769234L28.888888888888886,104.8430923076923L30,105.36786153846154L31.11111111111111,105.88978461538463L32.22222222222222,110.70163076923075L33.33333333333333,106.26016923076922L34.44444444444444,118.47692307692309L35.55555555555556,103.46923076923082L36.666666666666664,94.52015384615389L37.77777777777778,84.12961538461532L38.88888888888889,77.4426923076923L40,76.8477692307693L41.11111111111111,75.20776923076926L42.22222222222222,76.91399999999999L43.333333333333336,77.98115384615392L44.44444444444444,84.24784615384615L45.55555555555556,84.48192307692311L46.666666666666664,78.05146153846154L47.77777777777778,74.4881538461539L48.888888888888886,72.93530769230769L50,70.95930769230773L51.11111111111111,46.43816923076922L52.22222222222223,57.65547692307691L53.333333333333336,69.93470769230767L54.44444444444444,77.79393846153846L55.55555555555556,78.31393846153847L56.666666666666664,80.07309230769233L57.77777777777777,80.23301538461534L58.88888888888889,78.5500153846154L60,70.75324615384618L61.111111111111114,75.84353846153837L62.22222222222222,59.091923076923145L63.33333333333333,50.512384615384654L64.44444444444444,47.30315384615391L65.55555555555556,44.60338461538467L66.66666666666666,45.032999999999944L67.77777777777779,47.55169230769234L68.88888888888889,47.744615384615365L70,51.16461538461537L71.11111111111111,57.60353846153847L72.22222222222221,57.944615384615396L73.33333333333333,55.44661538461539L74.44444444444444,54.94415384615381L75.55555555555556,54.0092307692307L76.66666666666667,52.85407692307695L77.77777777777779,30.239707692307682L78.88888888888889,43.11324615384618L80,60.0354L81.11111111111111,73.03409230769229L82.22222222222221,81.46393846153848L83.33333333333334,86.20470769230772L84.44444444444444,86.00793846153847L85.55555555555556,80.76916923076922L86.66666666666667,66.90493846153845L87.77777777777777,70.07399999999994L88.88888888888889,51.05376923076928L90,45.5099230769231L91.11111111111111,47.207076923077L92.22222222222223,44.41569230769225L93.33333333333333,42.398461538461454L94.44444444444444,40.37815384615393L95.55555555555556,38.83023076923073L96.66666666666667,41.24453846153857L97.77777777777777,45.17107692307689L98.88888888888889,45.482153846153835L100,45.114923076923084L101.11111111111111,46.64392307692302L102.22222222222221,49.8989230769231L103.33333333333334,45.62015384615379L104.44444444444446,25.30563076923076L105.55555555555556,44.786015384615396L106.66666666666667,66.50609230769227L107.77777777777777,77.22993846153845L108.88888888888889,81.8466307692308L110.00000000000001,84.00863076923078L111.11111111111111,85.57140000000001L112.22222222222223,81.88232307692307L113.33333333333333,74.19647692307691L114.44444444444444,76.37330769230768L115.55555555555554,55.794384615384615L116.66666666666667,43.40338461538469L117.77777777777779,39.98923076923078L118.88888888888889,39.58961538461545L120,36.768999999999984L121.1111111111111,36.49376923076926L122.22222222222223,32.11900000000003L123.33333333333334,37.24315384615395L124.44444444444444,43.65946153846163L125.55555555555556,45.047769230769276L126.66666666666666,48.31938461538472L127.77777777777777,49.632461538461456L128.88888888888889,49.506384615384725L130,52.46769230769228L131.11111111111111,41.08255384615382L132.22222222222223,51.58278461538464L133.33333333333331,67.70755384615381L134.44444444444446,76.50355384615384L135.55555555555557,79.88186153846151L136.66666666666666,81.48524615384616L137.77777777777777,79.80201538461542L138.88888888888889,76.19116923076925L140,67.22763076923077L141.11111111111111,69.6151538461538L142.22222222222223,49.53299999999998L143.33333333333334,42.44661538461545L144.44444444444443,43.288692307692344L145.55555555555554,42.637692307692454L146.66666666666666,41.51646153846149L147.77777777777777,41.20700000000006L148.88888888888889,36.06376923076915L150,35.18784615384618L151.11111111111111,33.730538461538416L152.22222222222223,36.34400000000009L153.33333333333334,34.21992307692301L154.44444444444446,33.03246153846153L155.55555555555557,32.442615384615415L156.66666666666666,33.897769230769256L157.77777777777777,13.72247692307691L158.88888888888889,26.298553846153826L160,45.10863076923079L161.11111111111111,65.03216923076923L162.22222222222223,80.40793846153844L163.33333333333334,85.37639999999999L164.44444444444443,89.06624615384618L165.55555555555554,95.32293846153843L166.66666666666669,91.94086153846155L167.77777777777777,98.75469230769231L168.88888888888889,78.61823076923078L170,68.3816923076923L171.11111111111111,60.19684615384611L172.22222222222223,49.72592307692312L173.33333333333334,44.85538461538467L174.44444444444446,41.580538461538396L175.55555555555554,35.209307692307654L176.66666666666666,33.090461538461604L177.77777777777777,33.84446153846168L178.88888888888889,33.268461538461544L180,37.99553846153847L181.11111111111111,43.47123076923074L182.22222222222223,45.43853846153851L183.33333333333331,50.97076923076918L184.44444444444446,31.57609230769227L185.55555555555557,47.16086153846148L186.66666666666666,60.50555384615386\" stroke=\"#aec7e8\" stroke-width=\"2\"></path></g></g><path class=\"foreground\" aria-hidden=\"true\" d=\"\" display=\"none\"></path></g><g transform=\"translate(0,0)\"><path class=\"background\" aria-hidden=\"true\" d=\"M0,0h200v200h-200Z\"></path><g><g class=\"mark-line role-mark marks\" role=\"graphics-object\" aria-roledescription=\"line mark container\"><path aria-label=\"hour: 1; gen_sum: 281.7936; resource: HY\" role=\"graphics-symbol\" aria-roledescription=\"line mark\" d=\"M1.1111111111111112,156.64713846153845L2.2222222222222223,156.64713846153845L3.3333333333333335,156.64713846153845L4.444444444444445,156.64713846153845L5.555555555555555,156.64713846153845L6.666666666666667,156.64713846153845L7.777777777777778,134.31384615384613L8.88888888888889,134.31384615384613L10,134.31384615384613L11.11111111111111,134.31384615384613L12.222222222222221,134.31384615384613L13.333333333333334,134.31384615384613L14.444444444444443,134.31384615384613L15.555555555555555,134.31384615384613L16.666666666666664,134.31384615384613L17.77777777777778,134.31384615384613L18.88888888888889,134.31384615384613L20,134.31384615384613L21.11111111111111,134.31384615384613L22.22222222222222,134.31384615384613L23.333333333333332,134.31384615384613L24.444444444444443,156.64713846153845L25.555555555555554,156.64713846153845L26.666666666666668,156.64713846153845L27.77777777777778,156.64713846153845L28.888888888888886,156.64713846153845L30,156.64713846153845L31.11111111111111,156.64713846153845L32.22222222222222,156.64713846153845L33.33333333333333,156.64713846153845L34.44444444444444,134.31384615384613L35.55555555555556,134.31384615384613L36.666666666666664,134.31384615384613L37.77777777777778,134.31384615384613L38.88888888888889,134.31384615384613L40,134.31384615384613L41.11111111111111,134.31384615384613L42.22222222222222,134.31384615384613L43.333333333333336,134.31384615384613L44.44444444444444,134.31384615384613L45.55555555555556,134.31384615384613L46.666666666666664,134.31384615384613L47.77777777777778,134.31384615384613L48.888888888888886,134.31384615384613L50,134.31384615384613L51.11111111111111,156.64713846153845L52.22222222222223,156.64713846153845L53.333333333333336,156.64713846153845L54.44444444444444,156.64713846153845L55.55555555555556,156.64713846153845L56.666666666666664,156.64713846153845L57.77777777777777,156.64713846153845L58.88888888888889,156.64713846153845L60,156.64713846153845L61.111111111111114,134.31384615384613L62.22222222222222,134.31384615384613L63.33333333333333,134.31384615384613L64.44444444444444,134.31384615384613L65.55555555555556,134.31384615384613L66.66666666666666,134.31384615384613L67.77777777777779,134.31384615384613L68.88888888888889,134.31384615384613L70,134.31384615384613L71.11111111111111,134.31384615384613L72.22222222222221,134.31384615384613L73.33333333333333,134.31384615384613L74.44444444444444,134.31384615384613L75.55555555555556,134.31384615384613L76.66666666666667,134.31384615384613L77.77777777777779,156.64713846153845L78.88888888888889,156.64713846153845L80,156.64713846153845L81.11111111111111,156.64713846153845L82.22222222222221,156.64713846153845L83.33333333333334,156.64713846153845L84.44444444444444,156.64713846153845L85.55555555555556,156.64713846153845L86.66666666666667,156.64713846153845L87.77777777777777,134.31384615384613L88.88888888888889,134.31384615384613L90,134.31384615384613L91.11111111111111,134.31384615384613L92.22222222222223,134.31384615384613L93.33333333333333,134.31384615384613L94.44444444444444,134.31384615384613L95.55555555555556,134.31384615384613L96.66666666666667,134.31384615384613L97.77777777777777,134.31384615384613L98.88888888888889,134.31384615384613L100,134.31384615384613L101.11111111111111,134.31384615384613L102.22222222222221,134.31384615384613L103.33333333333334,134.31384615384613L104.44444444444446,156.64713846153845L105.55555555555556,156.64713846153845L106.66666666666667,156.64713846153845L107.77777777777777,156.64713846153845L108.88888888888889,156.64713846153845L110.00000000000001,156.64713846153845L111.11111111111111,156.64713846153845L112.22222222222223,156.64713846153845L113.33333333333333,156.64713846153845L114.44444444444444,134.31384615384613L115.55555555555554,134.31384615384613L116.66666666666667,134.31384615384613L117.77777777777779,134.31384615384613L118.88888888888889,134.31384615384613L120,134.31384615384613L121.1111111111111,134.31384615384613L122.22222222222223,134.31384615384613L123.33333333333334,134.31384615384613L124.44444444444444,134.31384615384613L125.55555555555556,134.31384615384613L126.66666666666666,134.31384615384613L127.77777777777777,134.31384615384613L128.88888888888889,134.31384615384613L130,134.31384615384613L131.11111111111111,156.64713846153845L132.22222222222223,156.64713846153845L133.33333333333331,156.64713846153845L134.44444444444446,156.64713846153845L135.55555555555557,156.64713846153845L136.66666666666666,156.64713846153845L137.77777777777777,156.64713846153845L138.88888888888889,156.64713846153845L140,156.64713846153845L141.11111111111111,134.31384615384613L142.22222222222223,134.31384615384613L143.33333333333334,134.31384615384613L144.44444444444443,134.31384615384613L145.55555555555554,134.31384615384613L146.66666666666666,134.31384615384613L147.77777777777777,134.31384615384613L148.88888888888889,134.31384615384613L150,134.31384615384613L151.11111111111111,134.31384615384613L152.22222222222223,134.31384615384613L153.33333333333334,134.31384615384613L154.44444444444446,134.31384615384613L155.55555555555557,134.31384615384613L156.66666666666666,134.31384615384613L157.77777777777777,156.64713846153845L158.88888888888889,156.64713846153845L160,156.64713846153845L161.11111111111111,156.64713846153845L162.22222222222223,156.64713846153845L163.33333333333334,156.64713846153845L164.44444444444443,156.64713846153845L165.55555555555554,156.64713846153845L166.66666666666669,156.64713846153845L167.77777777777777,134.31384615384613L168.88888888888889,134.31384615384613L170,134.31384615384613L171.11111111111111,134.31384615384613L172.22222222222223,134.31384615384613L173.33333333333334,134.31384615384613L174.44444444444446,134.31384615384613L175.55555555555554,134.31384615384613L176.66666666666666,134.31384615384613L177.77777777777777,134.31384615384613L178.88888888888889,134.31384615384613L180,134.31384615384613L181.11111111111111,134.31384615384613L182.22222222222223,134.31384615384613L183.33333333333331,134.31384615384613L184.44444444444446,156.64713846153845L185.55555555555557,156.64713846153845L186.66666666666666,156.64713846153845\" stroke=\"#ff7f0e\" stroke-width=\"2\"></path></g></g><path class=\"foreground\" aria-hidden=\"true\" d=\"\" display=\"none\"></path></g><g transform=\"translate(0,0)\"><path class=\"background\" aria-hidden=\"true\" d=\"M0,0h200v200h-200Z\"></path><g><g class=\"mark-line role-mark marks\" role=\"graphics-object\" aria-roledescription=\"line mark container\"><path aria-label=\"hour: 1; gen_sum: 240; resource: PS\" role=\"graphics-symbol\" aria-roledescription=\"line mark\" d=\"M1.1111111111111112,163.07692307692307L2.2222222222222223,163.07692307692307L3.3333333333333335,163.07692307692307L4.444444444444445,163.07692307692307L5.555555555555555,163.07692307692307L6.666666666666667,163.07692307692307L7.777777777777778,163.07692307692307L8.88888888888889,163.07692307692307L10,163.07692307692307L11.11111111111111,163.07692307692307L12.222222222222221,163.07692307692307L13.333333333333334,163.07692307692307L14.444444444444443,163.07692307692307L15.555555555555555,163.07692307692307L16.666666666666664,163.07692307692307L17.77777777777778,163.07692307692307L18.88888888888889,163.07692307692307L20,163.07692307692307L21.11111111111111,163.07692307692307L22.22222222222222,163.07692307692307L23.333333333333332,163.07692307692307L24.444444444444443,163.07692307692307L25.555555555555554,163.07692307692307L26.666666666666668,163.07692307692307L27.77777777777778,163.07692307692307L28.888888888888886,163.07692307692307L30,163.07692307692307L31.11111111111111,163.07692307692307L32.22222222222222,163.07692307692307L33.33333333333333,163.07692307692307L34.44444444444444,163.07692307692307L35.55555555555556,163.07692307692307L36.666666666666664,163.07692307692307L37.77777777777778,163.07692307692307L38.88888888888889,163.07692307692307L40,163.07692307692307L41.11111111111111,163.07692307692307L42.22222222222222,163.07692307692307L43.333333333333336,163.07692307692307L44.44444444444444,163.07692307692307L45.55555555555556,163.07692307692307L46.666666666666664,163.07692307692307L47.77777777777778,163.07692307692307L48.888888888888886,163.07692307692307L50,163.07692307692307L51.11111111111111,163.07692307692307L52.22222222222223,163.07692307692307L53.333333333333336,163.07692307692307L54.44444444444444,163.07692307692307L55.55555555555556,163.07692307692307L56.666666666666664,163.07692307692307L57.77777777777777,163.07692307692307L58.88888888888889,163.07692307692307L60,163.07692307692307L61.111111111111114,163.07692307692307L62.22222222222222,163.07692307692307L63.33333333333333,163.07692307692307L64.44444444444444,163.07692307692307L65.55555555555556,163.07692307692307L66.66666666666666,163.07692307692307L67.77777777777779,163.07692307692307L68.88888888888889,163.07692307692307L70,163.07692307692307L71.11111111111111,163.07692307692307L72.22222222222221,163.07692307692307L73.33333333333333,163.07692307692307L74.44444444444444,163.07692307692307L75.55555555555556,163.07692307692307L76.66666666666667,163.07692307692307L77.77777777777779,163.07692307692307L78.88888888888889,163.07692307692307L80,163.07692307692307L81.11111111111111,163.07692307692307L82.22222222222221,163.07692307692307L83.33333333333334,163.07692307692307L84.44444444444444,163.07692307692307L85.55555555555556,163.07692307692307L86.66666666666667,163.07692307692307L87.77777777777777,163.07692307692307L88.88888888888889,163.07692307692307L90,163.07692307692307L91.11111111111111,163.07692307692307L92.22222222222223,163.07692307692307L93.33333333333333,163.07692307692307L94.44444444444444,163.07692307692307L95.55555555555556,163.07692307692307L96.66666666666667,163.07692307692307L97.77777777777777,163.07692307692307L98.88888888888889,163.07692307692307L100,163.07692307692307L101.11111111111111,163.07692307692307L102.22222222222221,163.07692307692307L103.33333333333334,163.07692307692307L104.44444444444446,163.07692307692307L105.55555555555556,163.07692307692307L106.66666666666667,163.07692307692307L107.77777777777777,163.07692307692307L108.88888888888889,163.07692307692307L110.00000000000001,163.07692307692307L111.11111111111111,163.07692307692307L112.22222222222223,163.07692307692307L113.33333333333333,163.07692307692307L114.44444444444444,163.07692307692307L115.55555555555554,163.07692307692307L116.66666666666667,163.07692307692307L117.77777777777779,163.07692307692307L118.88888888888889,163.07692307692307L120,163.07692307692307L121.1111111111111,163.07692307692307L122.22222222222223,163.07692307692307L123.33333333333334,163.07692307692307L124.44444444444444,163.07692307692307L125.55555555555556,163.07692307692307L126.66666666666666,163.07692307692307L127.77777777777777,163.07692307692307L128.88888888888889,163.07692307692307L130,163.07692307692307L131.11111111111111,163.07692307692307L132.22222222222223,163.07692307692307L133.33333333333331,163.07692307692307L134.44444444444446,163.07692307692307L135.55555555555557,163.07692307692307L136.66666666666666,163.07692307692307L137.77777777777777,163.07692307692307L138.88888888888889,163.07692307692307L140,163.07692307692307L141.11111111111111,163.07692307692307L142.22222222222223,163.07692307692307L143.33333333333334,163.07692307692307L144.44444444444443,163.07692307692307L145.55555555555554,163.07692307692307L146.66666666666666,163.07692307692307L147.77777777777777,163.07692307692307L148.88888888888889,163.07692307692307L150,163.07692307692307L151.11111111111111,163.07692307692307L152.22222222222223,163.07692307692307L153.33333333333334,163.07692307692307L154.44444444444446,163.07692307692307L155.55555555555557,163.07692307692307L156.66666666666666,163.07692307692307L157.77777777777777,163.07692307692307L158.88888888888889,163.07692307692307L160,163.07692307692307L161.11111111111111,163.07692307692307L162.22222222222223,163.07692307692307L163.33333333333334,163.07692307692307L164.44444444444443,163.07692307692307L165.55555555555554,163.07692307692307L166.66666666666669,163.07692307692307L167.77777777777777,163.07692307692307L168.88888888888889,163.07692307692307L170,163.07692307692307L171.11111111111111,163.07692307692307L172.22222222222223,163.07692307692307L173.33333333333334,163.07692307692307L174.44444444444446,163.07692307692307L175.55555555555554,163.07692307692307L176.66666666666666,163.07692307692307L177.77777777777777,163.07692307692307L178.88888888888889,163.07692307692307L180,163.07692307692307L181.11111111111111,163.07692307692307L182.22222222222223,163.07692307692307L183.33333333333331,163.07692307692307L184.44444444444446,163.07692307692307L185.55555555555557,163.07692307692307L186.66666666666666,163.07692307692307\" stroke=\"#ffbb78\" stroke-width=\"2\"></path></g></g><path class=\"foreground\" aria-hidden=\"true\" d=\"\" display=\"none\"></path></g><g transform=\"translate(0,0)\"><path class=\"background\" aria-hidden=\"true\" d=\"M0,0h200v200h-200Z\"></path><g><g class=\"mark-line role-mark marks\" role=\"graphics-object\" aria-roledescription=\"line mark container\"><path aria-label=\"hour: 1; gen_sum: 0; resource: PV\" role=\"graphics-symbol\" aria-roledescription=\"line mark\" d=\"M1.1111111111111112,200L2.2222222222222223,200L3.3333333333333335,200L4.444444444444445,200L5.555555555555555,200L6.666666666666667,200L7.777777777777778,199.87615384615384L8.88888888888889,199.56476923076923L10,198.9349230769231L11.11111111111111,198.32984615384615L12.222222222222221,197.8450769230769L13.333333333333334,197.52661538461538L14.444444444444443,197.34261538461539L15.555555555555555,197.3107692307692L16.666666666666664,197.4806153846154L17.77777777777778,197.92292307692307L18.88888888888889,198.19892307692308L20,198.77215384615386L21.11111111111111,199.23923076923077L22.22222222222222,199.76646153846153L23.333333333333332,199.9646153846154L24.444444444444443,200L25.555555555555554,200L26.666666666666668,200L27.77777777777778,200L28.888888888888886,200L30,200L31.11111111111111,200L32.22222222222222,200L33.33333333333333,200L34.44444444444444,199.92569230769232L35.55555555555556,199.678L36.666666666666664,199.23923076923077L37.77777777777778,198.90307692307692L38.88888888888889,198.62L40,198.34046153846154L41.11111111111111,198.22015384615383L42.22222222222222,198.06092307692307L43.333333333333336,197.97953846153845L44.44444444444444,198.3333846153846L45.55555555555556,198.81461538461537L46.666666666666664,199.1472307692308L47.77777777777778,199.40907692307692L48.888888888888886,199.73815384615386L50,199.9716923076923L51.11111111111111,200L52.22222222222223,200L53.333333333333336,200L54.44444444444444,200L55.55555555555556,200L56.666666666666664,200L57.77777777777777,200L58.88888888888889,200L60,200L61.111111111111114,199.92923076923077L62.22222222222222,199.6496923076923L63.33333333333333,199.23569230769232L64.44444444444444,198.8853846153846L65.55555555555556,198.44307692307692L66.66666666666666,197.95476923076922L67.77777777777779,197.65753846153845L68.88888888888889,197.6646153846154L70,197.6292307692308L71.11111111111111,197.94415384615385L72.22222222222221,198.3723076923077L73.33333333333333,198.7933846153846L74.44444444444444,199.29584615384616L75.55555555555556,199.7416923076923L76.66666666666667,199.9716923076923L77.77777777777779,200L78.88888888888889,200L80,200L81.11111111111111,200L82.22222222222221,200L83.33333333333334,200L84.44444444444444,200L85.55555555555556,200L86.66666666666667,200L87.77777777777777,199.8903076923077L88.88888888888889,199.61076923076922L90,199.264L91.11111111111111,198.8853846153846L92.22222222222223,198.56338461538462L93.33333333333333,198.24138461538462L94.44444444444444,198.03261538461538L95.55555555555556,198.02553846153845L96.66666666666667,198.22015384615383L97.77777777777777,198.4996923076923L98.88888888888889,198.804L100,199.04815384615384L101.11111111111111,199.45153846153846L102.22222222222221,199.76292307692307L103.33333333333334,199.97523076923076L104.44444444444446,200L105.55555555555556,200L106.66666666666667,200L107.77777777777777,200L108.88888888888889,200L110.00000000000001,200L111.11111111111111,200L112.22222222222223,200L113.33333333333333,200L114.44444444444444,199.87969230769232L115.55555555555554,199.57538461538462L116.66666666666667,199.11892307692307L117.77777777777779,198.6730769230769L118.88888888888889,198.31923076923076L120,198.07507692307692L121.1111111111111,197.87338461538462L122.22222222222223,197.82384615384615L123.33333333333334,197.91584615384616L124.44444444444444,198.15292307692306L125.55555555555556,198.44307692307692L126.66666666666666,198.86415384615384L127.77777777777777,199.34538461538463L128.88888888888889,199.74876923076923L130,199.97523076923076L131.11111111111111,200L132.22222222222223,200L133.33333333333331,200L134.44444444444446,200L135.55555555555557,200L136.66666666666666,200L137.77777777777777,200L138.88888888888889,200L140,200L141.11111111111111,199.8726153846154L142.22222222222223,199.55415384615384L143.33333333333334,199.08707692307692L144.44444444444443,198.64123076923076L145.55555555555554,198.44307692307692L146.66666666666666,198.60230769230768L147.77777777777777,198.96323076923076L148.88888888888889,199.126L150,199.16846153846151L151.11111111111111,199.21092307692308L152.22222222222223,199.30646153846155L153.33333333333334,199.448L154.44444444444446,199.61076923076922L155.55555555555557,199.816L156.66666666666666,199.9823076923077L157.77777777777777,200L158.88888888888889,200L160,200L161.11111111111111,200L162.22222222222223,200L163.33333333333334,200L164.44444444444443,200L165.55555555555554,200L166.66666666666669,200L167.77777777777777,199.96107692307692L168.88888888888889,199.8443076923077L170,199.6426153846154L171.11111111111111,199.2993846153846L172.22222222222223,198.8676923076923L173.33333333333334,198.42538461538462L174.44444444444446,198.07153846153847L175.55555555555554,197.838L176.66666666666666,197.77430769230767L177.77777777777777,197.91584615384616L178.88888888888889,198.2343076923077L180,198.712L181.11111111111111,199.23215384615384L182.22222222222223,199.72753846153844L183.33333333333331,199.97523076923076L184.44444444444446,200L185.55555555555557,200L186.66666666666666,200\" stroke=\"#2ca02c\" stroke-width=\"2\"></path></g></g><path class=\"foreground\" aria-hidden=\"true\" d=\"\" display=\"none\"></path></g><g transform=\"translate(0,0)\"><path class=\"background\" aria-hidden=\"true\" d=\"M0,0h200v200h-200Z\"></path><g><g class=\"mark-line role-mark marks\" role=\"graphics-object\" aria-roledescription=\"line mark container\"><path aria-label=\"hour: 1; gen_sum: 27.63; resource: WT\" role=\"graphics-symbol\" aria-roledescription=\"line mark\" d=\"M1.1111111111111112,195.74923076923076L2.2222222222222223,197.16615384615386L3.3333333333333335,198.65392307692306L4.444444444444445,199.50407692307692L5.555555555555555,199.78746153846154L6.666666666666667,199.8583076923077L7.777777777777778,199.78746153846154L8.88888888888889,199.92915384615384L10,199.78746153846154L11.11111111111111,199.079L12.222222222222221,199.14984615384614L13.333333333333334,199.2206923076923L14.444444444444443,198.93730769230768L15.555555555555555,198.08715384615385L16.666666666666664,196.1743076923077L17.77777777777778,193.4113076923077L18.88888888888889,191.00253846153845L20,189.65646153846154L21.11111111111111,188.45207692307693L22.22222222222222,186.39753846153846L23.333333333333332,179.24207692307692L24.444444444444443,166.91484615384616L25.555555555555554,165.35623076923076L26.666666666666668,169.53615384615387L27.77777777777778,169.67784615384616L28.888888888888886,170.74053846153848L30,172.01576923076922L31.11111111111111,173.07846153846154L32.22222222222222,167.83584615384615L33.33333333333333,172.01576923076922L34.44444444444444,183.422L35.55555555555556,191.92353846153847L36.666666666666664,192.06523076923077L37.77777777777778,192.56115384615384L38.88888888888889,193.26961538461538L40,193.83638461538462L41.11111111111111,194.11976923076924L42.22222222222222,194.7573846153846L43.333333333333336,193.69469230769232L44.44444444444444,191.78184615384615L45.55555555555556,190.43576923076924L46.666666666666664,192.70284615384617L47.77777777777778,195.46584615384614L48.888888888888886,197.52038461538461L50,198.37053846153847L51.11111111111111,197.94546153846153L52.22222222222223,196.1743076923077L53.333333333333336,194.04892307692307L54.44444444444444,196.1743076923077L55.55555555555556,199.00815384615385L56.666666666666664,199.78746153846154L57.77777777777777,199.8583076923077L58.88888888888889,199.78746153846154L60,199.64576923076922L61.111111111111114,199.57492307692308L62.22222222222222,199.92915384615384L63.33333333333333,199.64576923076922L64.44444444444444,199.2206923076923L65.55555555555556,199.71661538461538L66.66666666666666,199.92915384615384L67.77777777777779,200L68.88888888888889,200L70,200L71.11111111111111,200L72.22222222222221,200L73.33333333333333,200L74.44444444444444,200L75.55555555555556,199.8583076923077L76.66666666666667,198.93730769230768L77.77777777777779,196.52853846153846L78.88888888888889,193.9780769230769L80,191.9943846153846L81.11111111111111,190.36492307692308L82.22222222222221,188.38123076923077L83.33333333333334,186.25584615384616L84.44444444444444,186.11415384615384L85.55555555555556,187.81446153846153L86.66666666666667,190.29407692307691L87.77777777777777,193.19876923076924L88.88888888888889,197.237L90,198.51223076923077L91.11111111111111,197.02446153846154L92.22222222222223,196.59938461538462L93.33333333333333,197.30784615384616L94.44444444444444,198.58307692307693L95.55555555555556,199.64576923076922L96.66666666666667,199.92915384615384L97.77777777777777,200L98.88888888888889,200L100,200L101.11111111111111,199.92915384615384L102.22222222222221,199.71661538461538L103.33333333333334,198.58307692307693L104.44444444444446,195.32415384615385L105.55555555555556,192.13607692307693L106.66666666666667,189.23138461538463L107.77777777777777,188.52292307692306L108.88888888888889,190.15238461538462L110.00000000000001,191.14423076923077L111.11111111111111,191.4276153846154L112.22222222222223,191.28592307692307L113.33333333333333,191.00253846153845L114.44444444444444,193.69469230769232L115.55555555555554,196.67023076923078L116.66666666666667,195.04076923076923L117.77777777777779,193.62384615384616L118.88888888888889,193.26961538461538L120,193.4113076923077L121.1111111111111,193.4113076923077L122.22222222222223,193.12792307692308L123.33333333333334,192.41946153846155L124.44444444444444,191.4276153846154L125.55555555555556,190.0106923076923L126.66666666666666,189.65646153846154L127.77777777777777,189.23138461538463L128.88888888888889,188.87715384615385L130,180.30476923076924L131.11111111111111,174.0703076923077L132.22222222222223,178.10853846153847L133.33333333333331,179.38376923076925L134.44444444444446,180.23392307692308L135.55555555555557,183.20946153846154L136.66666666666666,185.7599230769231L137.77777777777777,188.73546153846155L138.88888888888889,190.22323076923078L140,190.6483076923077L141.11111111111111,192.84453846153846L142.22222222222223,196.24515384615384L143.33333333333334,195.8909230769231L144.44444444444443,193.69469230769232L145.55555555555554,190.79L146.66666666666666,189.79815384615384L147.77777777777777,190.57746153846153L148.88888888888889,192.41946153846155L150,194.89907692307693L151.11111111111111,197.237L152.22222222222223,198.86646153846155L153.33333333333334,199.78746153846154L154.44444444444446,199.8583076923077L155.55555555555557,199.8583076923077L156.66666666666666,199.92915384615384L157.77777777777777,199.64576923076922L158.88888888888889,199.00815384615385L160,198.22884615384615L161.11111111111111,192.13607692307693L162.22222222222223,186.11415384615384L163.33333333333334,186.82261538461537L164.44444444444443,186.25584615384616L165.55555555555554,179.38376923076925L166.66666666666669,174.212L167.77777777777777,172.72423076923076L168.88888888888889,176.40823076923078L170,180.44646153846153L171.11111111111111,185.05146153846152L172.22222222222223,188.87715384615385L173.33333333333334,190.79L174.44444444444446,191.711L175.55555555555554,193.26961538461538L176.66666666666666,194.1906153846154L177.77777777777777,194.04892307692307L178.88888888888889,193.19876923076924L180,191.64015384615385L181.11111111111111,189.79815384615384L182.22222222222223,188.73546153846155L183.33333333333331,184.55553846153848L184.44444444444446,181.4383076923077L185.55555555555557,184.13046153846153L186.66666666666666,186.89346153846154\" stroke=\"#98df8a\" stroke-width=\"2\"></path></g></g><path class=\"foreground\" aria-hidden=\"true\" d=\"\" display=\"none\"></path></g></g><g class=\"mark-group role-legend\" role=\"graphics-symbol\" aria-roledescription=\"legend\" aria-label=\"Symbol legend titled 'resource' for stroke color with 6 values: BM, CC, HY, PS, PV, WT\"><g transform=\"translate(218,0)\"><path class=\"background\" aria-hidden=\"true\" d=\"M0,0h46v92h-46Z\" pointer-events=\"none\"></path><g><g class=\"mark-group role-legend-entry\"><g transform=\"translate(0,16)\"><path class=\"background\" aria-hidden=\"true\" d=\"M0,0h0v0h0Z\" pointer-events=\"none\"></path><g><g class=\"mark-group role-scope\" role=\"graphics-object\" aria-roledescription=\"group mark container\"><g transform=\"translate(0,0)\"><path class=\"background\" aria-hidden=\"true\" d=\"M0,0h31v11h-31Z\" pointer-events=\"none\" opacity=\"1\"></path><g><g class=\"mark-symbol role-legend-symbol\" pointer-events=\"none\"><path transform=\"translate(6,6)\" d=\"M-5,0L5,0\" stroke=\"#1f77b4\" stroke-width=\"1.5\" opacity=\"1\"></path></g><g class=\"mark-text role-legend-label\" pointer-events=\"none\"><text text-anchor=\"start\" transform=\"translate(16,9)\" font-family=\"sans-serif\" font-size=\"10px\" fill=\"#000\" opacity=\"1\">BM</text></g></g><path class=\"foreground\" aria-hidden=\"true\" d=\"\" pointer-events=\"none\" display=\"none\"></path></g><g transform=\"translate(0,13)\"><path class=\"background\" aria-hidden=\"true\" d=\"M0,0h31v11h-31Z\" pointer-events=\"none\" opacity=\"1\"></path><g><g class=\"mark-symbol role-legend-symbol\" pointer-events=\"none\"><path transform=\"translate(6,6)\" d=\"M-5,0L5,0\" stroke=\"#aec7e8\" stroke-width=\"1.5\" opacity=\"1\"></path></g><g class=\"mark-text role-legend-label\" pointer-events=\"none\"><text text-anchor=\"start\" transform=\"translate(16,9)\" font-family=\"sans-serif\" font-size=\"10px\" fill=\"#000\" opacity=\"1\">CC</text></g></g><path class=\"foreground\" aria-hidden=\"true\" d=\"\" pointer-events=\"none\" display=\"none\"></path></g><g transform=\"translate(0,26)\"><path class=\"background\" aria-hidden=\"true\" d=\"M0,0h31v11h-31Z\" pointer-events=\"none\" opacity=\"1\"></path><g><g class=\"mark-symbol role-legend-symbol\" pointer-events=\"none\"><path transform=\"translate(6,6)\" d=\"M-5,0L5,0\" stroke=\"#ff7f0e\" stroke-width=\"1.5\" opacity=\"1\"></path></g><g class=\"mark-text role-legend-label\" pointer-events=\"none\"><text text-anchor=\"start\" transform=\"translate(16,9)\" font-family=\"sans-serif\" font-size=\"10px\" fill=\"#000\" opacity=\"1\">HY</text></g></g><path class=\"foreground\" aria-hidden=\"true\" d=\"\" pointer-events=\"none\" display=\"none\"></path></g><g transform=\"translate(0,39)\"><path class=\"background\" aria-hidden=\"true\" d=\"M0,0h31v11h-31Z\" pointer-events=\"none\" opacity=\"1\"></path><g><g class=\"mark-symbol role-legend-symbol\" pointer-events=\"none\"><path transform=\"translate(6,6)\" d=\"M-5,0L5,0\" stroke=\"#ffbb78\" stroke-width=\"1.5\" opacity=\"1\"></path></g><g class=\"mark-text role-legend-label\" pointer-events=\"none\"><text text-anchor=\"start\" transform=\"translate(16,9)\" font-family=\"sans-serif\" font-size=\"10px\" fill=\"#000\" opacity=\"1\">PS</text></g></g><path class=\"foreground\" aria-hidden=\"true\" d=\"\" pointer-events=\"none\" display=\"none\"></path></g><g transform=\"translate(0,52)\"><path class=\"background\" aria-hidden=\"true\" d=\"M0,0h31v11h-31Z\" pointer-events=\"none\" opacity=\"1\"></path><g><g class=\"mark-symbol role-legend-symbol\" pointer-events=\"none\"><path transform=\"translate(6,6)\" d=\"M-5,0L5,0\" stroke=\"#2ca02c\" stroke-width=\"1.5\" opacity=\"1\"></path></g><g class=\"mark-text role-legend-label\" pointer-events=\"none\"><text text-anchor=\"start\" transform=\"translate(16,9)\" font-family=\"sans-serif\" font-size=\"10px\" fill=\"#000\" opacity=\"1\">PV</text></g></g><path class=\"foreground\" aria-hidden=\"true\" d=\"\" pointer-events=\"none\" display=\"none\"></path></g><g transform=\"translate(0,65)\"><path class=\"background\" aria-hidden=\"true\" d=\"M0,0h31v11h-31Z\" pointer-events=\"none\" opacity=\"1\"></path><g><g class=\"mark-symbol role-legend-symbol\" pointer-events=\"none\"><path transform=\"translate(6,6)\" d=\"M-5,0L5,0\" stroke=\"#98df8a\" stroke-width=\"1.5\" opacity=\"1\"></path></g><g class=\"mark-text role-legend-label\" pointer-events=\"none\"><text text-anchor=\"start\" transform=\"translate(16,9)\" font-family=\"sans-serif\" font-size=\"10px\" fill=\"#000\" opacity=\"1\">WT</text></g></g><path class=\"foreground\" aria-hidden=\"true\" d=\"\" pointer-events=\"none\" display=\"none\"></path></g></g></g><path class=\"foreground\" aria-hidden=\"true\" d=\"\" pointer-events=\"none\" display=\"none\"></path></g></g><g class=\"mark-text role-legend-title\" pointer-events=\"none\"><text text-anchor=\"start\" transform=\"translate(0,9)\" font-family=\"sans-serif\" font-size=\"11px\" font-weight=\"bold\" fill=\"#000\" opacity=\"1\">resource</text></g></g><path class=\"foreground\" aria-hidden=\"true\" d=\"\" pointer-events=\"none\" display=\"none\"></path></g></g></g><path class=\"foreground\" aria-hidden=\"true\" d=\"\" display=\"none\"></path></g></g></g></svg>\n"
      ],
      "text/plain": [
       "@vlplot(\n",
       "    mark=\"line\",\n",
       "    encoding={\n",
       "        x={\n",
       "            field=\"hour\"\n",
       "        },\n",
       "        y={\n",
       "            field=\"gen_sum\"\n",
       "        },\n",
       "        color={\n",
       "            scale={\n",
       "                scheme=\"category20\"\n",
       "            },\n",
       "            field=\"resource\",\n",
       "            type=\"nominal\"\n",
       "        }\n",
       "    },\n",
       "    data={\n",
       "        values=...\n",
       "    }\n",
       ")"
      ]
     },
     "execution_count": 45,
     "metadata": {},
     "output_type": "execute_result"
    }
   ],
   "source": [
    "sol_gen |>\n",
    "@vlplot(:line, \n",
    "    x=:hour, y=:gen_sum, \n",
    "    color={\"resource:n\", scale={scheme=\"category20\"}})"
   ]
  },
  {
   "cell_type": "code",
   "execution_count": null,
   "id": "distinguished-mystery",
   "metadata": {},
   "outputs": [],
   "source": []
  }
 ],
 "metadata": {
  "kernelspec": {
   "display_name": "Julia 1.5.3",
   "language": "julia",
   "name": "julia-1.5"
  },
  "language_info": {
   "file_extension": ".jl",
   "mimetype": "application/julia",
   "name": "julia",
   "version": "1.5.3"
  }
 },
 "nbformat": 4,
 "nbformat_minor": 5
}
